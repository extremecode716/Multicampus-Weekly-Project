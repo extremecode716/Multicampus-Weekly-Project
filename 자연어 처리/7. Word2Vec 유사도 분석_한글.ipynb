{
 "cells": [
  {
   "cell_type": "code",
   "execution_count": 72,
   "id": "504bdc3d",
   "metadata": {},
   "outputs": [
    {
     "data": {
      "text/plain": [
       "'3.8.3'"
      ]
     },
     "execution_count": 72,
     "metadata": {},
     "output_type": "execute_result"
    }
   ],
   "source": [
    "import pandas as pd\n",
    "import matplotlib.pyplot as plt\n",
    "plt.rc('font', family='NanumGothic')\n",
    "plt.style.use('ggplot')\n",
    "plt.rc('font', size=15)\n",
    "\n",
    "from tqdm import tqdm_notebook\n",
    "\n",
    "from eunjeon import Mecab\n",
    "\n",
    "from gensim.models import Word2Vec\n",
    "from gensim.scripts.glove2word2vec import glove2word2vec\n",
    "import gensim\n",
    "gensim.__version__  # '3.8.3'\n",
    "\n",
    "from sklearn.decomposition import PCA"
   ]
  },
  {
   "cell_type": "code",
   "execution_count": 32,
   "id": "7a722e98",
   "metadata": {},
   "outputs": [],
   "source": [
    "import preprocess_kr"
   ]
  },
  {
   "cell_type": "code",
   "execution_count": 33,
   "id": "7e104df7",
   "metadata": {},
   "outputs": [],
   "source": [
    "pd.set_option('display.max_columns', 1000)\n",
    "pd.set_option('display.max_rows', 1000)"
   ]
  },
  {
   "cell_type": "code",
   "execution_count": 34,
   "id": "f13f5bc9",
   "metadata": {},
   "outputs": [],
   "source": [
    "import warnings\n",
    "warnings.filterwarnings('ignore')"
   ]
  },
  {
   "cell_type": "code",
   "execution_count": 35,
   "id": "40cec207",
   "metadata": {},
   "outputs": [],
   "source": [
    "# 전처리된 정제된 파일을 사용한다.\n",
    "df = pd.read_table('./data/kr_전지적 독자 시점_episode_total_cleaned_list.txt', header =None)"
   ]
  },
  {
   "cell_type": "code",
   "execution_count": 36,
   "id": "ef2ad0ab",
   "metadata": {},
   "outputs": [
    {
     "data": {
      "text/html": [
       "<div>\n",
       "<style scoped>\n",
       "    .dataframe tbody tr th:only-of-type {\n",
       "        vertical-align: middle;\n",
       "    }\n",
       "\n",
       "    .dataframe tbody tr th {\n",
       "        vertical-align: top;\n",
       "    }\n",
       "\n",
       "    .dataframe thead th {\n",
       "        text-align: right;\n",
       "    }\n",
       "</style>\n",
       "<table border=\"1\" class=\"dataframe\">\n",
       "  <thead>\n",
       "    <tr style=\"text-align: right;\">\n",
       "      <th></th>\n",
       "      <th>Review</th>\n",
       "    </tr>\n",
       "  </thead>\n",
       "  <tbody>\n",
       "    <tr>\n",
       "      <th>0</th>\n",
       "      <td>전설이 시작된다</td>\n",
       "    </tr>\n",
       "    <tr>\n",
       "      <th>1</th>\n",
       "      <td>전독시 소설은 안봤는데 이거 재밌움 웨툰은 일단 존잼</td>\n",
       "    </tr>\n",
       "    <tr>\n",
       "      <th>2</th>\n",
       "      <td>나는유중혁이다</td>\n",
       "    </tr>\n",
       "    <tr>\n",
       "      <th>3</th>\n",
       "      <td>소설은 완결났길래 이것도 완결 가까워지면 몰아보려고 하는데 지금 전개가 소설 몇화쯤인가요</td>\n",
       "    </tr>\n",
       "    <tr>\n",
       "      <th>4</th>\n",
       "      <td>정주행가는중</td>\n",
       "    </tr>\n",
       "  </tbody>\n",
       "</table>\n",
       "</div>"
      ],
      "text/plain": [
       "                                              Review\n",
       "0                                           전설이 시작된다\n",
       "1                      전독시 소설은 안봤는데 이거 재밌움 웨툰은 일단 존잼\n",
       "2                                            나는유중혁이다\n",
       "3  소설은 완결났길래 이것도 완결 가까워지면 몰아보려고 하는데 지금 전개가 소설 몇화쯤인가요\n",
       "4                                             정주행가는중"
      ]
     },
     "execution_count": 36,
     "metadata": {},
     "output_type": "execute_result"
    }
   ],
   "source": [
    "df.columns = ['Review']\n",
    "df.head()"
   ]
  },
  {
   "cell_type": "markdown",
   "id": "fcef3510",
   "metadata": {},
   "source": [
    "# mecab 토큰화 및 불용어 제거"
   ]
  },
  {
   "cell_type": "code",
   "execution_count": 94,
   "id": "f9a36a2d",
   "metadata": {},
   "outputs": [],
   "source": [
    "def get_tokenized_data(df):\n",
    "    \"\"\"\n",
    "    mecab 형태소 분석기를 이용하여 토큰화 및 불용어 제거하는 함수¶\n",
    "    \"\"\"\n",
    "    \n",
    "    # 불용어 생성\n",
    "    stopwords = preprocess_kr.make_stop_words()\n",
    "\n",
    "    # mecab 형태소 분석기 객체 생성 \n",
    "    mecab = Mecab()\n",
    "\n",
    "    # 결과 리스트\n",
    "    tokenized_data = []\n",
    "\n",
    "    # 원래 진행하고자했던 반복문 for i in range(100)에서 'in' 뒤에 문장을 tqdm()으로 감싸주면 진행 상황이 bar로 표현된다.\n",
    "    # tqdm_notebook 은 tqdm 의 Jupiter Notebook version, progress bar가 예쁘다.\n",
    "    for sentence in tqdm_notebook(df['Review']):\n",
    "        tokenized_sentence = mecab.morphs(sentence) # mecab 문장 토큰화\n",
    "\n",
    "        stopwords_removed_sentence = [word for word in tokenized_sentence if not word in stopwords] # 불용어 제거    \n",
    "        stopwords_removed_sentence = [word for word in stopwords_removed_sentence if len(word) > 1] # 한글자 제거\n",
    "\n",
    "        tokenized_data.append(stopwords_removed_sentence)\n",
    "        \n",
    "    return tokenized_data\n",
    "\n",
    "def show_review_info(tokenized_data):\n",
    "    \"\"\"\n",
    "    리뷰 길이 분포 확인 함수\n",
    "    \"\"\"\n",
    "    print('리뷰의 최대 길이 :',max(len(review) for review in tokenized_data))\n",
    "    print('리뷰의 평균 길이 :',sum(map(len, tokenized_data))/len(tokenized_data))\n",
    "    plt.hist([len(review) for review in tokenized_data], bins=50)\n",
    "    plt.xlabel('length of samples')\n",
    "    plt.ylabel('number of samples')\n",
    "    plt.show()\n",
    "    \n",
    "def get_model_wv(tokenized_data):\n",
    "    \"\"\"\n",
    "    토큰화된 데이터를 Word2Vec 알고리즘을 학습시켜 모델을 반환하는 함수\n",
    "    \"\"\"\n",
    "    # Word2Vec으로 토큰화된 tokenized_data를 학습\n",
    "    from gensim.models import Word2Vec\n",
    "    # gensim 4.2 vector_size\n",
    "    # gensim 3.8.3 size\n",
    "    model = Word2Vec(sentences = tokenized_data, size = 100, window = 5, min_count = 5, workers = 4, sg = 0)\n",
    "    \n",
    "    # Word2Vec 임베딩 행렬의 크기를 확인\n",
    "    print(\"model.wv.vectors.shape: \",model.wv.vectors.shape)\n",
    "    \n",
    "    return model    \n",
    "\n",
    "def print_most_similar_words(model, words_list): \n",
    "    \"\"\"\n",
    "    특정단어 리스트를 입력받아 유사도를 출력하는 함수\n",
    "    \"\"\"\n",
    "    for keyword in words_list:        \n",
    "        print('[', keyword, '] 와 관련있는 단어들 :' , model.wv.most_similar(keyword))\n",
    "        print()\n",
    "        \n",
    "def get_similarity_btw_two_words(model, w1,w2):\n",
    "    \"\"\"\n",
    "    단어간 유사도 확인 함수\n",
    "    \"\"\"\n",
    "    \n",
    "    # 모델로부터 단어벡터를 구한다.\n",
    "    word_vectors = model.wv\n",
    "    \n",
    "    vocabs = word_vectors.vocab.keys()\n",
    "    word_vectors_list = [word_vectors[v] for v in vocabs]\n",
    "\n",
    "    # 단어간 유사도를 반환\n",
    "    return word_vectors.similarity(w1, w2)\n",
    "        \n",
    "def get_similarity_df(keyword):\n",
    "    \"\"\"\n",
    "    특정 키워드를 입력받아 관련있는 단어를 찾고 유사도를 구하는 함수\n",
    "    \"\"\"\n",
    "    similar_word = model.wv.most_similar(keyword)\n",
    "    similar_word_df = pd.DataFrame(similar_word)\n",
    "    similar_word_df.columns=[\"유사단어\",\"유사도\"]\n",
    "    similar_word_df\n",
    "    return similar_word_df   \n",
    "\n",
    "def plot_2d_graph(vocabs, xs, ys):\n",
    "    \"\"\"\n",
    "    단어와 2차원 X축의 값, Y축의 값을 입력받아 2차원 그래프를 그리는 함수\n",
    "    \"\"\"\n",
    "    plt.figure(figsize=(10,10))\n",
    "    plt.scatter(xs, ys, marker = 'o')\n",
    "    for i, v in enumerate(vocabs):\n",
    "        plt.annotate(v, xy=(xs[i], ys[i]))    \n",
    "        \n",
    "def reduce_dimension_PCA(word_vectors_list):\n",
    "    \"\"\"\n",
    "    PCA를 이용하여 차원을 축소하는 함수\n",
    "    \"\"\"\n",
    "    pca = PCA(n_components=2)\n",
    "    xys = pca.fit_transform(word_vectors_list[:10])\n",
    "    xs = xys[:,0]\n",
    "    ys = xys[:,1]\n",
    "    return xs, ys        "
   ]
  },
  {
   "cell_type": "markdown",
   "id": "57934482",
   "metadata": {},
   "source": [
    "# 1. 토큰화"
   ]
  },
  {
   "cell_type": "code",
   "execution_count": 39,
   "id": "e2027124",
   "metadata": {},
   "outputs": [
    {
     "name": "stdout",
     "output_type": "stream",
     "text": [
      "stop_words made\n"
     ]
    },
    {
     "data": {
      "application/vnd.jupyter.widget-view+json": {
       "model_id": "b68ea4cb23c1436fbecc30f45e04f9e0",
       "version_major": 2,
       "version_minor": 0
      },
      "text/plain": [
       "  0%|          | 0/553692 [00:00<?, ?it/s]"
      ]
     },
     "metadata": {},
     "output_type": "display_data"
    },
    {
     "data": {
      "text/plain": [
       "[['전설', '시작'],\n",
       " ['독시', '소설'],\n",
       " ['유중'],\n",
       " ['소설', '완결', '완결', '가까워', '전개', '소설'],\n",
       " ['정주', '행가'],\n",
       " ['독시', '웹툰', '소설', '그림', '별론데', '그림', '체고', '독시', '만들', '함하', '사랑'],\n",
       " ['작가', '결말'],\n",
       " ['전독',\n",
       "  '댓글',\n",
       "  '당하',\n",
       "  '댓글',\n",
       "  '들어온',\n",
       "  '화면',\n",
       "  '확인',\n",
       "  '수가',\n",
       "  '답글',\n",
       "  '제외',\n",
       "  '답글',\n",
       "  '유독',\n",
       "  '답글',\n",
       "  '보인다면',\n",
       "  '내용',\n",
       "  '차단',\n",
       "  '도록',\n",
       "  '개꿀',\n",
       "  '기억',\n",
       "  '기분',\n",
       "  '망치',\n",
       "  '전체',\n",
       "  '댓글',\n",
       "  '수로',\n",
       "  '구분',\n",
       "  '으므로',\n",
       "  '장합'],\n",
       " ['독자', '못생긴', '설정'],\n",
       " ['정주', '시작']]"
      ]
     },
     "execution_count": 39,
     "metadata": {},
     "output_type": "execute_result"
    }
   ],
   "source": [
    "tokenized_data = get_tokenized_data(df)\n",
    "tokenized_data[:10]"
   ]
  },
  {
   "cell_type": "markdown",
   "id": "a72e472d",
   "metadata": {},
   "source": [
    "# 2. 댓글 정보 확인"
   ]
  },
  {
   "cell_type": "code",
   "execution_count": 45,
   "id": "24f30bb8",
   "metadata": {},
   "outputs": [
    {
     "name": "stdout",
     "output_type": "stream",
     "text": [
      "리뷰의 최대 길이 : 250\n",
      "리뷰의 평균 길이 : 4.3016767444716555\n"
     ]
    },
    {
     "data": {
      "image/png": "[encoded data removed]",
      "text/plain": [
       "<Figure size 432x288 with 1 Axes>"
      ]
     },
     "metadata": {
      "needs_background": "light"
     },
     "output_type": "display_data"
    }
   ],
   "source": [
    "show_review_info(tokenized_data)"
   ]
  },
  {
   "cell_type": "markdown",
   "id": "ef19d3b7",
   "metadata": {},
   "source": [
    "# 3. tokenized_data로 모델을 학습"
   ]
  },
  {
   "cell_type": "code",
   "execution_count": 46,
   "id": "a3565597",
   "metadata": {},
   "outputs": [
    {
     "name": "stdout",
     "output_type": "stream",
     "text": [
      "model.wv.vectors.shape:  (21323, 100)\n"
     ]
    }
   ],
   "source": [
    "model = get_model_wv(tokenized_data)"
   ]
  },
  {
   "cell_type": "code",
   "execution_count": 47,
   "id": "c4829b93",
   "metadata": {},
   "outputs": [],
   "source": [
    "# 모델을 저장한다.\n",
    "model.save('word2vec.model')\n",
    " \n",
    "# 저장한 모델을 읽어온다.\n",
    "model = Word2Vec.load('word2vec.model')"
   ]
  },
  {
   "cell_type": "markdown",
   "id": "bb06fa12",
   "metadata": {},
   "source": [
    "# 4. 유사단어 검색"
   ]
  },
  {
   "cell_type": "code",
   "execution_count": 55,
   "id": "6d63880d",
   "metadata": {},
   "outputs": [
    {
     "name": "stdout",
     "output_type": "stream",
     "text": [
      "[ 독자 ] 와 관련있는 단어들 : [('침착', 0.5694243907928467), ('독주', 0.5642824769020081), ('이수경', 0.5599619150161743), ('위로', 0.559868335723877), ('유중', 0.554161548614502), ('살아난', 0.5440741777420044), ('살아나', 0.5431872606277466), ('의지', 0.5323842167854309), ('일행', 0.52546226978302), ('초점', 0.5192813873291016)]\n",
      "\n",
      "[ 소설 ] 와 관련있는 단어들 : [('원작', 0.783042311668396), ('완독', 0.6916880011558533), ('워낙', 0.6858994960784912), ('새롭', 0.6586625576019287), ('따라가', 0.6547131538391113), ('아무래도', 0.6529232263565063), ('아쉬운', 0.6500277519226074), ('지루', 0.649256706237793), ('재미', 0.645474910736084), ('봤었', 0.6419855356216431)]\n",
      "\n",
      "[ 작가 ] 와 관련있는 단어들 : [('작업', 0.6657629609107971), ('신가요', 0.6632475256919861), ('리티', 0.6477935910224915), ('건강', 0.6444308757781982), ('힘드실', 0.640278160572052), ('슬리피', 0.6371983289718628), ('원작자', 0.6330706477165222), ('계신', 0.6255283355712891), ('오래오래', 0.6193499565124512), ('수익', 0.6135528087615967)]\n",
      "\n",
      "[ 그림 ] 와 관련있는 단어들 : [('작화', 0.7689207792282104), ('신다', 0.7156005501747131), ('필력', 0.6850571036338806), ('실력', 0.6773924827575684), ('고퀄', 0.6770636439323425), ('구현', 0.6703112125396729), ('표현력', 0.6682583689689636), ('채색', 0.661019504070282), ('체가', 0.658122181892395), ('역량', 0.6470128297805786)]\n",
      "\n",
      "[ 연출 ] 와 관련있는 단어들 : [('연출력', 0.7872167825698853), ('표현력', 0.7857688665390015), ('재현', 0.7419663071632385), ('표현', 0.7384584546089172), ('액션', 0.7364901304244995), ('디테일', 0.7287371158599854), ('구현', 0.7262870669364929), ('구도', 0.716856062412262), ('감정선', 0.712912917137146), ('개지', 0.7082676887512207)]\n",
      "\n",
      "[ 주인공 ] 와 관련있는 단어들 : [('악당', 0.6736835241317749), ('먼치킨', 0.6379876136779785), ('버프', 0.6295120716094971), ('조연', 0.6213287711143494), ('사이코패스', 0.612734854221344), ('치킨', 0.6077014207839966), ('보통', 0.5979927778244019), ('영웅담', 0.5949850082397461), ('주연', 0.5914144515991211), ('남주', 0.5877742767333984)]\n",
      "\n",
      "[ 캐릭터 ] 와 관련있는 단어들 : [('캐릭', 0.8605443239212036), ('개성', 0.7727872133255005), ('주연', 0.7679370641708374), ('조연', 0.7486093044281006), ('매력', 0.7296010255813599), ('나름', 0.7201996445655823), ('입체', 0.6433963775634766), ('보일', 0.6329970359802246), ('신선', 0.632110595703125), ('굉장히', 0.6259398460388184)]\n",
      "\n",
      "[ 원작 ] 와 관련있는 단어들 : [('워낙', 0.8008321523666382), ('소설', 0.7830422520637512), ('각색', 0.7580630779266357), ('따라가', 0.7214452028274536), ('아무래도', 0.6864641904830933), ('아쉬운', 0.6857380867004395), ('장점', 0.6575042009353638), ('웹툰', 0.6569726467132568), ('비교', 0.6550991535186768), ('구현', 0.6532785296440125)]\n",
      "\n",
      "[ 작화 ] 와 관련있는 단어들 : [('퀄리티', 0.8190504312515259), ('연출력', 0.8177770376205444), ('채색', 0.7851892709732056), ('액션', 0.7749910354614258), ('퀄이', 0.770613431930542), ('그림', 0.7689207792282104), ('투신', 0.7557411193847656), ('표현력', 0.7469189167022705), ('묘사력', 0.7381260395050049), ('구성', 0.7362868785858154)]\n",
      "\n",
      "[ 스토리 ] 와 관련있는 단어들 : [('흐름', 0.7494217157363892), ('구성', 0.7481867074966431), ('흘러가', 0.7366418838500977), ('흥미', 0.7330892086029053), ('긴장감', 0.7282417416572571), ('깔끔', 0.724764883518219), ('지루', 0.7238283157348633), ('각색', 0.7227368354797363), ('전개', 0.7180119156837463), ('참신', 0.7174804210662842)]\n",
      "\n"
     ]
    }
   ],
   "source": [
    "words_list = ['독자', '소설', '작가', '그림', '연출', '주인공', '캐릭터', '원작', '작화', '스토리']\n",
    "print_most_similar_words(model, words_list)"
   ]
  },
  {
   "cell_type": "markdown",
   "id": "0063ca0f",
   "metadata": {},
   "source": [
    "#  5. 단어간 유사도 확인"
   ]
  },
  {
   "cell_type": "code",
   "execution_count": 90,
   "id": "5940f613",
   "metadata": {},
   "outputs": [
    {
     "data": {
      "text/plain": [
       "0.39833376"
      ]
     },
     "execution_count": 90,
     "metadata": {},
     "output_type": "execute_result"
    }
   ],
   "source": [
    "get_similarity_btw_two_words(model, '독자','수영')"
   ]
  },
  {
   "cell_type": "markdown",
   "id": "e370f894",
   "metadata": {},
   "source": [
    "# 6. 유사단어와 유사도를 데이터프레임으로 확인"
   ]
  },
  {
   "cell_type": "code",
   "execution_count": 91,
   "id": "e8f38f54",
   "metadata": {},
   "outputs": [
    {
     "data": {
      "text/html": [
       "<div>\n",
       "<style scoped>\n",
       "    .dataframe tbody tr th:only-of-type {\n",
       "        vertical-align: middle;\n",
       "    }\n",
       "\n",
       "    .dataframe tbody tr th {\n",
       "        vertical-align: top;\n",
       "    }\n",
       "\n",
       "    .dataframe thead th {\n",
       "        text-align: right;\n",
       "    }\n",
       "</style>\n",
       "<table border=\"1\" class=\"dataframe\">\n",
       "  <thead>\n",
       "    <tr style=\"text-align: right;\">\n",
       "      <th></th>\n",
       "      <th>유사단어</th>\n",
       "      <th>유사도</th>\n",
       "    </tr>\n",
       "  </thead>\n",
       "  <tbody>\n",
       "    <tr>\n",
       "      <th>0</th>\n",
       "      <td>흐름</td>\n",
       "      <td>0.749422</td>\n",
       "    </tr>\n",
       "    <tr>\n",
       "      <th>1</th>\n",
       "      <td>구성</td>\n",
       "      <td>0.748187</td>\n",
       "    </tr>\n",
       "    <tr>\n",
       "      <th>2</th>\n",
       "      <td>흘러가</td>\n",
       "      <td>0.736642</td>\n",
       "    </tr>\n",
       "    <tr>\n",
       "      <th>3</th>\n",
       "      <td>흥미</td>\n",
       "      <td>0.733089</td>\n",
       "    </tr>\n",
       "    <tr>\n",
       "      <th>4</th>\n",
       "      <td>긴장감</td>\n",
       "      <td>0.728242</td>\n",
       "    </tr>\n",
       "    <tr>\n",
       "      <th>5</th>\n",
       "      <td>깔끔</td>\n",
       "      <td>0.724765</td>\n",
       "    </tr>\n",
       "    <tr>\n",
       "      <th>6</th>\n",
       "      <td>지루</td>\n",
       "      <td>0.723828</td>\n",
       "    </tr>\n",
       "    <tr>\n",
       "      <th>7</th>\n",
       "      <td>각색</td>\n",
       "      <td>0.722737</td>\n",
       "    </tr>\n",
       "    <tr>\n",
       "      <th>8</th>\n",
       "      <td>전개</td>\n",
       "      <td>0.718012</td>\n",
       "    </tr>\n",
       "    <tr>\n",
       "      <th>9</th>\n",
       "      <td>참신</td>\n",
       "      <td>0.717480</td>\n",
       "    </tr>\n",
       "  </tbody>\n",
       "</table>\n",
       "</div>"
      ],
      "text/plain": [
       "  유사단어       유사도\n",
       "0   흐름  0.749422\n",
       "1   구성  0.748187\n",
       "2  흘러가  0.736642\n",
       "3   흥미  0.733089\n",
       "4  긴장감  0.728242\n",
       "5   깔끔  0.724765\n",
       "6   지루  0.723828\n",
       "7   각색  0.722737\n",
       "8   전개  0.718012\n",
       "9   참신  0.717480"
      ]
     },
     "execution_count": 91,
     "metadata": {},
     "output_type": "execute_result"
    }
   ],
   "source": [
    "similar_word_df = get_similarity_df('스토리')\n",
    "similar_word_df"
   ]
  },
  {
   "cell_type": "markdown",
   "id": "596a8f66",
   "metadata": {},
   "source": [
    "# 7. PCA 차원 축소 및 유사도 시각화"
   ]
  },
  {
   "cell_type": "code",
   "execution_count": 95,
   "id": "67ad4679",
   "metadata": {},
   "outputs": [
    {
     "ename": "IndexError",
     "evalue": "index 10 is out of bounds for axis 0 with size 10",
     "output_type": "error",
     "traceback": [
      "\u001b[1;31m---------------------------------------------------------------------------\u001b[0m",
      "\u001b[1;31mIndexError\u001b[0m                                Traceback (most recent call last)",
      "\u001b[1;32m<ipython-input-95-518a640b8aa5>\u001b[0m in \u001b[0;36m<module>\u001b[1;34m\u001b[0m\n\u001b[0;32m      1\u001b[0m \u001b[0mxs\u001b[0m\u001b[1;33m,\u001b[0m \u001b[0mys\u001b[0m \u001b[1;33m=\u001b[0m \u001b[0mreduce_dimension_PCA\u001b[0m\u001b[1;33m(\u001b[0m\u001b[0mword_vectors_list\u001b[0m\u001b[1;33m)\u001b[0m\u001b[1;33m\u001b[0m\u001b[1;33m\u001b[0m\u001b[0m\n\u001b[1;32m----> 2\u001b[1;33m \u001b[0mplot_2d_graph\u001b[0m\u001b[1;33m(\u001b[0m\u001b[0mvocabs\u001b[0m\u001b[1;33m,\u001b[0m \u001b[0mxs\u001b[0m\u001b[1;33m,\u001b[0m \u001b[0mys\u001b[0m\u001b[1;33m)\u001b[0m\u001b[1;33m\u001b[0m\u001b[1;33m\u001b[0m\u001b[0m\n\u001b[0m",
      "\u001b[1;32m<ipython-input-94-eeb75cd21746>\u001b[0m in \u001b[0;36mplot_2d_graph\u001b[1;34m(vocabs, xs, ys)\u001b[0m\n\u001b[0;32m     90\u001b[0m     \u001b[0mplt\u001b[0m\u001b[1;33m.\u001b[0m\u001b[0mscatter\u001b[0m\u001b[1;33m(\u001b[0m\u001b[0mxs\u001b[0m\u001b[1;33m,\u001b[0m \u001b[0mys\u001b[0m\u001b[1;33m,\u001b[0m \u001b[0mmarker\u001b[0m \u001b[1;33m=\u001b[0m \u001b[1;34m'o'\u001b[0m\u001b[1;33m)\u001b[0m\u001b[1;33m\u001b[0m\u001b[1;33m\u001b[0m\u001b[0m\n\u001b[0;32m     91\u001b[0m     \u001b[1;32mfor\u001b[0m \u001b[0mi\u001b[0m\u001b[1;33m,\u001b[0m \u001b[0mv\u001b[0m \u001b[1;32min\u001b[0m \u001b[0menumerate\u001b[0m\u001b[1;33m(\u001b[0m\u001b[0mvocabs\u001b[0m\u001b[1;33m)\u001b[0m\u001b[1;33m:\u001b[0m\u001b[1;33m\u001b[0m\u001b[1;33m\u001b[0m\u001b[0m\n\u001b[1;32m---> 92\u001b[1;33m         \u001b[0mplt\u001b[0m\u001b[1;33m.\u001b[0m\u001b[0mannotate\u001b[0m\u001b[1;33m(\u001b[0m\u001b[0mv\u001b[0m\u001b[1;33m,\u001b[0m \u001b[0mxy\u001b[0m\u001b[1;33m=\u001b[0m\u001b[1;33m(\u001b[0m\u001b[0mxs\u001b[0m\u001b[1;33m[\u001b[0m\u001b[0mi\u001b[0m\u001b[1;33m]\u001b[0m\u001b[1;33m,\u001b[0m \u001b[0mys\u001b[0m\u001b[1;33m[\u001b[0m\u001b[0mi\u001b[0m\u001b[1;33m]\u001b[0m\u001b[1;33m)\u001b[0m\u001b[1;33m)\u001b[0m\u001b[1;33m\u001b[0m\u001b[1;33m\u001b[0m\u001b[0m\n\u001b[0m\u001b[0;32m     93\u001b[0m \u001b[1;33m\u001b[0m\u001b[0m\n\u001b[0;32m     94\u001b[0m \u001b[1;32mdef\u001b[0m \u001b[0mreduce_dimension_PCA\u001b[0m\u001b[1;33m(\u001b[0m\u001b[0mword_vectors_list\u001b[0m\u001b[1;33m)\u001b[0m\u001b[1;33m:\u001b[0m\u001b[1;33m\u001b[0m\u001b[1;33m\u001b[0m\u001b[0m\n",
      "\u001b[1;31mIndexError\u001b[0m: index 10 is out of bounds for axis 0 with size 10"
     ]
    },
    {
     "data": {
      "image/png": "[encoded data removed]",
      "text/plain": [
       "<Figure size 720x720 with 1 Axes>"
      ]
     },
     "metadata": {},
     "output_type": "display_data"
    }
   ],
   "source": [
    "xs, ys = reduce_dimension_PCA(word_vectors_list)\n",
    "plot_2d_graph(vocabs, xs, ys)"
   ]
  }
 ],
 "metadata": {
  "kernelspec": {
   "display_name": "nlp",
   "language": "python",
   "name": "nlp"
  },
  "language_info": {
   "codemirror_mode": {
    "name": "ipython",
    "version": 3
   },
   "file_extension": ".py",
   "mimetype": "text/x-python",
   "name": "python",
   "nbconvert_exporter": "python",
   "pygments_lexer": "ipython3",
   "version": "3.8.8"
  }
 },
 "nbformat": 4,
 "nbformat_minor": 5
}
