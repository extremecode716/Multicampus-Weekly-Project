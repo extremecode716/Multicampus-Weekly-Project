{
 "cells": [
  {
   "cell_type": "code",
   "execution_count": 15,
   "metadata": {
    "id": "4amJRvDL6l-7"
   },
   "outputs": [],
   "source": [
    "from wordcloud import WordCloud\n",
    "import matplotlib.pyplot as plt\n",
    "from collections import Counter\n",
    "from PIL import Image\n",
    "import numpy as np\n",
    "import pandas as pd\n",
    "from tqdm import tqdm\n",
    "import re\n",
    "import pickle\n",
    "import csv\n",
    "import pandas as pd\n",
    "from pandas import DataFrame \n",
    "import numpy as np\n",
    "from nltk.tokenize import word_tokenize, sent_tokenize\n",
    "from nltk.tag import pos_tag\n",
    "from nltk.corpus import stopwords \n",
    "from nltk.tag import pos_tag\n",
    "import sys\n",
    "import unicodedata\n",
    "from bs4 import BeautifulSoup\n",
    "\n",
    "from konlpy.tag import Okt"
   ]
  },
  {
   "cell_type": "code",
   "execution_count": 2,
   "metadata": {
    "id": "0kiU8C8ZAeTv"
   },
   "outputs": [],
   "source": [
    "from tqdm import tqdm_notebook\n",
    "from gensim.models import Word2Vec"
   ]
  },
  {
   "cell_type": "code",
   "execution_count": 3,
   "metadata": {
    "colab": {
     "base_uri": "https://localhost:8080/"
    },
    "id": "ke8g_7HkBElC",
    "outputId": "f19a510d-9389-4f62-dd42-d5b588521899"
   },
   "outputs": [
    {
     "name": "stderr",
     "output_type": "stream",
     "text": [
      "[nltk_data] Downloading package stopwords to\n",
      "[nltk_data]     C:\\Users\\iamsu\\AppData\\Roaming\\nltk_data...\n",
      "[nltk_data]   Package stopwords is already up-to-date!\n"
     ]
    },
    {
     "data": {
      "text/plain": [
       "True"
      ]
     },
     "execution_count": 3,
     "metadata": {},
     "output_type": "execute_result"
    }
   ],
   "source": [
    "import nltk\n",
    "nltk.download('stopwords')"
   ]
  },
  {
   "cell_type": "code",
   "execution_count": 4,
   "metadata": {
    "colab": {
     "base_uri": "https://localhost:8080/"
    },
    "id": "mJF1aa1-CZzb",
    "outputId": "83c70215-f425-49f6-9ea1-3d37e63ceac5"
   },
   "outputs": [
    {
     "name": "stderr",
     "output_type": "stream",
     "text": [
      "[nltk_data] Downloading package punkt to\n",
      "[nltk_data]     C:\\Users\\iamsu\\AppData\\Roaming\\nltk_data...\n",
      "[nltk_data]   Package punkt is already up-to-date!\n"
     ]
    },
    {
     "data": {
      "text/plain": [
       "True"
      ]
     },
     "execution_count": 4,
     "metadata": {},
     "output_type": "execute_result"
    }
   ],
   "source": [
    "import nltk\n",
    "nltk.download('punkt')"
   ]
  },
  {
   "cell_type": "code",
   "execution_count": 5,
   "metadata": {
    "colab": {
     "base_uri": "https://localhost:8080/"
    },
    "id": "2CwHeHNtMpJy",
    "outputId": "5f4fcc54-5e5f-4c8a-b6a7-b39aeb4253a5"
   },
   "outputs": [
    {
     "name": "stderr",
     "output_type": "stream",
     "text": [
      "[nltk_data] Downloading package averaged_perceptron_tagger to\n",
      "[nltk_data]     C:\\Users\\iamsu\\AppData\\Roaming\\nltk_data...\n",
      "[nltk_data]   Package averaged_perceptron_tagger is already up-to-\n",
      "[nltk_data]       date!\n"
     ]
    },
    {
     "data": {
      "text/plain": [
       "True"
      ]
     },
     "execution_count": 5,
     "metadata": {},
     "output_type": "execute_result"
    }
   ],
   "source": [
    "import nltk\n",
    "nltk.download('averaged_perceptron_tagger')"
   ]
  },
  {
   "cell_type": "code",
   "execution_count": 6,
   "metadata": {
    "id": "FLG1vxSV9cml"
   },
   "outputs": [],
   "source": [
    "df = pd.read_csv(\"../크롤링/data/en/en_Omniscient Reader_episode_total.csv\")"
   ]
  },
  {
   "cell_type": "code",
   "execution_count": 7,
   "metadata": {
    "id": "hgnIVkem9sXU"
   },
   "outputs": [],
   "source": [
    "df = df[['Review']]"
   ]
  },
  {
   "cell_type": "code",
   "execution_count": 8,
   "metadata": {},
   "outputs": [
    {
     "data": {
      "text/html": [
       "<div>\n",
       "<style scoped>\n",
       "    .dataframe tbody tr th:only-of-type {\n",
       "        vertical-align: middle;\n",
       "    }\n",
       "\n",
       "    .dataframe tbody tr th {\n",
       "        vertical-align: top;\n",
       "    }\n",
       "\n",
       "    .dataframe thead th {\n",
       "        text-align: right;\n",
       "    }\n",
       "</style>\n",
       "<table border=\"1\" class=\"dataframe\">\n",
       "  <thead>\n",
       "    <tr style=\"text-align: right;\">\n",
       "      <th></th>\n",
       "      <th>Review</th>\n",
       "    </tr>\n",
       "  </thead>\n",
       "  <tbody>\n",
       "    <tr>\n",
       "      <th>0</th>\n",
       "      <td>This art is HONESTLY SPECTACULAR. Can't WAIT t...</td>\n",
       "    </tr>\n",
       "    <tr>\n",
       "      <th>1</th>\n",
       "      <td>IT'S HERE!!!</td>\n",
       "    </tr>\n",
       "    <tr>\n",
       "      <th>2</th>\n",
       "      <td>If he read the story over ten years, I hope he...</td>\n",
       "    </tr>\n",
       "    <tr>\n",
       "      <th>3</th>\n",
       "      <td>Yo this better become the next big action fant...</td>\n",
       "    </tr>\n",
       "    <tr>\n",
       "      <th>4</th>\n",
       "      <td>DONT SLEEP ON THIS, THIS IS A TOP TIER MANHWA</td>\n",
       "    </tr>\n",
       "  </tbody>\n",
       "</table>\n",
       "</div>"
      ],
      "text/plain": [
       "                                              Review\n",
       "0  This art is HONESTLY SPECTACULAR. Can't WAIT t...\n",
       "1                                       IT'S HERE!!!\n",
       "2  If he read the story over ten years, I hope he...\n",
       "3  Yo this better become the next big action fant...\n",
       "4      DONT SLEEP ON THIS, THIS IS A TOP TIER MANHWA"
      ]
     },
     "execution_count": 8,
     "metadata": {},
     "output_type": "execute_result"
    }
   ],
   "source": [
    "df.head()"
   ]
  },
  {
   "cell_type": "code",
   "execution_count": 16,
   "metadata": {},
   "outputs": [
    {
     "data": {
      "text/html": [
       "<div>\n",
       "<style scoped>\n",
       "    .dataframe tbody tr th:only-of-type {\n",
       "        vertical-align: middle;\n",
       "    }\n",
       "\n",
       "    .dataframe tbody tr th {\n",
       "        vertical-align: top;\n",
       "    }\n",
       "\n",
       "    .dataframe thead th {\n",
       "        text-align: right;\n",
       "    }\n",
       "</style>\n",
       "<table border=\"1\" class=\"dataframe\">\n",
       "  <thead>\n",
       "    <tr style=\"text-align: right;\">\n",
       "      <th></th>\n",
       "      <th>Review</th>\n",
       "    </tr>\n",
       "  </thead>\n",
       "  <tbody>\n",
       "    <tr>\n",
       "      <th>0</th>\n",
       "      <td>This art is HONESTLY SPECTACULAR. Can't WAIT t...</td>\n",
       "    </tr>\n",
       "    <tr>\n",
       "      <th>1</th>\n",
       "      <td>IT'S HERE!!!</td>\n",
       "    </tr>\n",
       "    <tr>\n",
       "      <th>2</th>\n",
       "      <td>If he read the story over ten years, I hope he...</td>\n",
       "    </tr>\n",
       "    <tr>\n",
       "      <th>3</th>\n",
       "      <td>Yo this better become the next big action fant...</td>\n",
       "    </tr>\n",
       "    <tr>\n",
       "      <th>4</th>\n",
       "      <td>DONT SLEEP ON THIS, THIS IS A TOP TIER MANHWA</td>\n",
       "    </tr>\n",
       "  </tbody>\n",
       "</table>\n",
       "</div>"
      ],
      "text/plain": [
       "                                              Review\n",
       "0  This art is HONESTLY SPECTACULAR. Can't WAIT t...\n",
       "1                                       IT'S HERE!!!\n",
       "2  If he read the story over ten years, I hope he...\n",
       "3  Yo this better become the next big action fant...\n",
       "4      DONT SLEEP ON THIS, THIS IS A TOP TIER MANHWA"
      ]
     },
     "execution_count": 16,
     "metadata": {},
     "output_type": "execute_result"
    }
   ],
   "source": [
    "df.columns = ['Review']\n",
    "df.head()"
   ]
  },
  {
   "cell_type": "markdown",
   "metadata": {},
   "source": [
    "# Okt 토큰화 및 불용어 제거"
   ]
  },
  {
   "cell_type": "code",
   "execution_count": 33,
   "metadata": {},
   "outputs": [
    {
     "data": {
      "text/plain": [
       "['This',\n",
       " 'art',\n",
       " 'is',\n",
       " 'HONESTLY',\n",
       " 'SPECTACULAR',\n",
       " '.',\n",
       " 'Can',\n",
       " \"'\",\n",
       " 't',\n",
       " 'WAIT',\n",
       " 'to',\n",
       " 'see',\n",
       " 'where',\n",
       " 'this',\n",
       " 'one',\n",
       " 'goes',\n",
       " '!!']"
      ]
     },
     "execution_count": 33,
     "metadata": {},
     "output_type": "execute_result"
    }
   ],
   "source": [
    "sentence = df['Review'][0]\n",
    "\n",
    "okt = Okt()\n",
    "okt.morphs(sentence,stem=True)"
   ]
  },
  {
   "cell_type": "code",
   "execution_count": 89,
   "metadata": {},
   "outputs": [],
   "source": [
    "def get_tokenized_data(df):\n",
    "    from eunjeon import Mecab\n",
    "    \"\"\"\n",
    "    Okt 형태소 분석기를 이용하여 토큰화 및 불용어 제거하는 함수¶\n",
    "    \"\"\"\n",
    "\n",
    "    # mecab 형태소 분석기 객체 생성 \n",
    "    okt = Okt()\n",
    "    #mecab = Mecab('C:/mecab/mecab-ko-dic')\n",
    "\n",
    "    # 결과 리스트\n",
    "    tokenized_data = []\n",
    "    \n",
    "#     stop_words = set(stopwords.words('english')) \n",
    "#     stop_words.update(['im'])    \n",
    "#     print(stop_words[:10])\n",
    "\n",
    "    # 원래 진행하고자했던 반복문 for i in range(100)에서 'in' 뒤에 문장을 tqdm()으로 감싸주면 진행 상황이 bar로 표현된다.\n",
    "    # tqdm_notebook 은 tqdm 의 Jupiter Notebook version, progress bar가 예쁘다.\n",
    "    for sentence in tqdm_notebook(df['Review']):\n",
    "        #print(sentence)\n",
    "        #tokenized_sentence = mecab.morphs(sentence) # mecab 문장 토큰화\n",
    "        tokenized_sentence = okt.morphs(sentence,stem=True)  # okt 문장 토큰화\n",
    "        \n",
    "        # 불용어 제거  \n",
    "        \n",
    "        result = []\n",
    "        for word in tokenized_sentence: \n",
    "            if word not in stop_words: \n",
    "                result.append(word) \n",
    "#         print('불용어 제거 전 :',tokenized_sentence) \n",
    "#         print('불용어 제거 후 :',result)        \n",
    "       \n",
    "         # 한글자 제거\n",
    "        stopwords_removed_sentence = [word for word in result if len(word) > 1]\n",
    "        tokenized_data.append(stopwords_removed_sentence)\n",
    "        \n",
    "    return tokenized_data"
   ]
  },
  {
   "cell_type": "code",
   "execution_count": 92,
   "metadata": {},
   "outputs": [],
   "source": [
    "def show_review_info(tokenized_data):\n",
    "    \"\"\"\n",
    "    리뷰 길이 분포 확인 함수\n",
    "    \"\"\"\n",
    "    print('리뷰의 최대 길이 :',max(len(review) for review in tokenized_data))\n",
    "    print('리뷰의 평균 길이 :',sum(map(len, tokenized_data))/len(tokenized_data))\n",
    "    plt.hist([len(review) for review in tokenized_data], bins=50)\n",
    "    plt.xlabel('length of samples')\n",
    "    plt.ylabel('number of samples')\n",
    "    plt.show()"
   ]
  },
  {
   "cell_type": "code",
   "execution_count": 90,
   "metadata": {},
   "outputs": [
    {
     "name": "stderr",
     "output_type": "stream",
     "text": [
      "<ipython-input-89-508dd6c7cfc0>:20: TqdmDeprecationWarning: This function will be removed in tqdm==5.0.0\n",
      "Please use `tqdm.notebook.tqdm` instead of `tqdm.tqdm_notebook`\n",
      "  for sentence in tqdm_notebook(df['Review']):\n"
     ]
    },
    {
     "data": {
      "application/vnd.jupyter.widget-view+json": {
       "model_id": "f7b83854529b4f85909b5f3e88567664",
       "version_major": 2,
       "version_minor": 0
      },
      "text/plain": [
       "  0%|          | 0/159351 [00:00<?, ?it/s]"
      ]
     },
     "metadata": {},
     "output_type": "display_data"
    },
    {
     "data": {
      "text/plain": [
       "[['This',\n",
       "  'art',\n",
       "  'HONESTLY',\n",
       "  'SPECTACULAR',\n",
       "  'Can',\n",
       "  'WAIT',\n",
       "  'see',\n",
       "  'one',\n",
       "  'goes',\n",
       "  '!!'],\n",
       " ['IT', 'HERE', '!!!'],\n",
       " ['If',\n",
       "  'read',\n",
       "  'story',\n",
       "  'ten',\n",
       "  'years',\n",
       "  'hope',\n",
       "  'still',\n",
       "  'remembers',\n",
       "  'early',\n",
       "  'stuff'],\n",
       " ['Yo',\n",
       "  'better',\n",
       "  'become',\n",
       "  'next',\n",
       "  'big',\n",
       "  'action',\n",
       "  'fantasy',\n",
       "  'series',\n",
       "  'WEBTOON',\n",
       "  'multiple',\n",
       "  'languages',\n",
       "  'everyone',\n",
       "  'reading'],\n",
       " ['DONT', 'SLEEP', 'ON', 'THIS', 'THIS', 'IS', 'TOP', 'TIER', 'MANHWA'],\n",
       " ['would',\n",
       "  'read',\n",
       "  '3,000',\n",
       "  'episode',\n",
       "  'webtoon',\n",
       "  '....',\n",
       "  'okay',\n",
       "  ':(',\n",
       "  'edit',\n",
       "  'omg',\n",
       "  'noticed',\n",
       "  'web',\n",
       "  'novel',\n",
       "  'thanks',\n",
       "  'everyone',\n",
       "  'telling'],\n",
       " ['This',\n",
       "  'one',\n",
       "  'popular',\n",
       "  'korean',\n",
       "  'webtoons',\n",
       "  'And',\n",
       "  'one',\n",
       "  'legendary',\n",
       "  'web',\n",
       "  'novels',\n",
       "  '!!!',\n",
       "  'Everyone',\n",
       "  'love'],\n",
       " ['simple', 'woman', 'saw', 'hot', 'guy', 'ad', 'Here'],\n",
       " ['Um', 'finish', 'gonna', 'happen', 'real', 'life', '0-0'],\n",
       " ['Reminds', 'Solo', 'Leveling', '!!']]"
      ]
     },
     "execution_count": 90,
     "metadata": {},
     "output_type": "execute_result"
    }
   ],
   "source": [
    "tokenized_data = get_tokenized_data(df)\n",
    "tokenized_data[:10]"
   ]
  },
  {
   "cell_type": "code",
   "execution_count": 93,
   "metadata": {},
   "outputs": [
    {
     "name": "stdout",
     "output_type": "stream",
     "text": [
      "리뷰의 최대 길이 : 118\n",
      "리뷰의 평균 길이 : 8.559337562989878\n"
     ]
    },
    {
     "data": {
      "image/png": "[encoded data removed]",
      "text/plain": [
       "<Figure size 432x288 with 1 Axes>"
      ]
     },
     "metadata": {
      "needs_background": "light"
     },
     "output_type": "display_data"
    }
   ],
   "source": [
    "show_review_info(tokenized_data)"
   ]
  },
  {
   "cell_type": "markdown",
   "metadata": {},
   "source": [
    "# NLTK 문장 토큰화 (Sentence Tokenization)"
   ]
  },
  {
   "cell_type": "code",
   "execution_count": null,
   "metadata": {},
   "outputs": [],
   "source": [
    "# sen_text = sent_tokenize(review1)\n",
    "# sen_text\n",
    "# #34분 소요...\n",
    "# sen_text = sent_tokenize(review)\n",
    "\n",
    "# normalized_text = []\n",
    "# for string in sen_text:\n",
    "#      tokens = re.sub(r\"[^a-z0-9]+\", \" \", string.lower())\n",
    "#      normalized_text.append(tokens)\n",
    "# # 각 문장에 대해서 구두점을 제거하고, 대문자를 소문자로 변환.\n",
    "\n",
    "# result = []\n",
    "# result = [word_tokenize(sentence) for sentence in normalized_text]\n",
    "# # 각 문장에 대해서 NLTK를 이용하여 단어 토큰화를 수행.\n",
    "\n",
    "# print(result)\n",
    "\n",
    "# stop_words = set(stopwords.words('english')) \n",
    "# stop_words.update(['im'])\n",
    "\n",
    "# all_tokens=[]\n",
    "# for s in result :\n",
    "#   filtered_words=[]\n",
    "#   for word in s:\n",
    "#     if word not in stop_words:\n",
    "#       filtered_words.append(word)\n",
    "#     all_tokens.append(filtered_words)\n",
    "\n",
    "# all_tokens"
   ]
  },
  {
   "cell_type": "code",
   "execution_count": 105,
   "metadata": {
    "id": "IVtbON12CrfW"
   },
   "outputs": [],
   "source": [
    "def get_model_wv(tokenized_data):\n",
    "    \"\"\"\n",
    "    토큰화된 데이터를 Word2Vec 알고리즘을 학습시켜 모델을 반환하는 함수\n",
    "    \"\"\"\n",
    "    # Word2Vec으로 토큰화된 tokenized_data를 학습\n",
    "    # gensim 4.2 vector_size\n",
    "    # gensim 3.8.3 size\n",
    "    model = Word2Vec(sentences = tokenized_data, size = 200, window = 5, min_count = 50, workers = 4, sg = 1)\n",
    "    \n",
    "    # Word2Vec 임베딩 행렬의 크기를 확인\n",
    "    print(\"model.wv.vectors.shape: \",model.wv.vectors.shape)\n",
    "    \n",
    "    return model"
   ]
  },
  {
   "cell_type": "code",
   "execution_count": 106,
   "metadata": {
    "colab": {
     "base_uri": "https://localhost:8080/"
    },
    "id": "eTAnJ3_pDK3t",
    "outputId": "9cca61d0-3e5f-4039-8541-e71537eb8406"
   },
   "outputs": [
    {
     "name": "stdout",
     "output_type": "stream",
     "text": [
      "model.wv.vectors.shape:  (3270, 200)\n"
     ]
    }
   ],
   "source": [
    "model = get_model_wv(tokenized_data)"
   ]
  },
  {
   "cell_type": "code",
   "execution_count": 107,
   "metadata": {
    "id": "3bSvo-mWDX_o"
   },
   "outputs": [],
   "source": [
    "# 모델을 저장한다.\n",
    "model.save('word2vec.model')\n",
    " \n",
    "# 저장한 모델을 읽어온다.\n",
    "model = Word2Vec.load('word2vec.model')"
   ]
  },
  {
   "cell_type": "code",
   "execution_count": 108,
   "metadata": {
    "id": "XHwzINkyD3xG"
   },
   "outputs": [],
   "source": [
    "def print_most_similar_words(model, words_list): \n",
    "    \"\"\"\n",
    "    특정단어 리스트를 입력받아 유사도를 출력하는 함수\n",
    "    \"\"\"\n",
    "    similar_words = []\n",
    "    for keyword in words_list:        \n",
    "        items = model.wv.most_similar(keyword)\n",
    "        print('[', keyword, '] 와 관련있는 단어들 :' , items)\n",
    "        print()\n",
    "        similar_words.append(items)\n",
    "    return similar_words"
   ]
  },
  {
   "cell_type": "code",
   "execution_count": 111,
   "metadata": {
    "colab": {
     "base_uri": "https://localhost:8080/"
    },
    "id": "hbOKjMRCDe0E",
    "outputId": "141bfaf3-66f6-4238-8c45-f3d6cdfc0e65"
   },
   "outputs": [
    {
     "name": "stdout",
     "output_type": "stream",
     "text": [
      "[ novel ] 와 관련있는 단어들 : [('webnovel', 0.7849986553192139), ('LN', 0.6674995422363281), ('Webnovel', 0.6516954302787781), ('toon', 0.6132799983024597), ('Novel', 0.611412763595581), ('551', 0.5879897475242615), ('novels', 0.582955539226532), ('web', 0.5822767019271851), ('recently', 0.5732464790344238), ('site', 0.5713742971420288)]\n",
      "\n",
      "[ author ] 와 관련있는 단어들 : [('writer', 0.7259407043457031), ('creator', 0.7142022848129272), ('Author', 0.6498614549636841), ('contest', 0.5885963439941406), ('plagiarized', 0.5523566007614136), ('creating', 0.5505802631378174), ('wrote', 0.5417446494102478), ('authors', 0.5404555797576904), ('whoever', 0.5196096301078796), ('info', 0.5032327771186829)]\n",
      "\n",
      "[ character ] 와 관련있는 단어들 : [('lead', 0.6635228395462036), ('protag', 0.6365395188331604), ('cast', 0.6239707469940186), ('antagonist', 0.6228163838386536), ('characters', 0.608352541923523), ('Character', 0.6003177165985107), ('main', 0.5970306396484375), ('morally', 0.5785837173461914), ('protagonists', 0.5697839856147766), ('villain', 0.5665583610534668)]\n",
      "\n",
      "[ original ] 와 관련있는 단어들 : [('accurate', 0.7445765733718872), ('source', 0.7429407835006714), ('changes', 0.7192486524581909), ('changing', 0.6982008218765259), ('based', 0.6931822299957275), ('actual', 0.686937689781189), ('originally', 0.6778994798660278), ('stick', 0.673425555229187), ('Webnovel', 0.6698883771896362), ('terms', 0.6638117432594299)]\n",
      "\n",
      "[ play ] 와 관련있는 단어들 : [('plays', 0.6561141014099121), ('played', 0.6468111276626587), ('video', 0.6383251547813416), ('capture', 0.6341180801391602), ('game', 0.6300707459449768), ('role', 0.6045308113098145), ('playing', 0.5979287624359131), ('extreme', 0.5975383520126343), ('reverse', 0.590146005153656), ('adventure', 0.572691798210144)]\n",
      "\n",
      "[ picture ] 와 관련있는 단어들 : [('color', 0.7620545029640198), ('fresh', 0.7262474894523621), ('image', 0.7261928915977478), ('beautifully', 0.713354229927063), ('scenes', 0.7105355262756348), ('treat', 0.710079550743103), ('tension', 0.7086957097053528), ('frame', 0.7075860500335693), ('wallpaper', 0.7059073448181152), ('Seeing', 0.695586621761322)]\n",
      "\n",
      "[ story ] 와 관련있는 단어들 : [('storyline', 0.6978542804718018), ('Story', 0.6509769558906555), ('webcomic', 0.6455368995666504), ('concept', 0.6374537944793701), ('intriguing', 0.609031617641449), ('twists', 0.6043883562088013), ('adventure', 0.6015135049819946), ('Everything', 0.5996872186660767), ('journey', 0.5976614952087402), ('creative', 0.5848939418792725)]\n",
      "\n",
      "[ description ] 와 관련있는 단어들 : [('accurate', 0.8007329702377319), ('context', 0.7383286952972412), ('terms', 0.7344189882278442), ('kingless', 0.7240325808525085), ('prefer', 0.7215276956558228), ('Kingless', 0.7215060591697693), ('Immortal', 0.7158781290054321), ('dialogue', 0.7147353887557983), ('wise', 0.7097163200378418), ('Story', 0.7074373960494995)]\n",
      "\n",
      "[ quality ] 와 관련있는 단어들 : [('creative', 0.782656192779541), ('artists', 0.7594079375267029), ('expectations', 0.7580088973045349), ('excellent', 0.743738055229187), ('studio', 0.7412158250808716), ('effort', 0.7374364137649536), ('artwork', 0.7350540161132812), ('dialogue', 0.7340343594551086), ('adventure', 0.7260340452194214), ('beyond', 0.7247825860977173)]\n",
      "\n",
      "[ character ] 와 관련있는 단어들 : [('lead', 0.6635228395462036), ('protag', 0.6365395188331604), ('cast', 0.6239707469940186), ('antagonist', 0.6228163838386536), ('characters', 0.608352541923523), ('Character', 0.6003177165985107), ('main', 0.5970306396484375), ('morally', 0.5785837173461914), ('protagonists', 0.5697839856147766), ('villain', 0.5665583610534668)]\n",
      "\n"
     ]
    }
   ],
   "source": [
    "#words_list = ['소설', '작가', '주인공', '원작', '연출', '작화', '스토리', '묘사', '퀄리티', '캐릭터']\n",
    "\n",
    "words_list = ['novel', 'author', 'character', 'original', 'play', 'picture', 'story', 'description', 'quality','character']\n",
    "topics = print_most_similar_words(model, words_list)"
   ]
  },
  {
   "cell_type": "code",
   "execution_count": 103,
   "metadata": {
    "colab": {
     "base_uri": "https://localhost:8080/"
    },
    "id": "3hHpAlrtEASO",
    "outputId": "6d554577-fe6d-4f7e-8014-4ca80bd46459"
   },
   "outputs": [
    {
     "data": {
      "text/plain": [
       "['novel',\n",
       " 'novel',\n",
       " 'author',\n",
       " 'author',\n",
       " 'character',\n",
       " 'character',\n",
       " 'original',\n",
       " 'original',\n",
       " 'direction',\n",
       " 'direction',\n",
       " 'picture',\n",
       " 'picture',\n",
       " 'story',\n",
       " 'story',\n",
       " 'description',\n",
       " 'description',\n",
       " 'quality',\n",
       " 'quality',\n",
       " 'character',\n",
       " 'character']"
      ]
     },
     "execution_count": 103,
     "metadata": {},
     "output_type": "execute_result"
    }
   ],
   "source": [
    "topic_list = []\n",
    "for topic in words_list:\n",
    "    topic_list.append(topic)\n",
    "    topic_list.append(topic)\n",
    "topic_list"
   ]
  },
  {
   "cell_type": "code",
   "execution_count": 104,
   "metadata": {
    "colab": {
     "base_uri": "https://localhost:8080/",
     "height": 458
    },
    "id": "plZekuA976iz",
    "outputId": "501950f1-4e84-41f1-909b-49186980f9c8"
   },
   "outputs": [
    {
     "name": "stderr",
     "output_type": "stream",
     "text": [
      "C:\\Users\\iamsu\\anaconda3\\lib\\site-packages\\IPython\\core\\interactiveshell.py:2894: PerformanceWarning: indexing past lexsort depth may impact performance.\n",
      "  result = self._run_cell(\n",
      "<ipython-input-104-4f4b74fa0970>:9: SettingWithCopyWarning: \n",
      "A value is trying to be set on a copy of a slice from a DataFrame.\n",
      "Try using .loc[row_indexer,col_indexer] = value instead\n",
      "\n",
      "See the caveats in the documentation: https://pandas.pydata.org/pandas-docs/stable/user_guide/indexing.html#returning-a-view-versus-a-copy\n",
      "  df[topic_name,'topic'][idx] = word\n",
      "<ipython-input-104-4f4b74fa0970>:10: SettingWithCopyWarning: \n",
      "A value is trying to be set on a copy of a slice from a DataFrame.\n",
      "Try using .loc[row_indexer,col_indexer] = value instead\n",
      "\n",
      "See the caveats in the documentation: https://pandas.pydata.org/pandas-docs/stable/user_guide/indexing.html#returning-a-view-versus-a-copy\n",
      "  df[topic_name,'similarity'][idx] = similarity\n"
     ]
    },
    {
     "data": {
      "text/html": [
       "<div>\n",
       "<style scoped>\n",
       "    .dataframe tbody tr th:only-of-type {\n",
       "        vertical-align: middle;\n",
       "    }\n",
       "\n",
       "    .dataframe tbody tr th {\n",
       "        vertical-align: top;\n",
       "    }\n",
       "\n",
       "    .dataframe thead tr th {\n",
       "        text-align: left;\n",
       "    }\n",
       "</style>\n",
       "<table border=\"1\" class=\"dataframe\">\n",
       "  <thead>\n",
       "    <tr>\n",
       "      <th></th>\n",
       "      <th colspan=\"2\" halign=\"left\">novel</th>\n",
       "      <th colspan=\"2\" halign=\"left\">author</th>\n",
       "      <th colspan=\"2\" halign=\"left\">character</th>\n",
       "      <th colspan=\"2\" halign=\"left\">original</th>\n",
       "      <th colspan=\"2\" halign=\"left\">direction</th>\n",
       "      <th colspan=\"2\" halign=\"left\">picture</th>\n",
       "      <th colspan=\"2\" halign=\"left\">story</th>\n",
       "      <th colspan=\"2\" halign=\"left\">description</th>\n",
       "      <th colspan=\"2\" halign=\"left\">quality</th>\n",
       "      <th colspan=\"2\" halign=\"left\">character</th>\n",
       "    </tr>\n",
       "    <tr>\n",
       "      <th></th>\n",
       "      <th>topic</th>\n",
       "      <th>similarity</th>\n",
       "      <th>topic</th>\n",
       "      <th>similarity</th>\n",
       "      <th>topic</th>\n",
       "      <th>similarity</th>\n",
       "      <th>topic</th>\n",
       "      <th>similarity</th>\n",
       "      <th>topic</th>\n",
       "      <th>similarity</th>\n",
       "      <th>topic</th>\n",
       "      <th>similarity</th>\n",
       "      <th>topic</th>\n",
       "      <th>similarity</th>\n",
       "      <th>topic</th>\n",
       "      <th>similarity</th>\n",
       "      <th>topic</th>\n",
       "      <th>similarity</th>\n",
       "      <th>topic</th>\n",
       "      <th>similarity</th>\n",
       "    </tr>\n",
       "  </thead>\n",
       "  <tbody>\n",
       "    <tr>\n",
       "      <th>0</th>\n",
       "      <td>NaN</td>\n",
       "      <td>NaN</td>\n",
       "      <td>NaN</td>\n",
       "      <td>NaN</td>\n",
       "      <td>NaN</td>\n",
       "      <td>NaN</td>\n",
       "      <td>NaN</td>\n",
       "      <td>NaN</td>\n",
       "      <td>NaN</td>\n",
       "      <td>NaN</td>\n",
       "      <td>NaN</td>\n",
       "      <td>NaN</td>\n",
       "      <td>NaN</td>\n",
       "      <td>NaN</td>\n",
       "      <td>NaN</td>\n",
       "      <td>NaN</td>\n",
       "      <td>NaN</td>\n",
       "      <td>NaN</td>\n",
       "      <td>NaN</td>\n",
       "      <td>NaN</td>\n",
       "    </tr>\n",
       "    <tr>\n",
       "      <th>1</th>\n",
       "      <td>NaN</td>\n",
       "      <td>NaN</td>\n",
       "      <td>NaN</td>\n",
       "      <td>NaN</td>\n",
       "      <td>NaN</td>\n",
       "      <td>NaN</td>\n",
       "      <td>NaN</td>\n",
       "      <td>NaN</td>\n",
       "      <td>NaN</td>\n",
       "      <td>NaN</td>\n",
       "      <td>NaN</td>\n",
       "      <td>NaN</td>\n",
       "      <td>NaN</td>\n",
       "      <td>NaN</td>\n",
       "      <td>NaN</td>\n",
       "      <td>NaN</td>\n",
       "      <td>NaN</td>\n",
       "      <td>NaN</td>\n",
       "      <td>NaN</td>\n",
       "      <td>NaN</td>\n",
       "    </tr>\n",
       "    <tr>\n",
       "      <th>2</th>\n",
       "      <td>NaN</td>\n",
       "      <td>NaN</td>\n",
       "      <td>NaN</td>\n",
       "      <td>NaN</td>\n",
       "      <td>NaN</td>\n",
       "      <td>NaN</td>\n",
       "      <td>NaN</td>\n",
       "      <td>NaN</td>\n",
       "      <td>NaN</td>\n",
       "      <td>NaN</td>\n",
       "      <td>NaN</td>\n",
       "      <td>NaN</td>\n",
       "      <td>NaN</td>\n",
       "      <td>NaN</td>\n",
       "      <td>NaN</td>\n",
       "      <td>NaN</td>\n",
       "      <td>NaN</td>\n",
       "      <td>NaN</td>\n",
       "      <td>NaN</td>\n",
       "      <td>NaN</td>\n",
       "    </tr>\n",
       "    <tr>\n",
       "      <th>3</th>\n",
       "      <td>NaN</td>\n",
       "      <td>NaN</td>\n",
       "      <td>NaN</td>\n",
       "      <td>NaN</td>\n",
       "      <td>NaN</td>\n",
       "      <td>NaN</td>\n",
       "      <td>NaN</td>\n",
       "      <td>NaN</td>\n",
       "      <td>NaN</td>\n",
       "      <td>NaN</td>\n",
       "      <td>NaN</td>\n",
       "      <td>NaN</td>\n",
       "      <td>NaN</td>\n",
       "      <td>NaN</td>\n",
       "      <td>NaN</td>\n",
       "      <td>NaN</td>\n",
       "      <td>NaN</td>\n",
       "      <td>NaN</td>\n",
       "      <td>NaN</td>\n",
       "      <td>NaN</td>\n",
       "    </tr>\n",
       "    <tr>\n",
       "      <th>4</th>\n",
       "      <td>NaN</td>\n",
       "      <td>NaN</td>\n",
       "      <td>NaN</td>\n",
       "      <td>NaN</td>\n",
       "      <td>NaN</td>\n",
       "      <td>NaN</td>\n",
       "      <td>NaN</td>\n",
       "      <td>NaN</td>\n",
       "      <td>NaN</td>\n",
       "      <td>NaN</td>\n",
       "      <td>NaN</td>\n",
       "      <td>NaN</td>\n",
       "      <td>NaN</td>\n",
       "      <td>NaN</td>\n",
       "      <td>NaN</td>\n",
       "      <td>NaN</td>\n",
       "      <td>NaN</td>\n",
       "      <td>NaN</td>\n",
       "      <td>NaN</td>\n",
       "      <td>NaN</td>\n",
       "    </tr>\n",
       "    <tr>\n",
       "      <th>5</th>\n",
       "      <td>NaN</td>\n",
       "      <td>NaN</td>\n",
       "      <td>NaN</td>\n",
       "      <td>NaN</td>\n",
       "      <td>NaN</td>\n",
       "      <td>NaN</td>\n",
       "      <td>NaN</td>\n",
       "      <td>NaN</td>\n",
       "      <td>NaN</td>\n",
       "      <td>NaN</td>\n",
       "      <td>NaN</td>\n",
       "      <td>NaN</td>\n",
       "      <td>NaN</td>\n",
       "      <td>NaN</td>\n",
       "      <td>NaN</td>\n",
       "      <td>NaN</td>\n",
       "      <td>NaN</td>\n",
       "      <td>NaN</td>\n",
       "      <td>NaN</td>\n",
       "      <td>NaN</td>\n",
       "    </tr>\n",
       "    <tr>\n",
       "      <th>6</th>\n",
       "      <td>NaN</td>\n",
       "      <td>NaN</td>\n",
       "      <td>NaN</td>\n",
       "      <td>NaN</td>\n",
       "      <td>NaN</td>\n",
       "      <td>NaN</td>\n",
       "      <td>NaN</td>\n",
       "      <td>NaN</td>\n",
       "      <td>NaN</td>\n",
       "      <td>NaN</td>\n",
       "      <td>NaN</td>\n",
       "      <td>NaN</td>\n",
       "      <td>NaN</td>\n",
       "      <td>NaN</td>\n",
       "      <td>NaN</td>\n",
       "      <td>NaN</td>\n",
       "      <td>NaN</td>\n",
       "      <td>NaN</td>\n",
       "      <td>NaN</td>\n",
       "      <td>NaN</td>\n",
       "    </tr>\n",
       "    <tr>\n",
       "      <th>7</th>\n",
       "      <td>NaN</td>\n",
       "      <td>NaN</td>\n",
       "      <td>NaN</td>\n",
       "      <td>NaN</td>\n",
       "      <td>NaN</td>\n",
       "      <td>NaN</td>\n",
       "      <td>NaN</td>\n",
       "      <td>NaN</td>\n",
       "      <td>NaN</td>\n",
       "      <td>NaN</td>\n",
       "      <td>NaN</td>\n",
       "      <td>NaN</td>\n",
       "      <td>NaN</td>\n",
       "      <td>NaN</td>\n",
       "      <td>NaN</td>\n",
       "      <td>NaN</td>\n",
       "      <td>NaN</td>\n",
       "      <td>NaN</td>\n",
       "      <td>NaN</td>\n",
       "      <td>NaN</td>\n",
       "    </tr>\n",
       "    <tr>\n",
       "      <th>8</th>\n",
       "      <td>NaN</td>\n",
       "      <td>NaN</td>\n",
       "      <td>NaN</td>\n",
       "      <td>NaN</td>\n",
       "      <td>NaN</td>\n",
       "      <td>NaN</td>\n",
       "      <td>NaN</td>\n",
       "      <td>NaN</td>\n",
       "      <td>NaN</td>\n",
       "      <td>NaN</td>\n",
       "      <td>NaN</td>\n",
       "      <td>NaN</td>\n",
       "      <td>NaN</td>\n",
       "      <td>NaN</td>\n",
       "      <td>NaN</td>\n",
       "      <td>NaN</td>\n",
       "      <td>NaN</td>\n",
       "      <td>NaN</td>\n",
       "      <td>NaN</td>\n",
       "      <td>NaN</td>\n",
       "    </tr>\n",
       "    <tr>\n",
       "      <th>9</th>\n",
       "      <td>NaN</td>\n",
       "      <td>NaN</td>\n",
       "      <td>NaN</td>\n",
       "      <td>NaN</td>\n",
       "      <td>NaN</td>\n",
       "      <td>NaN</td>\n",
       "      <td>NaN</td>\n",
       "      <td>NaN</td>\n",
       "      <td>NaN</td>\n",
       "      <td>NaN</td>\n",
       "      <td>NaN</td>\n",
       "      <td>NaN</td>\n",
       "      <td>NaN</td>\n",
       "      <td>NaN</td>\n",
       "      <td>NaN</td>\n",
       "      <td>NaN</td>\n",
       "      <td>NaN</td>\n",
       "      <td>NaN</td>\n",
       "      <td>NaN</td>\n",
       "      <td>NaN</td>\n",
       "    </tr>\n",
       "  </tbody>\n",
       "</table>\n",
       "</div>"
      ],
      "text/plain": [
       "  novel            author            character            original             \\\n",
       "  topic similarity  topic similarity     topic similarity    topic similarity   \n",
       "0   NaN        NaN    NaN        NaN       NaN        NaN      NaN        NaN   \n",
       "1   NaN        NaN    NaN        NaN       NaN        NaN      NaN        NaN   \n",
       "2   NaN        NaN    NaN        NaN       NaN        NaN      NaN        NaN   \n",
       "3   NaN        NaN    NaN        NaN       NaN        NaN      NaN        NaN   \n",
       "4   NaN        NaN    NaN        NaN       NaN        NaN      NaN        NaN   \n",
       "5   NaN        NaN    NaN        NaN       NaN        NaN      NaN        NaN   \n",
       "6   NaN        NaN    NaN        NaN       NaN        NaN      NaN        NaN   \n",
       "7   NaN        NaN    NaN        NaN       NaN        NaN      NaN        NaN   \n",
       "8   NaN        NaN    NaN        NaN       NaN        NaN      NaN        NaN   \n",
       "9   NaN        NaN    NaN        NaN       NaN        NaN      NaN        NaN   \n",
       "\n",
       "  direction            picture            story            description  \\\n",
       "      topic similarity   topic similarity topic similarity       topic   \n",
       "0       NaN        NaN     NaN        NaN   NaN        NaN         NaN   \n",
       "1       NaN        NaN     NaN        NaN   NaN        NaN         NaN   \n",
       "2       NaN        NaN     NaN        NaN   NaN        NaN         NaN   \n",
       "3       NaN        NaN     NaN        NaN   NaN        NaN         NaN   \n",
       "4       NaN        NaN     NaN        NaN   NaN        NaN         NaN   \n",
       "5       NaN        NaN     NaN        NaN   NaN        NaN         NaN   \n",
       "6       NaN        NaN     NaN        NaN   NaN        NaN         NaN   \n",
       "7       NaN        NaN     NaN        NaN   NaN        NaN         NaN   \n",
       "8       NaN        NaN     NaN        NaN   NaN        NaN         NaN   \n",
       "9       NaN        NaN     NaN        NaN   NaN        NaN         NaN   \n",
       "\n",
       "             quality            character             \n",
       "  similarity   topic similarity     topic similarity  \n",
       "0        NaN     NaN        NaN       NaN        NaN  \n",
       "1        NaN     NaN        NaN       NaN        NaN  \n",
       "2        NaN     NaN        NaN       NaN        NaN  \n",
       "3        NaN     NaN        NaN       NaN        NaN  \n",
       "4        NaN     NaN        NaN       NaN        NaN  \n",
       "5        NaN     NaN        NaN       NaN        NaN  \n",
       "6        NaN     NaN        NaN       NaN        NaN  \n",
       "7        NaN     NaN        NaN       NaN        NaN  \n",
       "8        NaN     NaN        NaN       NaN        NaN  \n",
       "9        NaN     NaN        NaN       NaN        NaN  "
      ]
     },
     "execution_count": 104,
     "metadata": {},
     "output_type": "execute_result"
    }
   ],
   "source": [
    "df = pd.DataFrame(data=[], \n",
    "                  index = ['0','1','2','3','4','5','6','7','8','9'],\n",
    "                  columns=[ topic_list,  ['topic','similarity','topic','similarity','topic','similarity','topic','similarity','topic','similarity','topic','similarity','topic','similarity','topic','similarity','topic','similarity','topic','similarity']])  \n",
    "\n",
    "for index,topic in enumerate(topics): \n",
    "    for idx, tup in enumerate(topic):\n",
    "        word, similarity = tup\n",
    "        topic_name = words_list[index]\n",
    "        df[topic_name,'topic'][idx] = word\n",
    "        df[topic_name,'similarity'][idx] = similarity\n",
    "df"
   ]
  },
  {
   "cell_type": "code",
   "execution_count": 91,
   "metadata": {
    "colab": {
     "base_uri": "https://localhost:8080/",
     "height": 363
    },
    "id": "xW-0kCUX_k-6",
    "outputId": "874974eb-a977-4b5e-9993-052e3bdc6c0b"
   },
   "outputs": [
    {
     "data": {
      "text/html": [
       "\n",
       "  <div id=\"df-72687e4e-158a-4bff-a0e1-e69c2c04d617\">\n",
       "    <div class=\"colab-df-container\">\n",
       "      <div>\n",
       "<style scoped>\n",
       "    .dataframe tbody tr th:only-of-type {\n",
       "        vertical-align: middle;\n",
       "    }\n",
       "\n",
       "    .dataframe tbody tr th {\n",
       "        vertical-align: top;\n",
       "    }\n",
       "\n",
       "    .dataframe thead th {\n",
       "        text-align: right;\n",
       "    }\n",
       "</style>\n",
       "<table border=\"1\" class=\"dataframe\">\n",
       "  <thead>\n",
       "    <tr style=\"text-align: right;\">\n",
       "      <th></th>\n",
       "      <th>Item</th>\n",
       "      <th>Topic</th>\n",
       "      <th>similarity</th>\n",
       "    </tr>\n",
       "  </thead>\n",
       "  <tbody>\n",
       "    <tr>\n",
       "      <th>0</th>\n",
       "      <td>webtoon</td>\n",
       "      <td>story</td>\n",
       "      <td>0.77608</td>\n",
       "    </tr>\n",
       "    <tr>\n",
       "      <th>1</th>\n",
       "      <td>novel</td>\n",
       "      <td>story</td>\n",
       "      <td>0.70452</td>\n",
       "    </tr>\n",
       "    <tr>\n",
       "      <th>2</th>\n",
       "      <td>series</td>\n",
       "      <td>story</td>\n",
       "      <td>0.668725</td>\n",
       "    </tr>\n",
       "    <tr>\n",
       "      <th>3</th>\n",
       "      <td>one</td>\n",
       "      <td>story</td>\n",
       "      <td>0.57968</td>\n",
       "    </tr>\n",
       "    <tr>\n",
       "      <th>4</th>\n",
       "      <td>read</td>\n",
       "      <td>story</td>\n",
       "      <td>0.563194</td>\n",
       "    </tr>\n",
       "    <tr>\n",
       "      <th>5</th>\n",
       "      <td>really</td>\n",
       "      <td>story</td>\n",
       "      <td>0.561675</td>\n",
       "    </tr>\n",
       "    <tr>\n",
       "      <th>6</th>\n",
       "      <td>comic</td>\n",
       "      <td>story</td>\n",
       "      <td>0.548902</td>\n",
       "    </tr>\n",
       "    <tr>\n",
       "      <th>7</th>\n",
       "      <td>know</td>\n",
       "      <td>story</td>\n",
       "      <td>0.544141</td>\n",
       "    </tr>\n",
       "    <tr>\n",
       "      <th>8</th>\n",
       "      <td>storyline</td>\n",
       "      <td>story</td>\n",
       "      <td>0.530277</td>\n",
       "    </tr>\n",
       "    <tr>\n",
       "      <th>9</th>\n",
       "      <td>reading</td>\n",
       "      <td>story</td>\n",
       "      <td>0.523332</td>\n",
       "    </tr>\n",
       "  </tbody>\n",
       "</table>\n",
       "</div>\n",
       "      <button class=\"colab-df-convert\" onclick=\"convertToInteractive('df-72687e4e-158a-4bff-a0e1-e69c2c04d617')\"\n",
       "              title=\"Convert this dataframe to an interactive table.\"\n",
       "              style=\"display:none;\">\n",
       "        \n",
       "  <svg xmlns=\"http://www.w3.org/2000/svg\" height=\"24px\"viewBox=\"0 0 24 24\"\n",
       "       width=\"24px\">\n",
       "    <path d=\"M0 0h24v24H0V0z\" fill=\"none\"/>\n",
       "    <path d=\"M18.56 5.44l.94 2.06.94-2.06 2.06-.94-2.06-.94-.94-2.06-.94 2.06-2.06.94zm-11 1L8.5 8.5l.94-2.06 2.06-.94-2.06-.94L8.5 2.5l-.94 2.06-2.06.94zm10 10l.94 2.06.94-2.06 2.06-.94-2.06-.94-.94-2.06-.94 2.06-2.06.94z\"/><path d=\"M17.41 7.96l-1.37-1.37c-.4-.4-.92-.59-1.43-.59-.52 0-1.04.2-1.43.59L10.3 9.45l-7.72 7.72c-.78.78-.78 2.05 0 2.83L4 21.41c.39.39.9.59 1.41.59.51 0 1.02-.2 1.41-.59l7.78-7.78 2.81-2.81c.8-.78.8-2.07 0-2.86zM5.41 20L4 18.59l7.72-7.72 1.47 1.35L5.41 20z\"/>\n",
       "  </svg>\n",
       "      </button>\n",
       "      \n",
       "  <style>\n",
       "    .colab-df-container {\n",
       "      display:flex;\n",
       "      flex-wrap:wrap;\n",
       "      gap: 12px;\n",
       "    }\n",
       "\n",
       "    .colab-df-convert {\n",
       "      background-color: #E8F0FE;\n",
       "      border: none;\n",
       "      border-radius: 50%;\n",
       "      cursor: pointer;\n",
       "      display: none;\n",
       "      fill: #1967D2;\n",
       "      height: 32px;\n",
       "      padding: 0 0 0 0;\n",
       "      width: 32px;\n",
       "    }\n",
       "\n",
       "    .colab-df-convert:hover {\n",
       "      background-color: #E2EBFA;\n",
       "      box-shadow: 0px 1px 2px rgba(60, 64, 67, 0.3), 0px 1px 3px 1px rgba(60, 64, 67, 0.15);\n",
       "      fill: #174EA6;\n",
       "    }\n",
       "\n",
       "    [theme=dark] .colab-df-convert {\n",
       "      background-color: #3B4455;\n",
       "      fill: #D2E3FC;\n",
       "    }\n",
       "\n",
       "    [theme=dark] .colab-df-convert:hover {\n",
       "      background-color: #434B5C;\n",
       "      box-shadow: 0px 1px 3px 1px rgba(0, 0, 0, 0.15);\n",
       "      filter: drop-shadow(0px 1px 2px rgba(0, 0, 0, 0.3));\n",
       "      fill: #FFFFFF;\n",
       "    }\n",
       "  </style>\n",
       "\n",
       "      <script>\n",
       "        const buttonEl =\n",
       "          document.querySelector('#df-72687e4e-158a-4bff-a0e1-e69c2c04d617 button.colab-df-convert');\n",
       "        buttonEl.style.display =\n",
       "          google.colab.kernel.accessAllowed ? 'block' : 'none';\n",
       "\n",
       "        async function convertToInteractive(key) {\n",
       "          const element = document.querySelector('#df-72687e4e-158a-4bff-a0e1-e69c2c04d617');\n",
       "          const dataTable =\n",
       "            await google.colab.kernel.invokeFunction('convertToInteractive',\n",
       "                                                     [key], {});\n",
       "          if (!dataTable) return;\n",
       "\n",
       "          const docLinkHtml = 'Like what you see? Visit the ' +\n",
       "            '<a target=\"_blank\" href=https://colab.research.google.com/notebooks/data_table.ipynb>data table notebook</a>'\n",
       "            + ' to learn more about interactive tables.';\n",
       "          element.innerHTML = '';\n",
       "          dataTable['output_type'] = 'display_data';\n",
       "          await google.colab.output.renderOutput(dataTable, element);\n",
       "          const docLink = document.createElement('div');\n",
       "          docLink.innerHTML = docLinkHtml;\n",
       "          element.appendChild(docLink);\n",
       "        }\n",
       "      </script>\n",
       "    </div>\n",
       "  </div>\n",
       "  "
      ],
      "text/plain": [
       "        Item  Topic similarity\n",
       "0    webtoon  story    0.77608\n",
       "1      novel  story    0.70452\n",
       "2     series  story   0.668725\n",
       "3        one  story    0.57968\n",
       "4       read  story   0.563194\n",
       "5     really  story   0.561675\n",
       "6      comic  story   0.548902\n",
       "7       know  story   0.544141\n",
       "8  storyline  story   0.530277\n",
       "9    reading  story   0.523332"
      ]
     },
     "execution_count": 91,
     "metadata": {},
     "output_type": "execute_result"
    }
   ],
   "source": [
    "df_topic1 = df['story','topic']\n",
    "#df_topic1.columns = ['Name']\n",
    "df_topic1 = df_topic1.to_frame()\n",
    "df_topic1.columns = ['Item']\n",
    "df_topic1['Topic'] = 'story'\n",
    "df_topic1['similarity'] = df['story','similarity']\n",
    "#df_topic1 = df_topic1.set_index('Topic')\n",
    "df_topic1"
   ]
  },
  {
   "cell_type": "code",
   "execution_count": 93,
   "metadata": {
    "id": "kjCTjyp-CkEu"
   },
   "outputs": [],
   "source": [
    "import networkx as nx\n",
    "import numpy as np"
   ]
  },
  {
   "cell_type": "code",
   "execution_count": 102,
   "metadata": {
    "colab": {
     "base_uri": "https://localhost:8080/",
     "height": 411
    },
    "id": "FGoXWN1PCpYQ",
    "outputId": "81b9f80b-0a45-4d29-bd3a-eae26ec0afda"
   },
   "outputs": [
    {
     "data": {
      "image/png": "[encoded data removed]",
      "text/plain": [
       "<Figure size 504x504 with 1 Axes>"
      ]
     },
     "metadata": {},
     "output_type": "display_data"
    }
   ],
   "source": [
    "import networkx as nx\n",
    "import numpy as np\n",
    "\n",
    "                \n",
    "g = nx.Graph()\n",
    "g = nx.from_pandas_edgelist(df_topic1, source='Item',target='Topic')\n",
    "\n",
    "G_symmetric = nx.Graph()\n",
    "G_symmetric = nx.from_pandas_edgelist(df_topic1, source='Item',target='Topic')\n",
    "# print(nx.info(G_symmetric))\n",
    "\n",
    "pos = nx.spring_layout(G_symmetric)\n",
    "betCent = nx.betweenness_centrality(G_symmetric, normalized=True, endpoints=True)\n",
    "\n",
    "\n",
    "node_color = [20000.0 * G_symmetric.degree(v) for v in G_symmetric]\n",
    "node_size =  [v * 10000 for v in betCent.values()]\n",
    "\n",
    "pr = nx.pagerank(g)\n",
    "# print(nsize)\n",
    "nsize = np.array([v for v in pr.values()])\n",
    "nsize = 2000 * (nsize -min(nsize)/ (max(nsize) - min(nsize)))\n",
    "\n",
    "\n",
    "plt.figure(figsize=(7,7))\n",
    "nx.draw_networkx(G_symmetric, pos=pos, with_labels=True,\n",
    "#                  node_color=node_color,\n",
    "                 node_size=node_size,\n",
    "                 node_color = 'lightgreen')\n",
    "plt.savefig('story.png',dpi=200 ,facecolor='#eeeeee')\n",
    "plt.axis('off');"
   ]
  },
  {
   "cell_type": "code",
   "execution_count": null,
   "metadata": {
    "id": "Zeak5dPrChSc"
   },
   "outputs": [],
   "source": []
  }
 ],
 "metadata": {
  "colab": {
   "collapsed_sections": [],
   "provenance": []
  },
  "kernelspec": {
   "display_name": "nlp",
   "language": "python",
   "name": "nlp"
  },
  "language_info": {
   "codemirror_mode": {
    "name": "ipython",
    "version": 3
   },
   "file_extension": ".py",
   "mimetype": "text/x-python",
   "name": "python",
   "nbconvert_exporter": "python",
   "pygments_lexer": "ipython3",
   "version": "3.8.8"
  }
 },
 "nbformat": 4,
 "nbformat_minor": 1
}
