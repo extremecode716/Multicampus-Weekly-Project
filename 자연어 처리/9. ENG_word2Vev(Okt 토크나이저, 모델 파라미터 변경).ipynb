{
 "cells": [
  {
   "cell_type": "code",
   "execution_count": 116,
   "metadata": {
    "id": "4amJRvDL6l-7"
   },
   "outputs": [],
   "source": [
    "from wordcloud import WordCloud\n",
    "import matplotlib.pyplot as plt\n",
    "from collections import Counter\n",
    "from PIL import Image\n",
    "import numpy as np\n",
    "import pandas as pd\n",
    "from tqdm import tqdm\n",
    "import re\n",
    "import pickle\n",
    "import csv\n",
    "import pandas as pd\n",
    "from pandas import DataFrame \n",
    "import numpy as np\n",
    "from nltk.tokenize import word_tokenize, sent_tokenize\n",
    "from nltk.tag import pos_tag\n",
    "from nltk.corpus import stopwords \n",
    "from nltk.tag import pos_tag\n",
    "import sys\n",
    "import unicodedata\n",
    "from bs4 import BeautifulSoup\n",
    "\n",
    "from konlpy.tag import Okt"
   ]
  },
  {
   "cell_type": "code",
   "execution_count": 117,
   "metadata": {
    "id": "0kiU8C8ZAeTv"
   },
   "outputs": [],
   "source": [
    "from tqdm import tqdm_notebook\n",
    "from gensim.models import Word2Vec"
   ]
  },
  {
   "cell_type": "code",
   "execution_count": 118,
   "metadata": {
    "colab": {
     "base_uri": "https://localhost:8080/"
    },
    "id": "ke8g_7HkBElC",
    "outputId": "f19a510d-9389-4f62-dd42-d5b588521899"
   },
   "outputs": [
    {
     "name": "stderr",
     "output_type": "stream",
     "text": [
      "[nltk_data] Downloading package stopwords to\n",
      "[nltk_data]     C:\\Users\\iamsu\\AppData\\Roaming\\nltk_data...\n",
      "[nltk_data]   Package stopwords is already up-to-date!\n"
     ]
    },
    {
     "data": {
      "text/plain": [
       "True"
      ]
     },
     "execution_count": 118,
     "metadata": {},
     "output_type": "execute_result"
    }
   ],
   "source": [
    "import nltk\n",
    "nltk.download('stopwords')"
   ]
  },
  {
   "cell_type": "code",
   "execution_count": 119,
   "metadata": {
    "colab": {
     "base_uri": "https://localhost:8080/"
    },
    "id": "mJF1aa1-CZzb",
    "outputId": "83c70215-f425-49f6-9ea1-3d37e63ceac5"
   },
   "outputs": [
    {
     "name": "stderr",
     "output_type": "stream",
     "text": [
      "[nltk_data] Downloading package punkt to\n",
      "[nltk_data]     C:\\Users\\iamsu\\AppData\\Roaming\\nltk_data...\n",
      "[nltk_data]   Package punkt is already up-to-date!\n"
     ]
    },
    {
     "data": {
      "text/plain": [
       "True"
      ]
     },
     "execution_count": 119,
     "metadata": {},
     "output_type": "execute_result"
    }
   ],
   "source": [
    "import nltk\n",
    "nltk.download('punkt')"
   ]
  },
  {
   "cell_type": "code",
   "execution_count": 120,
   "metadata": {
    "colab": {
     "base_uri": "https://localhost:8080/"
    },
    "id": "2CwHeHNtMpJy",
    "outputId": "5f4fcc54-5e5f-4c8a-b6a7-b39aeb4253a5"
   },
   "outputs": [
    {
     "name": "stderr",
     "output_type": "stream",
     "text": [
      "[nltk_data] Downloading package averaged_perceptron_tagger to\n",
      "[nltk_data]     C:\\Users\\iamsu\\AppData\\Roaming\\nltk_data...\n",
      "[nltk_data]   Package averaged_perceptron_tagger is already up-to-\n",
      "[nltk_data]       date!\n"
     ]
    },
    {
     "data": {
      "text/plain": [
       "True"
      ]
     },
     "execution_count": 120,
     "metadata": {},
     "output_type": "execute_result"
    }
   ],
   "source": [
    "import nltk\n",
    "nltk.download('averaged_perceptron_tagger')"
   ]
  },
  {
   "cell_type": "code",
   "execution_count": 121,
   "metadata": {
    "id": "FLG1vxSV9cml"
   },
   "outputs": [],
   "source": [
    "df = pd.read_csv(\"../크롤링/data/en/en_Omniscient Reader_episode_total.csv\")"
   ]
  },
  {
   "cell_type": "code",
   "execution_count": 122,
   "metadata": {
    "id": "hgnIVkem9sXU"
   },
   "outputs": [],
   "source": [
    "df = df[['Review']]"
   ]
  },
  {
   "cell_type": "code",
   "execution_count": 123,
   "metadata": {},
   "outputs": [
    {
     "data": {
      "text/html": [
       "<div>\n",
       "<style scoped>\n",
       "    .dataframe tbody tr th:only-of-type {\n",
       "        vertical-align: middle;\n",
       "    }\n",
       "\n",
       "    .dataframe tbody tr th {\n",
       "        vertical-align: top;\n",
       "    }\n",
       "\n",
       "    .dataframe thead th {\n",
       "        text-align: right;\n",
       "    }\n",
       "</style>\n",
       "<table border=\"1\" class=\"dataframe\">\n",
       "  <thead>\n",
       "    <tr style=\"text-align: right;\">\n",
       "      <th></th>\n",
       "      <th>Review</th>\n",
       "    </tr>\n",
       "  </thead>\n",
       "  <tbody>\n",
       "    <tr>\n",
       "      <th>0</th>\n",
       "      <td>This art is HONESTLY SPECTACULAR. Can't WAIT t...</td>\n",
       "    </tr>\n",
       "    <tr>\n",
       "      <th>1</th>\n",
       "      <td>IT'S HERE!!!</td>\n",
       "    </tr>\n",
       "    <tr>\n",
       "      <th>2</th>\n",
       "      <td>If he read the story over ten years, I hope he...</td>\n",
       "    </tr>\n",
       "    <tr>\n",
       "      <th>3</th>\n",
       "      <td>Yo this better become the next big action fant...</td>\n",
       "    </tr>\n",
       "    <tr>\n",
       "      <th>4</th>\n",
       "      <td>DONT SLEEP ON THIS, THIS IS A TOP TIER MANHWA</td>\n",
       "    </tr>\n",
       "  </tbody>\n",
       "</table>\n",
       "</div>"
      ],
      "text/plain": [
       "                                              Review\n",
       "0  This art is HONESTLY SPECTACULAR. Can't WAIT t...\n",
       "1                                       IT'S HERE!!!\n",
       "2  If he read the story over ten years, I hope he...\n",
       "3  Yo this better become the next big action fant...\n",
       "4      DONT SLEEP ON THIS, THIS IS A TOP TIER MANHWA"
      ]
     },
     "execution_count": 123,
     "metadata": {},
     "output_type": "execute_result"
    }
   ],
   "source": [
    "df.head()"
   ]
  },
  {
   "cell_type": "code",
   "execution_count": 124,
   "metadata": {},
   "outputs": [
    {
     "data": {
      "text/html": [
       "<div>\n",
       "<style scoped>\n",
       "    .dataframe tbody tr th:only-of-type {\n",
       "        vertical-align: middle;\n",
       "    }\n",
       "\n",
       "    .dataframe tbody tr th {\n",
       "        vertical-align: top;\n",
       "    }\n",
       "\n",
       "    .dataframe thead th {\n",
       "        text-align: right;\n",
       "    }\n",
       "</style>\n",
       "<table border=\"1\" class=\"dataframe\">\n",
       "  <thead>\n",
       "    <tr style=\"text-align: right;\">\n",
       "      <th></th>\n",
       "      <th>Review</th>\n",
       "    </tr>\n",
       "  </thead>\n",
       "  <tbody>\n",
       "    <tr>\n",
       "      <th>0</th>\n",
       "      <td>This art is HONESTLY SPECTACULAR. Can't WAIT t...</td>\n",
       "    </tr>\n",
       "    <tr>\n",
       "      <th>1</th>\n",
       "      <td>IT'S HERE!!!</td>\n",
       "    </tr>\n",
       "    <tr>\n",
       "      <th>2</th>\n",
       "      <td>If he read the story over ten years, I hope he...</td>\n",
       "    </tr>\n",
       "    <tr>\n",
       "      <th>3</th>\n",
       "      <td>Yo this better become the next big action fant...</td>\n",
       "    </tr>\n",
       "    <tr>\n",
       "      <th>4</th>\n",
       "      <td>DONT SLEEP ON THIS, THIS IS A TOP TIER MANHWA</td>\n",
       "    </tr>\n",
       "  </tbody>\n",
       "</table>\n",
       "</div>"
      ],
      "text/plain": [
       "                                              Review\n",
       "0  This art is HONESTLY SPECTACULAR. Can't WAIT t...\n",
       "1                                       IT'S HERE!!!\n",
       "2  If he read the story over ten years, I hope he...\n",
       "3  Yo this better become the next big action fant...\n",
       "4      DONT SLEEP ON THIS, THIS IS A TOP TIER MANHWA"
      ]
     },
     "execution_count": 124,
     "metadata": {},
     "output_type": "execute_result"
    }
   ],
   "source": [
    "df.columns = ['Review']\n",
    "df.head()"
   ]
  },
  {
   "cell_type": "markdown",
   "metadata": {},
   "source": [
    "# Okt 토큰화 및 불용어 제거"
   ]
  },
  {
   "cell_type": "code",
   "execution_count": 125,
   "metadata": {},
   "outputs": [
    {
     "data": {
      "text/plain": [
       "['This',\n",
       " 'art',\n",
       " 'is',\n",
       " 'HONESTLY',\n",
       " 'SPECTACULAR',\n",
       " '.',\n",
       " 'Can',\n",
       " \"'\",\n",
       " 't',\n",
       " 'WAIT',\n",
       " 'to',\n",
       " 'see',\n",
       " 'where',\n",
       " 'this',\n",
       " 'one',\n",
       " 'goes',\n",
       " '!!']"
      ]
     },
     "execution_count": 125,
     "metadata": {},
     "output_type": "execute_result"
    }
   ],
   "source": [
    "sentence = df['Review'][0]\n",
    "\n",
    "okt = Okt()\n",
    "okt.morphs(sentence,stem=True)"
   ]
  },
  {
   "cell_type": "code",
   "execution_count": 133,
   "metadata": {},
   "outputs": [],
   "source": [
    "def str_lower(input_str) : # str_lower 함수 정의\n",
    "    result = re.sub(r\"[^a-z0-9]+\", \" \", input_str.lower())\n",
    "    return result\n",
    "\n",
    "def get_tokenized_data(df):\n",
    "    from eunjeon import Mecab\n",
    "    \"\"\"\n",
    "    Okt 형태소 분석기를 이용하여 토큰화 및 불용어 제거하는 함수¶\n",
    "    \"\"\"\n",
    "\n",
    "    # mecab 형태소 분석기 객체 생성 \n",
    "    okt = Okt()\n",
    "    #mecab = Mecab('C:/mecab/mecab-ko-dic')\n",
    "\n",
    "    # 결과 리스트\n",
    "    tokenized_data = []\n",
    "    \n",
    "#     stop_words = set(stopwords.words('english')) \n",
    "#     stop_words.update(['im'])    \n",
    "#     print(stop_words[:10])\n",
    "\n",
    "    # 원래 진행하고자했던 반복문 for i in range(100)에서 'in' 뒤에 문장을 tqdm()으로 감싸주면 진행 상황이 bar로 표현된다.\n",
    "    # tqdm_notebook 은 tqdm 의 Jupiter Notebook version, progress bar가 예쁘다.\n",
    "    for sentence in tqdm_notebook(df['Review']):\n",
    "        #print(sentence)\n",
    "        #tokenized_sentence = mecab.morphs(sentence) # mecab 문장 토큰화\n",
    "        tokenized_sentence = okt.morphs(sentence,stem=True)  # okt 문장 토큰화\n",
    "        \n",
    "        # 불용어 제거 \n",
    "        result = []\n",
    "        for word in tokenized_sentence: \n",
    "            if word not in stop_words: \n",
    "                result.append(word) \n",
    "#         print('불용어 제거 전 :',tokenized_sentence) \n",
    "#         print('불용어 제거 후 :',result)        \n",
    "       \n",
    "         # 한글자 제거\n",
    "        stopwords_removed_sentence = [word for word in result if len(word) > 1]\n",
    "        \n",
    "        # 구두점 제거, 소문자로 변환\n",
    "        lowercased_sentence = [str_lower(string) for string in stopwords_removed_sentence] \n",
    "\n",
    "        tokenized_data.append(lowercased_sentence)\n",
    "    \n",
    "    return tokenized_data"
   ]
  },
  {
   "cell_type": "code",
   "execution_count": 134,
   "metadata": {},
   "outputs": [],
   "source": [
    "def show_review_info(tokenized_data):\n",
    "    \"\"\"\n",
    "    리뷰 길이 분포 확인 함수\n",
    "    \"\"\"\n",
    "    print('리뷰의 최대 길이 :',max(len(review) for review in tokenized_data))\n",
    "    print('리뷰의 평균 길이 :',sum(map(len, tokenized_data))/len(tokenized_data))\n",
    "    plt.hist([len(review) for review in tokenized_data], bins=50)\n",
    "    plt.xlabel('length of samples')\n",
    "    plt.ylabel('number of samples')\n",
    "    plt.show()"
   ]
  },
  {
   "cell_type": "code",
   "execution_count": 135,
   "metadata": {},
   "outputs": [
    {
     "name": "stderr",
     "output_type": "stream",
     "text": [
      "<ipython-input-133-387ff487e49a>:24: TqdmDeprecationWarning: This function will be removed in tqdm==5.0.0\n",
      "Please use `tqdm.notebook.tqdm` instead of `tqdm.tqdm_notebook`\n",
      "  for sentence in tqdm_notebook(df['Review']):\n"
     ]
    },
    {
     "data": {
      "application/vnd.jupyter.widget-view+json": {
       "model_id": "f9eb83fd790c42c997666c147b260c00",
       "version_major": 2,
       "version_minor": 0
      },
      "text/plain": [
       "  0%|          | 0/159351 [00:00<?, ?it/s]"
      ]
     },
     "metadata": {},
     "output_type": "display_data"
    },
    {
     "data": {
      "text/plain": [
       "[['this',\n",
       "  'art',\n",
       "  'honestly',\n",
       "  'spectacular',\n",
       "  'can',\n",
       "  'wait',\n",
       "  'see',\n",
       "  'one',\n",
       "  'goes',\n",
       "  ' '],\n",
       " ['it', 'here', ' '],\n",
       " ['if',\n",
       "  'read',\n",
       "  'story',\n",
       "  'ten',\n",
       "  'years',\n",
       "  'hope',\n",
       "  'still',\n",
       "  'remembers',\n",
       "  'early',\n",
       "  'stuff'],\n",
       " ['yo',\n",
       "  'better',\n",
       "  'become',\n",
       "  'next',\n",
       "  'big',\n",
       "  'action',\n",
       "  'fantasy',\n",
       "  'series',\n",
       "  'webtoon',\n",
       "  'multiple',\n",
       "  'languages',\n",
       "  'everyone',\n",
       "  'reading'],\n",
       " ['dont', 'sleep', 'on', 'this', 'this', 'is', 'top', 'tier', 'manhwa'],\n",
       " ['would',\n",
       "  'read',\n",
       "  '3 000',\n",
       "  'episode',\n",
       "  'webtoon',\n",
       "  ' ',\n",
       "  'okay',\n",
       "  ' ',\n",
       "  'edit',\n",
       "  'omg',\n",
       "  'noticed',\n",
       "  'web',\n",
       "  'novel',\n",
       "  'thanks',\n",
       "  'everyone',\n",
       "  'telling'],\n",
       " ['this',\n",
       "  'one',\n",
       "  'popular',\n",
       "  'korean',\n",
       "  'webtoons',\n",
       "  'and',\n",
       "  'one',\n",
       "  'legendary',\n",
       "  'web',\n",
       "  'novels',\n",
       "  ' ',\n",
       "  'everyone',\n",
       "  'love'],\n",
       " ['simple', 'woman', 'saw', 'hot', 'guy', 'ad', 'here'],\n",
       " ['um', 'finish', 'gonna', 'happen', 'real', 'life', '0 0'],\n",
       " ['reminds', 'solo', 'leveling', ' ']]"
      ]
     },
     "execution_count": 135,
     "metadata": {},
     "output_type": "execute_result"
    }
   ],
   "source": [
    "tokenized_data = get_tokenized_data(df)\n",
    "tokenized_data[:10]"
   ]
  },
  {
   "cell_type": "code",
   "execution_count": 136,
   "metadata": {},
   "outputs": [
    {
     "name": "stdout",
     "output_type": "stream",
     "text": [
      "리뷰의 최대 길이 : 118\n",
      "리뷰의 평균 길이 : 8.559337562989878\n"
     ]
    },
    {
     "data": {
      "image/png": "[encoded data removed]",
      "text/plain": [
       "<Figure size 432x288 with 1 Axes>"
      ]
     },
     "metadata": {
      "needs_background": "light"
     },
     "output_type": "display_data"
    }
   ],
   "source": [
    "show_review_info(tokenized_data)"
   ]
  },
  {
   "cell_type": "markdown",
   "metadata": {},
   "source": [
    "# NLTK 문장 토큰화 (Sentence Tokenization)"
   ]
  },
  {
   "cell_type": "code",
   "execution_count": null,
   "metadata": {},
   "outputs": [],
   "source": [
    "# sen_text = sent_tokenize(review1)\n",
    "# sen_text\n",
    "# #34분 소요...\n",
    "# sen_text = sent_tokenize(review)\n",
    "\n",
    "# normalized_text = []\n",
    "# for string in sen_text:\n",
    "#      tokens = re.sub(r\"[^a-z0-9]+\", \" \", string.lower())\n",
    "#      normalized_text.append(tokens)\n",
    "# # 각 문장에 대해서 구두점을 제거하고, 대문자를 소문자로 변환.\n",
    "\n",
    "# result = []\n",
    "# result = [word_tokenize(sentence) for sentence in normalized_text]\n",
    "# # 각 문장에 대해서 NLTK를 이용하여 단어 토큰화를 수행.\n",
    "\n",
    "# print(result)\n",
    "\n",
    "# stop_words = set(stopwords.words('english')) \n",
    "# stop_words.update(['im'])\n",
    "\n",
    "# all_tokens=[]\n",
    "# for s in result :\n",
    "#   filtered_words=[]\n",
    "#   for word in s:\n",
    "#     if word not in stop_words:\n",
    "#       filtered_words.append(word)\n",
    "#     all_tokens.append(filtered_words)\n",
    "\n",
    "# all_tokens"
   ]
  },
  {
   "cell_type": "code",
   "execution_count": 137,
   "metadata": {
    "id": "IVtbON12CrfW"
   },
   "outputs": [],
   "source": [
    "def get_model_wv(tokenized_data):\n",
    "    \"\"\"\n",
    "    토큰화된 데이터를 Word2Vec 알고리즘을 학습시켜 모델을 반환하는 함수\n",
    "    \"\"\"\n",
    "    # Word2Vec으로 토큰화된 tokenized_data를 학습\n",
    "    # gensim 4.2 vector_size\n",
    "    # gensim 3.8.3 size\n",
    "    model = Word2Vec(sentences = tokenized_data, size = 200, window = 5, min_count = 50, workers = 4, sg = 1)\n",
    "    \n",
    "    # Word2Vec 임베딩 행렬의 크기를 확인\n",
    "    print(\"model.wv.vectors.shape: \",model.wv.vectors.shape)\n",
    "    \n",
    "    return model"
   ]
  },
  {
   "cell_type": "code",
   "execution_count": 138,
   "metadata": {
    "colab": {
     "base_uri": "https://localhost:8080/"
    },
    "id": "eTAnJ3_pDK3t",
    "outputId": "9cca61d0-3e5f-4039-8541-e71537eb8406"
   },
   "outputs": [
    {
     "name": "stdout",
     "output_type": "stream",
     "text": [
      "model.wv.vectors.shape:  (2797, 200)\n"
     ]
    }
   ],
   "source": [
    "model = get_model_wv(tokenized_data)"
   ]
  },
  {
   "cell_type": "code",
   "execution_count": 139,
   "metadata": {
    "id": "3bSvo-mWDX_o"
   },
   "outputs": [],
   "source": [
    "# 모델을 저장한다.\n",
    "model.save('word2vec.model')\n",
    " \n",
    "# 저장한 모델을 읽어온다.\n",
    "model = Word2Vec.load('word2vec.model')"
   ]
  },
  {
   "cell_type": "code",
   "execution_count": 140,
   "metadata": {
    "id": "XHwzINkyD3xG"
   },
   "outputs": [],
   "source": [
    "def print_most_similar_words(model, words_list): \n",
    "    \"\"\"\n",
    "    특정단어 리스트를 입력받아 유사도를 출력하는 함수\n",
    "    \"\"\"\n",
    "    similar_words = []\n",
    "    for keyword in words_list:        \n",
    "        items = model.wv.most_similar(keyword)\n",
    "        print('[', keyword, '] 와 관련있는 단어들 :' , items)\n",
    "        print()\n",
    "        similar_words.append(items)\n",
    "    return similar_words"
   ]
  },
  {
   "cell_type": "code",
   "execution_count": 149,
   "metadata": {
    "colab": {
     "base_uri": "https://localhost:8080/"
    },
    "id": "hbOKjMRCDe0E",
    "outputId": "141bfaf3-66f6-4238-8c45-f3d6cdfc0e65"
   },
   "outputs": [
    {
     "name": "stdout",
     "output_type": "stream",
     "text": [
      "[ novel ] 와 관련있는 단어들 : [('webnovel', 0.747894287109375), ('ln', 0.678335428237915), ('light', 0.6210076808929443), ('web', 0.5756183862686157), ('551', 0.5731841325759888), ('webnovels', 0.5690027475357056), ('manhwa', 0.5675177574157715), ('novels', 0.5546010136604309), ('imagination', 0.5511462688446045), ('toon', 0.5509622097015381)]\n",
      "\n",
      "[ author ] 와 관련있는 단어들 : [('writer', 0.7048658132553101), ('creator', 0.6925880312919617), ('authors', 0.5936667323112488), ('contest', 0.5777386426925659), ('wrote', 0.549881637096405), ('whoever', 0.5245250463485718), ('plagiarized', 0.5152181386947632), ('creating', 0.50868821144104), ('writing', 0.496338427066803), ('possible', 0.4959563612937927)]\n",
      "\n",
      "[ hero ] 와 관련있는 단어들 : [('anti', 0.7163810133934021), ('villain', 0.6957335472106934), ('typical', 0.6802951097488403), ('protag', 0.5988322496414185), ('antagonist', 0.5919815301895142), ('morals', 0.5502550601959229), ('lead', 0.5439956784248352), ('overpowered', 0.5417182445526123), ('realistic', 0.541534423828125), ('morally', 0.5399909615516663)]\n",
      "\n",
      "[ original ] 와 관련있는 단어들 : [('accurate', 0.7105567455291748), ('source', 0.6928402185440063), ('plagiarized', 0.6446717977523804), ('changes', 0.6385096311569214), ('probability', 0.6355525255203247), ('changing', 0.6344050168991089), ('based', 0.626671552658081), ('translated', 0.6254779696464539), ('stick', 0.6232512593269348), ('translators', 0.6187472939491272)]\n",
      "\n",
      "[ play ] 와 관련있는 단어들 : [('plays', 0.6014934778213501), ('video', 0.5760972499847412), ('played', 0.5737645626068115), ('capture', 0.5555261373519897), ('role', 0.5412963628768921), ('reverse', 0.5412591695785522), ('iq', 0.5409847497940063), ('moves', 0.5356985926628113), ('chess', 0.5243327021598816), ('card', 0.5228831171989441)]\n",
      "\n",
      "[ picture ] 와 관련있는 단어들 : [('frame', 0.6939506530761719), ('wallpaper', 0.6638343334197998), ('portrayed', 0.6608327627182007), ('beautifully', 0.6538089513778687), ('drawn', 0.6452296376228333), ('screenshot', 0.6428760886192322), ('image', 0.6386778354644775), ('imagination', 0.6327546834945679), ('facial', 0.6300498247146606), ('scenes', 0.6286855340003967)]\n",
      "\n",
      "[ story ] 와 관련있는 단어들 : [('storyline', 0.7120922803878784), ('storytelling', 0.6087561845779419), ('concept', 0.6071780920028687), ('comic', 0.5944571495056152), ('setting', 0.5919613838195801), ('toon', 0.5908793210983276), ('webcomic', 0.5897128582000732), ('stories', 0.5827831625938416), ('imagination', 0.5738083124160767), ('plot', 0.5736941695213318)]\n",
      "\n",
      "[ description ] 와 관련있는 단어들 : [('kingless', 0.6876860857009888), ('accurate', 0.6722957491874695), ('context', 0.6643235087394714), ('terms', 0.6616278290748596), ('title', 0.6410887241363525), ('immortal', 0.6397220492362976), ('term', 0.6271845698356628), ('choices', 0.6270614862442017), ('goh', 0.6160649657249451), ('effect', 0.6143404841423035)]\n",
      "\n",
      "[ quality ] 와 관련있는 단어들 : [('phenomenal', 0.6967864632606506), ('humor', 0.692267894744873), ('adventure', 0.687394380569458), ('storyline', 0.6841967105865479), ('excellent', 0.6788225769996643), ('storytelling', 0.6762562394142151), ('creative', 0.6748018860816956), ('spectacular', 0.6712878346443176), ('effort', 0.6662074327468872), ('fantastic', 0.6661416888237)]\n",
      "\n",
      "[ character ] 와 관련있는 단어들 : [('protag', 0.6236532926559448), ('lead', 0.6198569536209106), ('antagonist', 0.5993423461914062), ('main', 0.5942527055740356), ('characters', 0.5782445669174194), ('cast', 0.5766862034797668), ('villain', 0.5674207806587219), ('protagonists', 0.5606175661087036), ('morally', 0.553402841091156), ('protagonist', 0.527516782283783)]\n",
      "\n"
     ]
    }
   ],
   "source": [
    "#words_list = ['소설', '작가', '주인공', '원작', '연출', '작화', '스토리', '묘사', '퀄리티', '캐릭터']\n",
    "\n",
    "words_list = ['novel', 'author', 'hero', 'original', 'play', 'picture', 'story', 'description', 'quality','character']\n",
    "topics = print_most_similar_words(model, words_list)"
   ]
  },
  {
   "cell_type": "code",
   "execution_count": 150,
   "metadata": {
    "colab": {
     "base_uri": "https://localhost:8080/"
    },
    "id": "3hHpAlrtEASO",
    "outputId": "6d554577-fe6d-4f7e-8014-4ca80bd46459"
   },
   "outputs": [
    {
     "data": {
      "text/plain": [
       "['novel',\n",
       " 'novel',\n",
       " 'author',\n",
       " 'author',\n",
       " 'hero',\n",
       " 'hero',\n",
       " 'original',\n",
       " 'original',\n",
       " 'play',\n",
       " 'play',\n",
       " 'picture',\n",
       " 'picture',\n",
       " 'story',\n",
       " 'story',\n",
       " 'description',\n",
       " 'description',\n",
       " 'quality',\n",
       " 'quality',\n",
       " 'character',\n",
       " 'character']"
      ]
     },
     "execution_count": 150,
     "metadata": {},
     "output_type": "execute_result"
    }
   ],
   "source": [
    "topic_list = []\n",
    "for topic in words_list:\n",
    "    topic_list.append(topic)\n",
    "    topic_list.append(topic)\n",
    "topic_list"
   ]
  },
  {
   "cell_type": "code",
   "execution_count": 151,
   "metadata": {
    "colab": {
     "base_uri": "https://localhost:8080/",
     "height": 458
    },
    "id": "plZekuA976iz",
    "outputId": "501950f1-4e84-41f1-909b-49186980f9c8"
   },
   "outputs": [
    {
     "data": {
      "text/html": [
       "<div>\n",
       "<style scoped>\n",
       "    .dataframe tbody tr th:only-of-type {\n",
       "        vertical-align: middle;\n",
       "    }\n",
       "\n",
       "    .dataframe tbody tr th {\n",
       "        vertical-align: top;\n",
       "    }\n",
       "\n",
       "    .dataframe thead tr th {\n",
       "        text-align: left;\n",
       "    }\n",
       "</style>\n",
       "<table border=\"1\" class=\"dataframe\">\n",
       "  <thead>\n",
       "    <tr>\n",
       "      <th></th>\n",
       "      <th colspan=\"2\" halign=\"left\">novel</th>\n",
       "      <th colspan=\"2\" halign=\"left\">author</th>\n",
       "      <th colspan=\"2\" halign=\"left\">hero</th>\n",
       "      <th colspan=\"2\" halign=\"left\">original</th>\n",
       "      <th colspan=\"2\" halign=\"left\">play</th>\n",
       "      <th colspan=\"2\" halign=\"left\">picture</th>\n",
       "      <th colspan=\"2\" halign=\"left\">story</th>\n",
       "      <th colspan=\"2\" halign=\"left\">description</th>\n",
       "      <th colspan=\"2\" halign=\"left\">quality</th>\n",
       "      <th colspan=\"2\" halign=\"left\">character</th>\n",
       "    </tr>\n",
       "    <tr>\n",
       "      <th></th>\n",
       "      <th>topic</th>\n",
       "      <th>similarity</th>\n",
       "      <th>topic</th>\n",
       "      <th>similarity</th>\n",
       "      <th>topic</th>\n",
       "      <th>similarity</th>\n",
       "      <th>topic</th>\n",
       "      <th>similarity</th>\n",
       "      <th>topic</th>\n",
       "      <th>similarity</th>\n",
       "      <th>topic</th>\n",
       "      <th>similarity</th>\n",
       "      <th>topic</th>\n",
       "      <th>similarity</th>\n",
       "      <th>topic</th>\n",
       "      <th>similarity</th>\n",
       "      <th>topic</th>\n",
       "      <th>similarity</th>\n",
       "      <th>topic</th>\n",
       "      <th>similarity</th>\n",
       "    </tr>\n",
       "  </thead>\n",
       "  <tbody>\n",
       "    <tr>\n",
       "      <th>0</th>\n",
       "      <td>webnovel</td>\n",
       "      <td>0.747894</td>\n",
       "      <td>writer</td>\n",
       "      <td>0.704866</td>\n",
       "      <td>anti</td>\n",
       "      <td>0.716381</td>\n",
       "      <td>accurate</td>\n",
       "      <td>0.710557</td>\n",
       "      <td>plays</td>\n",
       "      <td>0.601493</td>\n",
       "      <td>frame</td>\n",
       "      <td>0.693951</td>\n",
       "      <td>storyline</td>\n",
       "      <td>0.712092</td>\n",
       "      <td>kingless</td>\n",
       "      <td>0.687686</td>\n",
       "      <td>phenomenal</td>\n",
       "      <td>0.696786</td>\n",
       "      <td>protag</td>\n",
       "      <td>0.623653</td>\n",
       "    </tr>\n",
       "    <tr>\n",
       "      <th>1</th>\n",
       "      <td>ln</td>\n",
       "      <td>0.678335</td>\n",
       "      <td>creator</td>\n",
       "      <td>0.692588</td>\n",
       "      <td>villain</td>\n",
       "      <td>0.695734</td>\n",
       "      <td>source</td>\n",
       "      <td>0.69284</td>\n",
       "      <td>video</td>\n",
       "      <td>0.576097</td>\n",
       "      <td>wallpaper</td>\n",
       "      <td>0.663834</td>\n",
       "      <td>storytelling</td>\n",
       "      <td>0.608756</td>\n",
       "      <td>accurate</td>\n",
       "      <td>0.672296</td>\n",
       "      <td>humor</td>\n",
       "      <td>0.692268</td>\n",
       "      <td>lead</td>\n",
       "      <td>0.619857</td>\n",
       "    </tr>\n",
       "    <tr>\n",
       "      <th>2</th>\n",
       "      <td>light</td>\n",
       "      <td>0.621008</td>\n",
       "      <td>authors</td>\n",
       "      <td>0.593667</td>\n",
       "      <td>typical</td>\n",
       "      <td>0.680295</td>\n",
       "      <td>plagiarized</td>\n",
       "      <td>0.644672</td>\n",
       "      <td>played</td>\n",
       "      <td>0.573765</td>\n",
       "      <td>portrayed</td>\n",
       "      <td>0.660833</td>\n",
       "      <td>concept</td>\n",
       "      <td>0.607178</td>\n",
       "      <td>context</td>\n",
       "      <td>0.664324</td>\n",
       "      <td>adventure</td>\n",
       "      <td>0.687394</td>\n",
       "      <td>antagonist</td>\n",
       "      <td>0.599342</td>\n",
       "    </tr>\n",
       "    <tr>\n",
       "      <th>3</th>\n",
       "      <td>web</td>\n",
       "      <td>0.575618</td>\n",
       "      <td>contest</td>\n",
       "      <td>0.577739</td>\n",
       "      <td>protag</td>\n",
       "      <td>0.598832</td>\n",
       "      <td>changes</td>\n",
       "      <td>0.63851</td>\n",
       "      <td>capture</td>\n",
       "      <td>0.555526</td>\n",
       "      <td>beautifully</td>\n",
       "      <td>0.653809</td>\n",
       "      <td>comic</td>\n",
       "      <td>0.594457</td>\n",
       "      <td>terms</td>\n",
       "      <td>0.661628</td>\n",
       "      <td>storyline</td>\n",
       "      <td>0.684197</td>\n",
       "      <td>main</td>\n",
       "      <td>0.594253</td>\n",
       "    </tr>\n",
       "    <tr>\n",
       "      <th>4</th>\n",
       "      <td>551</td>\n",
       "      <td>0.573184</td>\n",
       "      <td>wrote</td>\n",
       "      <td>0.549882</td>\n",
       "      <td>antagonist</td>\n",
       "      <td>0.591982</td>\n",
       "      <td>probability</td>\n",
       "      <td>0.635553</td>\n",
       "      <td>role</td>\n",
       "      <td>0.541296</td>\n",
       "      <td>drawn</td>\n",
       "      <td>0.64523</td>\n",
       "      <td>setting</td>\n",
       "      <td>0.591961</td>\n",
       "      <td>title</td>\n",
       "      <td>0.641089</td>\n",
       "      <td>excellent</td>\n",
       "      <td>0.678823</td>\n",
       "      <td>characters</td>\n",
       "      <td>0.578245</td>\n",
       "    </tr>\n",
       "    <tr>\n",
       "      <th>5</th>\n",
       "      <td>webnovels</td>\n",
       "      <td>0.569003</td>\n",
       "      <td>whoever</td>\n",
       "      <td>0.524525</td>\n",
       "      <td>morals</td>\n",
       "      <td>0.550255</td>\n",
       "      <td>changing</td>\n",
       "      <td>0.634405</td>\n",
       "      <td>reverse</td>\n",
       "      <td>0.541259</td>\n",
       "      <td>screenshot</td>\n",
       "      <td>0.642876</td>\n",
       "      <td>toon</td>\n",
       "      <td>0.590879</td>\n",
       "      <td>immortal</td>\n",
       "      <td>0.639722</td>\n",
       "      <td>storytelling</td>\n",
       "      <td>0.676256</td>\n",
       "      <td>cast</td>\n",
       "      <td>0.576686</td>\n",
       "    </tr>\n",
       "    <tr>\n",
       "      <th>6</th>\n",
       "      <td>manhwa</td>\n",
       "      <td>0.567518</td>\n",
       "      <td>plagiarized</td>\n",
       "      <td>0.515218</td>\n",
       "      <td>lead</td>\n",
       "      <td>0.543996</td>\n",
       "      <td>based</td>\n",
       "      <td>0.626672</td>\n",
       "      <td>iq</td>\n",
       "      <td>0.540985</td>\n",
       "      <td>image</td>\n",
       "      <td>0.638678</td>\n",
       "      <td>webcomic</td>\n",
       "      <td>0.589713</td>\n",
       "      <td>term</td>\n",
       "      <td>0.627185</td>\n",
       "      <td>creative</td>\n",
       "      <td>0.674802</td>\n",
       "      <td>villain</td>\n",
       "      <td>0.567421</td>\n",
       "    </tr>\n",
       "    <tr>\n",
       "      <th>7</th>\n",
       "      <td>novels</td>\n",
       "      <td>0.554601</td>\n",
       "      <td>creating</td>\n",
       "      <td>0.508688</td>\n",
       "      <td>overpowered</td>\n",
       "      <td>0.541718</td>\n",
       "      <td>translated</td>\n",
       "      <td>0.625478</td>\n",
       "      <td>moves</td>\n",
       "      <td>0.535699</td>\n",
       "      <td>imagination</td>\n",
       "      <td>0.632755</td>\n",
       "      <td>stories</td>\n",
       "      <td>0.582783</td>\n",
       "      <td>choices</td>\n",
       "      <td>0.627061</td>\n",
       "      <td>spectacular</td>\n",
       "      <td>0.671288</td>\n",
       "      <td>protagonists</td>\n",
       "      <td>0.560618</td>\n",
       "    </tr>\n",
       "    <tr>\n",
       "      <th>8</th>\n",
       "      <td>imagination</td>\n",
       "      <td>0.551146</td>\n",
       "      <td>writing</td>\n",
       "      <td>0.496338</td>\n",
       "      <td>realistic</td>\n",
       "      <td>0.541534</td>\n",
       "      <td>stick</td>\n",
       "      <td>0.623251</td>\n",
       "      <td>chess</td>\n",
       "      <td>0.524333</td>\n",
       "      <td>facial</td>\n",
       "      <td>0.63005</td>\n",
       "      <td>imagination</td>\n",
       "      <td>0.573808</td>\n",
       "      <td>goh</td>\n",
       "      <td>0.616065</td>\n",
       "      <td>effort</td>\n",
       "      <td>0.666207</td>\n",
       "      <td>morally</td>\n",
       "      <td>0.553403</td>\n",
       "    </tr>\n",
       "    <tr>\n",
       "      <th>9</th>\n",
       "      <td>toon</td>\n",
       "      <td>0.550962</td>\n",
       "      <td>possible</td>\n",
       "      <td>0.495956</td>\n",
       "      <td>morally</td>\n",
       "      <td>0.539991</td>\n",
       "      <td>translators</td>\n",
       "      <td>0.618747</td>\n",
       "      <td>card</td>\n",
       "      <td>0.522883</td>\n",
       "      <td>scenes</td>\n",
       "      <td>0.628686</td>\n",
       "      <td>plot</td>\n",
       "      <td>0.573694</td>\n",
       "      <td>effect</td>\n",
       "      <td>0.61434</td>\n",
       "      <td>fantastic</td>\n",
       "      <td>0.666142</td>\n",
       "      <td>protagonist</td>\n",
       "      <td>0.527517</td>\n",
       "    </tr>\n",
       "  </tbody>\n",
       "</table>\n",
       "</div>"
      ],
      "text/plain": [
       "         novel                  author                    hero             \\\n",
       "         topic similarity        topic similarity        topic similarity   \n",
       "0     webnovel   0.747894       writer   0.704866         anti   0.716381   \n",
       "1           ln   0.678335      creator   0.692588      villain   0.695734   \n",
       "2        light   0.621008      authors   0.593667      typical   0.680295   \n",
       "3          web   0.575618      contest   0.577739       protag   0.598832   \n",
       "4          551   0.573184        wrote   0.549882   antagonist   0.591982   \n",
       "5    webnovels   0.569003      whoever   0.524525       morals   0.550255   \n",
       "6       manhwa   0.567518  plagiarized   0.515218         lead   0.543996   \n",
       "7       novels   0.554601     creating   0.508688  overpowered   0.541718   \n",
       "8  imagination   0.551146      writing   0.496338    realistic   0.541534   \n",
       "9         toon   0.550962     possible   0.495956      morally   0.539991   \n",
       "\n",
       "      original                play                 picture             \\\n",
       "         topic similarity    topic similarity        topic similarity   \n",
       "0     accurate   0.710557    plays   0.601493        frame   0.693951   \n",
       "1       source    0.69284    video   0.576097    wallpaper   0.663834   \n",
       "2  plagiarized   0.644672   played   0.573765    portrayed   0.660833   \n",
       "3      changes    0.63851  capture   0.555526  beautifully   0.653809   \n",
       "4  probability   0.635553     role   0.541296        drawn    0.64523   \n",
       "5     changing   0.634405  reverse   0.541259   screenshot   0.642876   \n",
       "6        based   0.626672       iq   0.540985        image   0.638678   \n",
       "7   translated   0.625478    moves   0.535699  imagination   0.632755   \n",
       "8        stick   0.623251    chess   0.524333       facial    0.63005   \n",
       "9  translators   0.618747     card   0.522883       scenes   0.628686   \n",
       "\n",
       "          story            description                  quality             \\\n",
       "          topic similarity       topic similarity         topic similarity   \n",
       "0     storyline   0.712092    kingless   0.687686    phenomenal   0.696786   \n",
       "1  storytelling   0.608756    accurate   0.672296         humor   0.692268   \n",
       "2       concept   0.607178     context   0.664324     adventure   0.687394   \n",
       "3         comic   0.594457       terms   0.661628     storyline   0.684197   \n",
       "4       setting   0.591961       title   0.641089     excellent   0.678823   \n",
       "5          toon   0.590879    immortal   0.639722  storytelling   0.676256   \n",
       "6      webcomic   0.589713        term   0.627185      creative   0.674802   \n",
       "7       stories   0.582783     choices   0.627061   spectacular   0.671288   \n",
       "8   imagination   0.573808         goh   0.616065        effort   0.666207   \n",
       "9          plot   0.573694      effect    0.61434     fantastic   0.666142   \n",
       "\n",
       "      character             \n",
       "          topic similarity  \n",
       "0        protag   0.623653  \n",
       "1          lead   0.619857  \n",
       "2    antagonist   0.599342  \n",
       "3          main   0.594253  \n",
       "4    characters   0.578245  \n",
       "5          cast   0.576686  \n",
       "6       villain   0.567421  \n",
       "7  protagonists   0.560618  \n",
       "8       morally   0.553403  \n",
       "9   protagonist   0.527517  "
      ]
     },
     "execution_count": 151,
     "metadata": {},
     "output_type": "execute_result"
    }
   ],
   "source": [
    "df = pd.DataFrame(data=[], \n",
    "                  index = ['0','1','2','3','4','5','6','7','8','9'],\n",
    "                  columns=[ topic_list,  ['topic','similarity','topic','similarity','topic','similarity','topic','similarity','topic','similarity','topic','similarity','topic','similarity','topic','similarity','topic','similarity','topic','similarity']])  \n",
    "\n",
    "for index,topic in enumerate(topics): \n",
    "    for idx, tup in enumerate(topic):\n",
    "        word, similarity = tup\n",
    "        topic_name = words_list[index]\n",
    "        df[topic_name,'topic'][idx] = word\n",
    "        df[topic_name,'similarity'][idx] = similarity\n",
    "df"
   ]
  },
  {
   "cell_type": "code",
   "execution_count": 155,
   "metadata": {
    "colab": {
     "base_uri": "https://localhost:8080/",
     "height": 363
    },
    "id": "xW-0kCUX_k-6",
    "outputId": "874974eb-a977-4b5e-9993-052e3bdc6c0b"
   },
   "outputs": [
    {
     "data": {
      "text/html": [
       "<div>\n",
       "<style scoped>\n",
       "    .dataframe tbody tr th:only-of-type {\n",
       "        vertical-align: middle;\n",
       "    }\n",
       "\n",
       "    .dataframe tbody tr th {\n",
       "        vertical-align: top;\n",
       "    }\n",
       "\n",
       "    .dataframe thead th {\n",
       "        text-align: right;\n",
       "    }\n",
       "</style>\n",
       "<table border=\"1\" class=\"dataframe\">\n",
       "  <thead>\n",
       "    <tr style=\"text-align: right;\">\n",
       "      <th></th>\n",
       "      <th>Item</th>\n",
       "      <th>Topic</th>\n",
       "      <th>similarity</th>\n",
       "    </tr>\n",
       "  </thead>\n",
       "  <tbody>\n",
       "    <tr>\n",
       "      <th>0</th>\n",
       "      <td>phenomenal</td>\n",
       "      <td>quality</td>\n",
       "      <td>0.696786</td>\n",
       "    </tr>\n",
       "    <tr>\n",
       "      <th>1</th>\n",
       "      <td>humor</td>\n",
       "      <td>quality</td>\n",
       "      <td>0.692268</td>\n",
       "    </tr>\n",
       "    <tr>\n",
       "      <th>2</th>\n",
       "      <td>adventure</td>\n",
       "      <td>quality</td>\n",
       "      <td>0.687394</td>\n",
       "    </tr>\n",
       "    <tr>\n",
       "      <th>3</th>\n",
       "      <td>storyline</td>\n",
       "      <td>quality</td>\n",
       "      <td>0.684197</td>\n",
       "    </tr>\n",
       "    <tr>\n",
       "      <th>4</th>\n",
       "      <td>excellent</td>\n",
       "      <td>quality</td>\n",
       "      <td>0.678823</td>\n",
       "    </tr>\n",
       "    <tr>\n",
       "      <th>5</th>\n",
       "      <td>storytelling</td>\n",
       "      <td>quality</td>\n",
       "      <td>0.676256</td>\n",
       "    </tr>\n",
       "    <tr>\n",
       "      <th>6</th>\n",
       "      <td>creative</td>\n",
       "      <td>quality</td>\n",
       "      <td>0.674802</td>\n",
       "    </tr>\n",
       "    <tr>\n",
       "      <th>7</th>\n",
       "      <td>spectacular</td>\n",
       "      <td>quality</td>\n",
       "      <td>0.671288</td>\n",
       "    </tr>\n",
       "    <tr>\n",
       "      <th>8</th>\n",
       "      <td>effort</td>\n",
       "      <td>quality</td>\n",
       "      <td>0.666207</td>\n",
       "    </tr>\n",
       "    <tr>\n",
       "      <th>9</th>\n",
       "      <td>fantastic</td>\n",
       "      <td>quality</td>\n",
       "      <td>0.666142</td>\n",
       "    </tr>\n",
       "  </tbody>\n",
       "</table>\n",
       "</div>"
      ],
      "text/plain": [
       "           Item    Topic similarity\n",
       "0    phenomenal  quality   0.696786\n",
       "1         humor  quality   0.692268\n",
       "2     adventure  quality   0.687394\n",
       "3     storyline  quality   0.684197\n",
       "4     excellent  quality   0.678823\n",
       "5  storytelling  quality   0.676256\n",
       "6      creative  quality   0.674802\n",
       "7   spectacular  quality   0.671288\n",
       "8        effort  quality   0.666207\n",
       "9     fantastic  quality   0.666142"
      ]
     },
     "execution_count": 155,
     "metadata": {},
     "output_type": "execute_result"
    }
   ],
   "source": [
    "df_topic1 = df['quality','topic']\n",
    "df_topic1 = df_topic1.to_frame()\n",
    "df_topic1.columns = ['Item']\n",
    "df_topic1['Topic'] = 'quality'\n",
    "df_topic1['similarity'] = df['quality','similarity']\n",
    "df_topic1"
   ]
  },
  {
   "cell_type": "code",
   "execution_count": 153,
   "metadata": {
    "id": "kjCTjyp-CkEu"
   },
   "outputs": [],
   "source": [
    "import networkx as nx\n",
    "import numpy as np"
   ]
  },
  {
   "cell_type": "code",
   "execution_count": 156,
   "metadata": {
    "colab": {
     "base_uri": "https://localhost:8080/",
     "height": 411
    },
    "id": "FGoXWN1PCpYQ",
    "outputId": "81b9f80b-0a45-4d29-bd3a-eae26ec0afda"
   },
   "outputs": [
    {
     "data": {
      "image/png": "[encoded data removed]",
      "text/plain": [
       "<Figure size 504x504 with 1 Axes>"
      ]
     },
     "metadata": {},
     "output_type": "display_data"
    }
   ],
   "source": [
    "import networkx as nx\n",
    "import numpy as np\n",
    "\n",
    "                \n",
    "g = nx.Graph()\n",
    "g = nx.from_pandas_edgelist(df_topic1, source='Item',target='Topic')\n",
    "\n",
    "G_symmetric = nx.Graph()\n",
    "G_symmetric = nx.from_pandas_edgelist(df_topic1, source='Item',target='Topic')\n",
    "# print(nx.info(G_symmetric))\n",
    "\n",
    "pos = nx.spring_layout(G_symmetric)\n",
    "betCent = nx.betweenness_centrality(G_symmetric, normalized=True, endpoints=True)\n",
    "\n",
    "\n",
    "node_color = [20000.0 * G_symmetric.degree(v) for v in G_symmetric]\n",
    "node_size =  [v * 10000 for v in betCent.values()]\n",
    "\n",
    "pr = nx.pagerank(g)\n",
    "# print(nsize)\n",
    "nsize = np.array([v for v in pr.values()])\n",
    "nsize = 2000 * (nsize -min(nsize)/ (max(nsize) - min(nsize)))\n",
    "\n",
    "\n",
    "plt.figure(figsize=(7,7))\n",
    "nx.draw_networkx(G_symmetric, pos=pos, with_labels=True,\n",
    "#                  node_color=node_color,\n",
    "                 node_size=node_size,\n",
    "                 node_color = 'lightgreen')\n",
    "plt.savefig('quality.png',dpi=200 ,facecolor='#eeeeee')\n",
    "plt.axis('off');"
   ]
  },
  {
   "cell_type": "code",
   "execution_count": null,
   "metadata": {
    "id": "Zeak5dPrChSc"
   },
   "outputs": [],
   "source": []
  }
 ],
 "metadata": {
  "colab": {
   "collapsed_sections": [],
   "provenance": []
  },
  "kernelspec": {
   "display_name": "nlp",
   "language": "python",
   "name": "nlp"
  },
  "language_info": {
   "codemirror_mode": {
    "name": "ipython",
    "version": 3
   },
   "file_extension": ".py",
   "mimetype": "text/x-python",
   "name": "python",
   "nbconvert_exporter": "python",
   "pygments_lexer": "ipython3",
   "version": "3.8.8"
  }
 },
 "nbformat": 4,
 "nbformat_minor": 1
}
