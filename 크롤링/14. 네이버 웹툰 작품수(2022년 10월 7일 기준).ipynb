{
 "cells": [
  {
   "cell_type": "code",
   "execution_count": 2,
   "id": "1f3fe0b0",
   "metadata": {},
   "outputs": [],
   "source": [
    "import requests\n",
    "from bs4 import BeautifulSoup\n",
    "import time\n",
    "import csv\n",
    "from selenium import webdriver\n",
    "from selenium.webdriver.common.by import By\n",
    "from selenium.webdriver.common.keys import Keys\n",
    "from selenium.webdriver.chrome.service import Service"
   ]
  },
  {
   "cell_type": "markdown",
   "id": "3910bd1c",
   "metadata": {},
   "source": [
    "\n",
    "### 네이버 웹툰 요일별 전체 웹툰(2022년 10월 7일 기준)"
   ]
  },
  {
   "cell_type": "code",
   "execution_count": 3,
   "id": "44acdda2",
   "metadata": {},
   "outputs": [
    {
     "name": "stdout",
     "output_type": "stream",
     "text": [
      "웹스크래핑 진행가능\n",
      "545\n"
     ]
    }
   ],
   "source": [
    "\n",
    "#웹스크래핑 진행 가능 여부 확인\n",
    "\n",
    "url=\"https://comic.naver.com/webtoon/weekday\"\n",
    "res=requests.get(url)\n",
    "res.raise_for_status()\n",
    "print(\"웹스크래핑 진행가능\")\n",
    "\n",
    "#웹스크래핑 진행\n",
    "soup=BeautifulSoup(res.text,'lxml')  #lxml 파서를 통해서 뷰티풀 숲 객체로 만든 것\n",
    "cartoons=soup.find_all(\"a\",attrs={\"class\":\"title\"})\n",
    "    \n",
    "title_list=[] \n",
    "title_num=[]\n",
    "\n",
    "#주 2회 이상 연재 1개 작품으로 카운트\n",
    "for i in range(len(cartoons)):\n",
    "    t=cartoons[i].text\n",
    "    if(t in title_list):\n",
    "        continue\n",
    "    else:\n",
    "        title_list.append(t)\n",
    "        title_num.append(i)\n",
    "\n",
    "print(len(title_list))"
   ]
  },
  {
   "cell_type": "code",
   "execution_count": null,
   "id": "1161947b",
   "metadata": {},
   "outputs": [],
   "source": []
  },
  {
   "cell_type": "code",
   "execution_count": null,
   "id": "e0830689",
   "metadata": {},
   "outputs": [],
   "source": []
  }
 ],
 "metadata": {
  "kernelspec": {
   "display_name": "Python 3 (ipykernel)",
   "language": "python",
   "name": "python3"
  },
  "language_info": {
   "codemirror_mode": {
    "name": "ipython",
    "version": 3
   },
   "file_extension": ".py",
   "mimetype": "text/x-python",
   "name": "python",
   "nbconvert_exporter": "python",
   "pygments_lexer": "ipython3",
   "version": "3.9.12"
  }
 },
 "nbformat": 4,
 "nbformat_minor": 5
}
