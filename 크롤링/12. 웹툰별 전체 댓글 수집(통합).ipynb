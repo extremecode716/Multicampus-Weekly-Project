{
 "cells": [
  {
   "cell_type": "code",
   "execution_count": 47,
   "id": "713c6739",
   "metadata": {},
   "outputs": [],
   "source": [
    "from selenium import webdriver\n",
    "from selenium.webdriver.common.by import By\n",
    "from selenium.webdriver.chrome.service import Service\n",
    "from selenium.webdriver.common.keys import Keys\n",
    "from webdriver_manager.chrome import ChromeDriverManager\n",
    "from bs4 import BeautifulSoup as bs\n",
    "import pandas as pd\n",
    "import matplotlib.pyplot as plt\n",
    "import os\n",
    "import time\n",
    "from glob import glob\n",
    "\n",
    "pd.set_option(\"display.max_rows\", 1000)\n",
    "pd.set_option(\"display.max_columns\", 1000)\n",
    "pd.options.display.float_format = '{:.2f}'.format"
   ]
  },
  {
   "cell_type": "code",
   "execution_count": 2,
   "id": "c46c2ee6",
   "metadata": {},
   "outputs": [],
   "source": [
    "def get_num_episodes(chromedriver_path, platform = 'naver', lang = 'kr', titleId = 747269):\n",
    "    \"\"\"\n",
    "    웹툰의 에피소드 개수를 구하는 함수\n",
    "    \"\"\"    \n",
    "    if lang == 'kr':\n",
    "        print('titleId가 ', titleId, \"인 웹툰의 episode 개수를 구합니다.\")\n",
    "    elif lang == 'en':\n",
    "        print(\"Get the number of episodes of titleId, \", titleId)\n",
    "        \n",
    "    # chrome driver setting    \n",
    "    service = Service(executable_path=chromedriver_path)\n",
    "    \n",
    "    TIMEOUT = 1 \n",
    "    driver = webdriver.Chrome(service=service)\n",
    "    \n",
    "    if platform == 'naver' and lang == 'kr':\n",
    "        base_url = 'https://comic.naver.com/webtoon/list?' + 'titleId=' + str(titleId)\n",
    "    elif platform == 'naver' and lang == 'en':    \n",
    "        base_url = 'https://www.webtoons.com/en/action/omniscient-reader/list?' + 'title_no=' + str(titleId)\n",
    "        \n",
    "    print(base_url)\n",
    "    driver.get(base_url)\n",
    "    driver.implicitly_wait(TIMEOUT)   \n",
    "       \n",
    "    # Get the total number of pages\n",
    "    if lang == 'kr':\n",
    "        pages = driver.find_element(by=By.CSS_SELECTOR, value=\"#content > table > tbody > tr:nth-child(2) > td.title > a\")\n",
    "        num_episodes = int(pages.text.split('.')[0]) + 1\n",
    "        print(\"num_episodes:\", num_episodes)\n",
    "    elif lang == 'en':  \n",
    "        element = driver.find_element(by=By.CSS_SELECTOR, value=\"li._episodeItem\")\n",
    "        num_episodes = int(element.get_attribute(\"data-episode-no\"))\n",
    "        print(\"num_episodes:\", num_episodes)\n",
    "        \n",
    "    driver.quit()\n",
    "    return num_episodes"
   ]
  },
  {
   "cell_type": "code",
   "execution_count": 3,
   "id": "5cb07bd3",
   "metadata": {},
   "outputs": [],
   "source": [
    "def get_comments(driver, df, lang = 'kr', titleId = 747269, episode_no = 1):\n",
    "    \"\"\"\n",
    "    에피소드의 댓글을 수집하는 함수\n",
    "    \"\"\"        \n",
    "    \n",
    "    if lang == 'kr':\n",
    "        base_url = 'https://comic.naver.com/webtoon/detail?'\n",
    "        episode_url = base_url + 'titleId=' + str(titleId) + '&no='+str(episode_no)\n",
    "    elif lang == 'en':\n",
    "        # https://www.webtoons.com/en/action/omniscient-reader/episode-118/viewer?title_no=2154&episode_no=119\n",
    "        base_url = 'https://www.webtoons.com/en/action/omniscient-reader/episode-'\n",
    "        episode_url = base_url + str(episode_no -1) + '/viewer?title_no=' + str(titleId) + '&episode_no='+str(episode_no)        \n",
    "        \n",
    "    print(episode_url)\n",
    "    driver.get(episode_url)\n",
    "    driver.implicitly_wait(1)\n",
    "    \n",
    "    if lang == 'kr':\n",
    "        # 댓글창에 해당하는 프레임 선택\n",
    "        driver.switch_to.frame('commentIframe')\n",
    "\n",
    "        # 수집 편의를 위한 클린봇 댓글 필터링 기능 해제\n",
    "        # (클린봇이 부적절한 표현을 감지한 댓글입니다.) 제거\n",
    "        driver.find_element(By.CLASS_NAME,'u_cbox_cleanbot_setbutton').click()\n",
    "        time.sleep(0.2)\n",
    "        driver.find_element(By.CLASS_NAME,'u_cbox_layer_cleanbot2_checkbox').click()\n",
    "        time.sleep(0.2)\n",
    "        driver.find_element(By.CLASS_NAME,'u_cbox_layer_cleanbot2_extrabtn').click()\n",
    "        time.sleep(0.2)\n",
    "\n",
    "        # 전체 댓글 클릭\n",
    "        driver.find_element(By.CSS_SELECTOR,'#cbox_module > div > div.u_cbox_view_comment > a').click()\n",
    "        time.sleep(0.5)        \n",
    "    elif lang == 'en':\n",
    "        # No iframe\n",
    "        # No Cleanbot filtering setting\n",
    "        # No need to click \"전체 댓글\"        \n",
    "        pass \n",
    "    \n",
    "    # Move to the last page and Get the total number of pages\n",
    "    driver.find_element(By.CSS_SELECTOR,'#cbox_module > div > div.u_cbox_paginate > div > a.u_cbox_next.u_cbox_next_end').click()\n",
    "    time.sleep(1)\n",
    "    \n",
    "    u_cbox_num_page = driver.find_element(By.CSS_SELECTOR,'#cbox_module > div > div.u_cbox_paginate > div > strong > span.u_cbox_num_page')\n",
    "    time.sleep(1)\n",
    "    num_pages = u_cbox_num_page.text\n",
    "    print(\"num_pages:\",num_pages)\n",
    "  \n",
    "    # Move to the first page\n",
    "    driver.find_element(By.CSS_SELECTOR,'#cbox_module > div > div.u_cbox_paginate > div > a.u_cbox_pre.u_cbox_pre_end').click()\n",
    "    time.sleep(0.5)\n",
    "\n",
    "    for page in range(int(num_pages)):\n",
    "        if lang == 'kr':        \n",
    "            # switch to the recent tab\n",
    "            driver.switch_to.window(driver.window_handles[-1]) \n",
    "            driver.switch_to.frame(\"commentIframe\")        \n",
    "        \n",
    "        soup = bs(driver.page_source,\"html.parser\")\n",
    "\n",
    "        # Extract dates\n",
    "        dates = soup.findAll(\"span\", {\"class\":[\"u_cbox_date\"]})\n",
    "        dates = [date.text for date in dates]        \n",
    "\n",
    "        # Extract reveiws\n",
    "        reviews = soup.findAll(\"span\", {\"class\":[\"u_cbox_contents\"]})\n",
    "        reviews = [review.get_text() for review in reviews]\n",
    "\n",
    "        df_page = pd.DataFrame(data=[], columns=['Episode','Date','Review'])       \n",
    "        df_page['Date'] = dates\n",
    "        df_page['Review'] = reviews\n",
    "        df_page['Episode'] = df_page['Episode'].fillna(int(episode_no))\n",
    "        \n",
    "        df = pd.concat([df,df_page])      \n",
    "        print('.', end='')\n",
    "\n",
    "        if (page+1) == int(num_pages):\n",
    "            return df\n",
    "        \n",
    "        # Move to the next page\n",
    "        driver.find_element(By.CSS_SELECTOR, \"#cbox_module > div > div.u_cbox_paginate > div > strong + a\").click()        \n",
    "        time.sleep(0.2)\n",
    "    return df"
   ]
  },
  {
   "cell_type": "code",
   "execution_count": 6,
   "id": "2651b8de",
   "metadata": {},
   "outputs": [],
   "source": [
    "def get_webtoon_titleId(chromedriver_path, platform, lang, titleName):\n",
    "    \"\"\"\n",
    "    웹툰명으로 타이틀id를 구하는 함수\n",
    "    \"\"\"\n",
    "    if lang == 'kr':\n",
    "        print(titleName,\"의 titleId를 구합니다.\")\n",
    "    elif lang == 'en':\n",
    "        print(\"Get the title number of the \", titleName)\n",
    "        \n",
    "    # chrome driver setting    \n",
    "    service = Service(executable_path=chromedriver_path)\n",
    "\n",
    "    TIMEOUT = 1 \n",
    "    driver = webdriver.Chrome(service=service)  \n",
    "    \n",
    "    if platform == 'naver' and lang == 'kr':\n",
    "        base_url = 'https://comic.naver.com/index' \n",
    "    elif platform == 'naver' and lang == 'en':\n",
    "        base_url = 'https://www.webtoons.com/en/' \n",
    "        \n",
    "    print(base_url)\n",
    "    driver.get(base_url)\n",
    "    driver.implicitly_wait(TIMEOUT)   \n",
    "    \n",
    "    search_query = titleName\n",
    "\n",
    "    if lang == 'kr':\n",
    "        # https://comic.naver.com/search?keyword=전지적+독자+시점\n",
    "        driver.find_element(by=By.CSS_SELECTOR, value='input#gnb\\.keyword').clear() # 검색창 초기화\n",
    "        driver.find_element(by=By.CSS_SELECTOR, value='input#gnb\\.keyword').send_keys(search_query)  # 검색어 입력 \n",
    "        driver.find_element(by=By.CSS_SELECTOR, value= '#search_bar_button > span').click()  # 검색 버튼 클릭\n",
    "        time.sleep(1)        \n",
    "        \n",
    "        # 웹툰 선택\n",
    "        driver.find_element(by=By.CSS_SELECTOR, value='#content > div.searchTxt > ul > li:nth-child(2) > a').click()\n",
    "        time.sleep(1)  \n",
    "\n",
    "        names = driver.find_elements(by=By.CSS_SELECTOR, value='#content ul h5 > a')\n",
    "        for name in names:\n",
    "            if name.text == titleName:\n",
    "                href = name.get_attribute('href')\n",
    "                titleId = href.split('?titleId=')[1]\n",
    "                print(titleName, 'titleId ', titleId)\n",
    "            \n",
    "    elif lang == 'en':\n",
    "        # https://www.webtoons.com/en/search?keyword=Omniscient%20Reader\n",
    "        driver.find_element(by=By.CSS_SELECTOR, value= 'a.btn_search').click()  # 검색 버튼 클릭\n",
    "        driver.find_element(by=By.CSS_SELECTOR, value='input.input_search').clear() # 검색창 초기화\n",
    "        driver.find_element(by=By.CSS_SELECTOR, value='input.input_search').send_keys(search_query)  # 검색어 입력\n",
    "        driver.find_element(by=By.CSS_SELECTOR, value='input.input_search').send_keys(Keys.RETURN)  # Enter Key 입력 \n",
    "              \n",
    "        # ORIGINALS 선택\n",
    "        names = driver.find_elements(by=By.CSS_SELECTOR, value='#content > div.card_wrap.search._searchResult > ul > li > a')\n",
    "        time.sleep(1) \n",
    "        # CANVAS 선택\n",
    "        #elements = driver.find_elements(by=By.CSS_SELECTOR, value='#content > div.card_wrap.search._searchResult > div.challenge_lst.search > ul  a > p.subj')\n",
    "        for name in names:\n",
    "            subj = name.find_element(by=By.CSS_SELECTOR, value='div > p.subj')\n",
    "            if subj.text == titleName:\n",
    "                href = name.get_attribute('href')\n",
    "                titleId = href.split('?titleNo=')[1]\n",
    "                print(titleName, 'titleId ', titleId)   \n",
    "    driver.quit()\n",
    "    return titleId"
   ]
  },
  {
   "cell_type": "code",
   "execution_count": 24,
   "id": "10886489",
   "metadata": {},
   "outputs": [],
   "source": [
    "def get_num_pages(driver, lang = 'kr', titleId = 747269, episode_no = 1):\n",
    "    \"\"\"\n",
    "    에피소드별 댓글 페이지 개수를 구하는 함수\n",
    "    \"\"\"\n",
    "    if lang == 'kr':\n",
    "        base_url = 'https://comic.naver.com/webtoon/detail?'\n",
    "        episode_url = base_url + 'titleId=' + str(titleId) + '&no='+str(episode_no)\n",
    "    elif lang == 'en':\n",
    "        # https://www.webtoons.com/en/action/omniscient-reader/episode-118/viewer?title_no=2154&episode_no=119\n",
    "        base_url = 'https://www.webtoons.com/en/action/omniscient-reader/episode-'\n",
    "        episode_url = base_url + str(episode_no -1) + '/viewer?title_no=' + str(titleId) + '&episode_no='+str(episode_no)        \n",
    "        \n",
    "    print(episode_url)\n",
    "    driver.get(episode_url)\n",
    "    driver.implicitly_wait(1)\n",
    "    \n",
    "    if lang == 'kr':\n",
    "        # 댓글창에 해당하는 프레임 선택\n",
    "        driver.switch_to.frame('commentIframe')\n",
    "\n",
    "        # 수집 편의를 위한 클린봇 댓글 필터링 기능 해제\n",
    "        # (클린봇이 부적절한 표현을 감지한 댓글입니다.) 제거\n",
    "        driver.find_element(By.CLASS_NAME,'u_cbox_cleanbot_setbutton').click()\n",
    "        time.sleep(0.2)\n",
    "        driver.find_element(By.CLASS_NAME,'u_cbox_layer_cleanbot2_checkbox').click()\n",
    "        time.sleep(0.2)\n",
    "        driver.find_element(By.CLASS_NAME,'u_cbox_layer_cleanbot2_extrabtn').click()\n",
    "        time.sleep(0.2)\n",
    "\n",
    "        # 전체 댓글 클릭\n",
    "        driver.find_element(By.CSS_SELECTOR,'#cbox_module > div > div.u_cbox_view_comment > a').click()\n",
    "        time.sleep(0.5)        \n",
    "    elif lang == 'en':\n",
    "        # No iframe\n",
    "        # No Cleanbot filtering setting\n",
    "        # No need to click \"전체 댓글\"        \n",
    "        pass \n",
    "    \n",
    "    # Move to the last page and Get the total number of pages\n",
    "    driver.find_element(By.CSS_SELECTOR,'#cbox_module > div > div.u_cbox_paginate > div > a.u_cbox_next.u_cbox_next_end').click()\n",
    "    time.sleep(1)\n",
    "    \n",
    "    u_cbox_num_page = driver.find_element(By.CSS_SELECTOR,'#cbox_module > div > div.u_cbox_paginate > div > strong > span.u_cbox_num_page')\n",
    "    time.sleep(1)\n",
    "    num_pages = u_cbox_num_page.text\n",
    "    print(\"num_pages:\",num_pages)\n",
    "       \n",
    "    return num_pages"
   ]
  },
  {
   "cell_type": "code",
   "execution_count": 25,
   "id": "8643b068",
   "metadata": {},
   "outputs": [],
   "source": [
    "def set_configuration():   \n",
    "    \"\"\"\n",
    "    Argument setting 하는 함수\n",
    "    \"\"\"\n",
    "    chromedriver_path='C:\\Temp\\chromedriver.exe'\n",
    "    platform = 'naver'\n",
    "    lang ='kr'\n",
    "    if lang == 'kr':\n",
    "        webtoon = '전지적 독자 시점'\n",
    "    elif lang == 'en':\n",
    "        webtoon = 'Omniscient Reader'\n",
    "\n",
    "    # 웹툰명으로 타이틀id를 구한다.\n",
    "    title_id = get_webtoon_titleId(chromedriver_path, platform, lang, webtoon) \n",
    "\n",
    "    # 웹툰의 전체 에피소드 개수를 구한다.\n",
    "    num_episodes = get_num_episodes(chromedriver_path, platform, lang, title_id)\n",
    "\n",
    "    # 결과를 저장할 폴더를 만든다.\n",
    "    DATA_PATH = './data/'+lang+'/'\n",
    "    if not os.path.exists(DATA_PATH):\n",
    "        os.makedirs(DATA_PATH)\n",
    "    print(\"set_configuration Done\")"
   ]
  },
  {
   "cell_type": "code",
   "execution_count": 38,
   "id": "bfdec2c1",
   "metadata": {},
   "outputs": [],
   "source": [
    "def get_num_reviews():\n",
    "    \"\"\"\n",
    "    에피소드별 댓글 개수를 구하는 함수\n",
    "    \"\"\"\n",
    "    # Chrome driver setting    \n",
    "    service = Service(executable_path=chromedriver_path)\n",
    "    TIMEOUT = 1 \n",
    "    driver = webdriver.Chrome(service=service)\n",
    "\n",
    "    # DataFrame을 생성한다.\n",
    "    df = pd.DataFrame(data=[], columns=['Episode','Num_pages','Num_reviews']) \n",
    "\n",
    "    for episode_no in range(1, num_episodes):\n",
    "        driver = webdriver.Chrome(service=service)    \n",
    "        num_pages = get_num_pages(driver, lang, title_id, episode_no)\n",
    "        driver.close()    \n",
    "\n",
    "        # DataFrame에 저장한다.    \n",
    "        reviews_per_page = 15\n",
    "        df.loc[episode_no, 'Episode'] = episode_no\n",
    "        df.loc[episode_no, 'Num_pages'] = int(num_pages)  \n",
    "        df.loc[episode_no, 'Num_reviews'] = int(num_pages) * reviews_per_page \n",
    "\n",
    "    # CSV 파일로 저장한다.\n",
    "    file_path = DATA_PATH + '{lang}_{webtoon}_num_reviews.csv'.format(lang=lang, webtoon=webtoon, episode_no=episode_no)\n",
    "    df.to_csv(file_path,index = False)\n",
    "    return df\n",
    "    print(\"get_num_reviews Done\")"
   ]
  },
  {
   "cell_type": "code",
   "execution_count": 28,
   "id": "9083f048",
   "metadata": {},
   "outputs": [],
   "source": [
    "def get_all_comments():\n",
    "    #에피소드마다 크롤링한다.\n",
    "    for episode_no in range(1, num_episodes):\n",
    "\n",
    "        # DataFrame을 생성한다.\n",
    "        df = pd.DataFrame(data=[], columns=['Episode','Date','Review'])\n",
    "\n",
    "        # DataFrame에 저장한다.\n",
    "        driver = webdriver.Chrome(service=service)    \n",
    "        df = get_comments(driver, df, lang, titleId, episode_no)\n",
    "        driver.close()\n",
    "\n",
    "        # CSV 파일로 저장한다.\n",
    "        file_path = DATA_PATH + '{lang}_{webtoon}_episode_{episode_no}.csv'.format(lang=lang, webtoon=webtoon, episode_no=episode_no)\n",
    "        df.to_csv(file_path,index = False)\n",
    "        print(\"Episode\", episode_no, \" saved.\")\n",
    "    print('get_all_comments Done.')"
   ]
  },
  {
   "cell_type": "code",
   "execution_count": 29,
   "id": "e04f4e27",
   "metadata": {},
   "outputs": [],
   "source": [
    "def merget_csv_files():\n",
    "    \"\"\"\n",
    "    여러개의 CSV 파일을 통합하는 함수\n",
    "    \"\"\"\n",
    "    file_names= glob(DATA_PATH + '*.csv')\n",
    "    print(file_names)\n",
    "\n",
    "    total = pd.DataFrame()\n",
    "    for file_name  in file_names:\n",
    "        temp = pd.read_csv(file_name, encoding='utf-8' , low_memory=False)\n",
    "        total = pd.concat([total, temp])\n",
    "\n",
    "    total.reset_index(inplace=True, drop=True)\n",
    "    total.to_csv( DATA_PATH + '{lang}_{webtoon}_episode_total.csv'.format(lang=lang, webtoon=webtoon))\n",
    "    print('Done.')"
   ]
  },
  {
   "cell_type": "code",
   "execution_count": 40,
   "id": "1be7e291",
   "metadata": {},
   "outputs": [
    {
     "name": "stdout",
     "output_type": "stream",
     "text": [
      "전지적 독자 시점 의 titleId를 구합니다.\n",
      "https://comic.naver.com/index\n",
      "전지적 독자 시점 titleId  747269\n",
      "titleId가  747269 인 웹툰의 episode 개수를 구합니다.\n",
      "https://comic.naver.com/webtoon/list?titleId=747269\n",
      "num_episodes: 125\n",
      "set_configuration Done\n",
      "https://comic.naver.com/webtoon/detail?titleId=747269&no=1\n",
      "num_pages: 818\n",
      "https://comic.naver.com/webtoon/detail?titleId=747269&no=2\n",
      "num_pages: 695\n",
      "https://comic.naver.com/webtoon/detail?titleId=747269&no=3\n",
      "num_pages: 338\n",
      "https://comic.naver.com/webtoon/detail?titleId=747269&no=4\n",
      "num_pages: 269\n",
      "https://comic.naver.com/webtoon/detail?titleId=747269&no=5\n",
      "num_pages: 187\n",
      "https://comic.naver.com/webtoon/detail?titleId=747269&no=6\n",
      "num_pages: 168\n",
      "https://comic.naver.com/webtoon/detail?titleId=747269&no=7\n",
      "num_pages: 290\n",
      "https://comic.naver.com/webtoon/detail?titleId=747269&no=8\n",
      "num_pages: 179\n",
      "https://comic.naver.com/webtoon/detail?titleId=747269&no=9\n",
      "num_pages: 300\n",
      "https://comic.naver.com/webtoon/detail?titleId=747269&no=10\n",
      "num_pages: 146\n",
      "https://comic.naver.com/webtoon/detail?titleId=747269&no=11\n",
      "num_pages: 187\n",
      "https://comic.naver.com/webtoon/detail?titleId=747269&no=12\n",
      "num_pages: 255\n",
      "https://comic.naver.com/webtoon/detail?titleId=747269&no=13\n",
      "num_pages: 280\n",
      "https://comic.naver.com/webtoon/detail?titleId=747269&no=14\n",
      "num_pages: 305\n",
      "https://comic.naver.com/webtoon/detail?titleId=747269&no=15\n",
      "num_pages: 161\n",
      "https://comic.naver.com/webtoon/detail?titleId=747269&no=16\n",
      "num_pages: 193\n",
      "https://comic.naver.com/webtoon/detail?titleId=747269&no=17\n",
      "num_pages: 201\n",
      "https://comic.naver.com/webtoon/detail?titleId=747269&no=18\n",
      "num_pages: 238\n",
      "https://comic.naver.com/webtoon/detail?titleId=747269&no=19\n",
      "num_pages: 206\n",
      "https://comic.naver.com/webtoon/detail?titleId=747269&no=20\n",
      "num_pages: 207\n",
      "https://comic.naver.com/webtoon/detail?titleId=747269&no=21\n",
      "num_pages: 208\n",
      "https://comic.naver.com/webtoon/detail?titleId=747269&no=22\n",
      "num_pages: 262\n",
      "https://comic.naver.com/webtoon/detail?titleId=747269&no=23\n",
      "num_pages: 193\n",
      "https://comic.naver.com/webtoon/detail?titleId=747269&no=24\n",
      "num_pages: 293\n",
      "https://comic.naver.com/webtoon/detail?titleId=747269&no=25\n",
      "num_pages: 305\n",
      "https://comic.naver.com/webtoon/detail?titleId=747269&no=26\n",
      "num_pages: 157\n",
      "https://comic.naver.com/webtoon/detail?titleId=747269&no=27\n",
      "num_pages: 231\n",
      "https://comic.naver.com/webtoon/detail?titleId=747269&no=28\n",
      "num_pages: 193\n",
      "https://comic.naver.com/webtoon/detail?titleId=747269&no=29\n",
      "num_pages: 228\n",
      "https://comic.naver.com/webtoon/detail?titleId=747269&no=30\n",
      "num_pages: 148\n",
      "https://comic.naver.com/webtoon/detail?titleId=747269&no=31\n",
      "num_pages: 126\n",
      "https://comic.naver.com/webtoon/detail?titleId=747269&no=32\n",
      "num_pages: 204\n",
      "https://comic.naver.com/webtoon/detail?titleId=747269&no=33\n",
      "num_pages: 199\n",
      "https://comic.naver.com/webtoon/detail?titleId=747269&no=34\n",
      "num_pages: 156\n",
      "https://comic.naver.com/webtoon/detail?titleId=747269&no=35\n",
      "num_pages: 191\n",
      "https://comic.naver.com/webtoon/detail?titleId=747269&no=36\n",
      "num_pages: 122\n",
      "https://comic.naver.com/webtoon/detail?titleId=747269&no=37\n",
      "num_pages: 140\n",
      "https://comic.naver.com/webtoon/detail?titleId=747269&no=38\n",
      "num_pages: 230\n",
      "https://comic.naver.com/webtoon/detail?titleId=747269&no=39\n",
      "num_pages: 228\n",
      "https://comic.naver.com/webtoon/detail?titleId=747269&no=40\n",
      "num_pages: 162\n",
      "https://comic.naver.com/webtoon/detail?titleId=747269&no=41\n",
      "num_pages: 365\n",
      "https://comic.naver.com/webtoon/detail?titleId=747269&no=42\n",
      "num_pages: 145\n",
      "https://comic.naver.com/webtoon/detail?titleId=747269&no=43\n",
      "num_pages: 247\n",
      "https://comic.naver.com/webtoon/detail?titleId=747269&no=44\n",
      "num_pages: 211\n",
      "https://comic.naver.com/webtoon/detail?titleId=747269&no=45\n",
      "num_pages: 157\n",
      "https://comic.naver.com/webtoon/detail?titleId=747269&no=46\n",
      "num_pages: 220\n",
      "https://comic.naver.com/webtoon/detail?titleId=747269&no=47\n",
      "num_pages: 172\n",
      "https://comic.naver.com/webtoon/detail?titleId=747269&no=48\n",
      "num_pages: 165\n",
      "https://comic.naver.com/webtoon/detail?titleId=747269&no=49\n",
      "num_pages: 141\n",
      "https://comic.naver.com/webtoon/detail?titleId=747269&no=50\n",
      "num_pages: 145\n",
      "https://comic.naver.com/webtoon/detail?titleId=747269&no=51\n",
      "num_pages: 155\n",
      "https://comic.naver.com/webtoon/detail?titleId=747269&no=52\n",
      "num_pages: 138\n",
      "https://comic.naver.com/webtoon/detail?titleId=747269&no=53\n",
      "num_pages: 181\n",
      "https://comic.naver.com/webtoon/detail?titleId=747269&no=54\n",
      "num_pages: 209\n",
      "https://comic.naver.com/webtoon/detail?titleId=747269&no=55\n",
      "num_pages: 164\n",
      "https://comic.naver.com/webtoon/detail?titleId=747269&no=56\n",
      "num_pages: 146\n",
      "https://comic.naver.com/webtoon/detail?titleId=747269&no=57\n",
      "num_pages: 103\n",
      "https://comic.naver.com/webtoon/detail?titleId=747269&no=58\n",
      "num_pages: 79\n",
      "https://comic.naver.com/webtoon/detail?titleId=747269&no=59\n",
      "num_pages: 115\n",
      "https://comic.naver.com/webtoon/detail?titleId=747269&no=60\n",
      "num_pages: 107\n",
      "https://comic.naver.com/webtoon/detail?titleId=747269&no=61\n",
      "num_pages: 130\n",
      "https://comic.naver.com/webtoon/detail?titleId=747269&no=62\n",
      "num_pages: 96\n",
      "https://comic.naver.com/webtoon/detail?titleId=747269&no=63\n",
      "num_pages: 137\n",
      "https://comic.naver.com/webtoon/detail?titleId=747269&no=64\n",
      "num_pages: 231\n",
      "https://comic.naver.com/webtoon/detail?titleId=747269&no=65\n",
      "num_pages: 157\n",
      "https://comic.naver.com/webtoon/detail?titleId=747269&no=66\n",
      "num_pages: 140\n",
      "https://comic.naver.com/webtoon/detail?titleId=747269&no=67\n",
      "num_pages: 268\n",
      "https://comic.naver.com/webtoon/detail?titleId=747269&no=68\n",
      "num_pages: 93\n",
      "https://comic.naver.com/webtoon/detail?titleId=747269&no=69\n",
      "num_pages: 172\n",
      "https://comic.naver.com/webtoon/detail?titleId=747269&no=70\n",
      "num_pages: 112\n",
      "https://comic.naver.com/webtoon/detail?titleId=747269&no=71\n",
      "num_pages: 91\n",
      "https://comic.naver.com/webtoon/detail?titleId=747269&no=72\n",
      "num_pages: 90\n",
      "https://comic.naver.com/webtoon/detail?titleId=747269&no=73\n",
      "num_pages: 108\n",
      "https://comic.naver.com/webtoon/detail?titleId=747269&no=74\n",
      "num_pages: 157\n",
      "https://comic.naver.com/webtoon/detail?titleId=747269&no=75\n",
      "num_pages: 93\n",
      "https://comic.naver.com/webtoon/detail?titleId=747269&no=76\n",
      "num_pages: 112\n",
      "https://comic.naver.com/webtoon/detail?titleId=747269&no=77\n",
      "num_pages: 107\n",
      "https://comic.naver.com/webtoon/detail?titleId=747269&no=78\n",
      "num_pages: 89\n",
      "https://comic.naver.com/webtoon/detail?titleId=747269&no=79\n",
      "num_pages: 111\n",
      "https://comic.naver.com/webtoon/detail?titleId=747269&no=80\n",
      "num_pages: 62\n",
      "https://comic.naver.com/webtoon/detail?titleId=747269&no=81\n",
      "num_pages: 64\n",
      "https://comic.naver.com/webtoon/detail?titleId=747269&no=82\n",
      "num_pages: 80\n",
      "https://comic.naver.com/webtoon/detail?titleId=747269&no=83\n",
      "num_pages: 57\n",
      "https://comic.naver.com/webtoon/detail?titleId=747269&no=84\n",
      "num_pages: 89\n",
      "https://comic.naver.com/webtoon/detail?titleId=747269&no=85\n",
      "num_pages: 83\n",
      "https://comic.naver.com/webtoon/detail?titleId=747269&no=86\n",
      "num_pages: 139\n",
      "https://comic.naver.com/webtoon/detail?titleId=747269&no=87\n",
      "num_pages: 177\n",
      "https://comic.naver.com/webtoon/detail?titleId=747269&no=88\n",
      "num_pages: 126\n",
      "https://comic.naver.com/webtoon/detail?titleId=747269&no=89\n",
      "num_pages: 72\n",
      "https://comic.naver.com/webtoon/detail?titleId=747269&no=90\n",
      "num_pages: 81\n",
      "https://comic.naver.com/webtoon/detail?titleId=747269&no=91\n",
      "num_pages: 117\n",
      "https://comic.naver.com/webtoon/detail?titleId=747269&no=92\n",
      "num_pages: 94\n",
      "https://comic.naver.com/webtoon/detail?titleId=747269&no=93\n",
      "num_pages: 113\n",
      "https://comic.naver.com/webtoon/detail?titleId=747269&no=94\n",
      "num_pages: 50\n",
      "https://comic.naver.com/webtoon/detail?titleId=747269&no=95\n",
      "num_pages: 82\n",
      "https://comic.naver.com/webtoon/detail?titleId=747269&no=96\n",
      "num_pages: 117\n",
      "https://comic.naver.com/webtoon/detail?titleId=747269&no=97\n",
      "num_pages: 138\n",
      "https://comic.naver.com/webtoon/detail?titleId=747269&no=98\n",
      "num_pages: 65\n",
      "https://comic.naver.com/webtoon/detail?titleId=747269&no=99\n",
      "num_pages: 106\n",
      "https://comic.naver.com/webtoon/detail?titleId=747269&no=100\n",
      "num_pages: 103\n",
      "https://comic.naver.com/webtoon/detail?titleId=747269&no=101\n",
      "num_pages: 115\n",
      "https://comic.naver.com/webtoon/detail?titleId=747269&no=102\n",
      "num_pages: 125\n",
      "https://comic.naver.com/webtoon/detail?titleId=747269&no=103\n",
      "num_pages: 86\n",
      "https://comic.naver.com/webtoon/detail?titleId=747269&no=104\n",
      "num_pages: 73\n",
      "https://comic.naver.com/webtoon/detail?titleId=747269&no=105\n",
      "num_pages: 86\n",
      "https://comic.naver.com/webtoon/detail?titleId=747269&no=106\n",
      "num_pages: 96\n",
      "https://comic.naver.com/webtoon/detail?titleId=747269&no=107\n"
     ]
    },
    {
     "name": "stdout",
     "output_type": "stream",
     "text": [
      "num_pages: 110\n",
      "https://comic.naver.com/webtoon/detail?titleId=747269&no=108\n",
      "num_pages: 102\n",
      "https://comic.naver.com/webtoon/detail?titleId=747269&no=109\n",
      "num_pages: 149\n",
      "https://comic.naver.com/webtoon/detail?titleId=747269&no=110\n",
      "num_pages: 56\n",
      "https://comic.naver.com/webtoon/detail?titleId=747269&no=111\n",
      "num_pages: 81\n",
      "https://comic.naver.com/webtoon/detail?titleId=747269&no=112\n",
      "num_pages: 87\n",
      "https://comic.naver.com/webtoon/detail?titleId=747269&no=113\n",
      "num_pages: 90\n",
      "https://comic.naver.com/webtoon/detail?titleId=747269&no=114\n",
      "num_pages: 62\n",
      "https://comic.naver.com/webtoon/detail?titleId=747269&no=115\n",
      "num_pages: 116\n",
      "https://comic.naver.com/webtoon/detail?titleId=747269&no=116\n",
      "num_pages: 70\n",
      "https://comic.naver.com/webtoon/detail?titleId=747269&no=117\n",
      "num_pages: 103\n",
      "https://comic.naver.com/webtoon/detail?titleId=747269&no=118\n",
      "num_pages: 71\n",
      "https://comic.naver.com/webtoon/detail?titleId=747269&no=119\n",
      "num_pages: 54\n",
      "https://comic.naver.com/webtoon/detail?titleId=747269&no=120\n",
      "num_pages: 123\n",
      "https://comic.naver.com/webtoon/detail?titleId=747269&no=121\n",
      "num_pages: 124\n",
      "https://comic.naver.com/webtoon/detail?titleId=747269&no=122\n",
      "num_pages: 94\n",
      "https://comic.naver.com/webtoon/detail?titleId=747269&no=123\n",
      "num_pages: 71\n",
      "https://comic.naver.com/webtoon/detail?titleId=747269&no=124\n",
      "num_pages: 44\n"
     ]
    }
   ],
   "source": [
    "if __name__==\"__main__\":\n",
    "    set_configuration()\n",
    "    get_num_reviews()\n",
    "    get_all_comments()\n",
    "    merget_csv_files()"
   ]
  },
  {
   "cell_type": "code",
   "execution_count": 57,
   "id": "1de09742",
   "metadata": {},
   "outputs": [
    {
     "data": {
      "text/html": [
       "<div>\n",
       "<style scoped>\n",
       "    .dataframe tbody tr th:only-of-type {\n",
       "        vertical-align: middle;\n",
       "    }\n",
       "\n",
       "    .dataframe tbody tr th {\n",
       "        vertical-align: top;\n",
       "    }\n",
       "\n",
       "    .dataframe thead th {\n",
       "        text-align: right;\n",
       "    }\n",
       "</style>\n",
       "<table border=\"1\" class=\"dataframe\">\n",
       "  <thead>\n",
       "    <tr style=\"text-align: right;\">\n",
       "      <th></th>\n",
       "      <th>Episode</th>\n",
       "      <th>Num_reviews</th>\n",
       "    </tr>\n",
       "  </thead>\n",
       "  <tbody>\n",
       "    <tr>\n",
       "      <th>0</th>\n",
       "      <td>1</td>\n",
       "      <td>12270</td>\n",
       "    </tr>\n",
       "    <tr>\n",
       "      <th>1</th>\n",
       "      <td>2</td>\n",
       "      <td>10425</td>\n",
       "    </tr>\n",
       "    <tr>\n",
       "      <th>2</th>\n",
       "      <td>3</td>\n",
       "      <td>5070</td>\n",
       "    </tr>\n",
       "    <tr>\n",
       "      <th>3</th>\n",
       "      <td>4</td>\n",
       "      <td>4035</td>\n",
       "    </tr>\n",
       "    <tr>\n",
       "      <th>4</th>\n",
       "      <td>5</td>\n",
       "      <td>2805</td>\n",
       "    </tr>\n",
       "    <tr>\n",
       "      <th>5</th>\n",
       "      <td>6</td>\n",
       "      <td>2520</td>\n",
       "    </tr>\n",
       "    <tr>\n",
       "      <th>6</th>\n",
       "      <td>7</td>\n",
       "      <td>4350</td>\n",
       "    </tr>\n",
       "    <tr>\n",
       "      <th>7</th>\n",
       "      <td>8</td>\n",
       "      <td>2685</td>\n",
       "    </tr>\n",
       "    <tr>\n",
       "      <th>8</th>\n",
       "      <td>9</td>\n",
       "      <td>4500</td>\n",
       "    </tr>\n",
       "    <tr>\n",
       "      <th>9</th>\n",
       "      <td>10</td>\n",
       "      <td>2190</td>\n",
       "    </tr>\n",
       "    <tr>\n",
       "      <th>10</th>\n",
       "      <td>11</td>\n",
       "      <td>2805</td>\n",
       "    </tr>\n",
       "    <tr>\n",
       "      <th>11</th>\n",
       "      <td>12</td>\n",
       "      <td>3825</td>\n",
       "    </tr>\n",
       "    <tr>\n",
       "      <th>12</th>\n",
       "      <td>13</td>\n",
       "      <td>4200</td>\n",
       "    </tr>\n",
       "    <tr>\n",
       "      <th>13</th>\n",
       "      <td>14</td>\n",
       "      <td>4575</td>\n",
       "    </tr>\n",
       "    <tr>\n",
       "      <th>14</th>\n",
       "      <td>15</td>\n",
       "      <td>2415</td>\n",
       "    </tr>\n",
       "    <tr>\n",
       "      <th>15</th>\n",
       "      <td>16</td>\n",
       "      <td>2895</td>\n",
       "    </tr>\n",
       "    <tr>\n",
       "      <th>16</th>\n",
       "      <td>17</td>\n",
       "      <td>3015</td>\n",
       "    </tr>\n",
       "    <tr>\n",
       "      <th>17</th>\n",
       "      <td>18</td>\n",
       "      <td>3570</td>\n",
       "    </tr>\n",
       "    <tr>\n",
       "      <th>18</th>\n",
       "      <td>19</td>\n",
       "      <td>3090</td>\n",
       "    </tr>\n",
       "    <tr>\n",
       "      <th>19</th>\n",
       "      <td>20</td>\n",
       "      <td>3105</td>\n",
       "    </tr>\n",
       "    <tr>\n",
       "      <th>20</th>\n",
       "      <td>21</td>\n",
       "      <td>3120</td>\n",
       "    </tr>\n",
       "    <tr>\n",
       "      <th>21</th>\n",
       "      <td>22</td>\n",
       "      <td>3930</td>\n",
       "    </tr>\n",
       "    <tr>\n",
       "      <th>22</th>\n",
       "      <td>23</td>\n",
       "      <td>2895</td>\n",
       "    </tr>\n",
       "    <tr>\n",
       "      <th>23</th>\n",
       "      <td>24</td>\n",
       "      <td>4395</td>\n",
       "    </tr>\n",
       "    <tr>\n",
       "      <th>24</th>\n",
       "      <td>25</td>\n",
       "      <td>4575</td>\n",
       "    </tr>\n",
       "    <tr>\n",
       "      <th>25</th>\n",
       "      <td>26</td>\n",
       "      <td>2355</td>\n",
       "    </tr>\n",
       "    <tr>\n",
       "      <th>26</th>\n",
       "      <td>27</td>\n",
       "      <td>3465</td>\n",
       "    </tr>\n",
       "    <tr>\n",
       "      <th>27</th>\n",
       "      <td>28</td>\n",
       "      <td>2895</td>\n",
       "    </tr>\n",
       "    <tr>\n",
       "      <th>28</th>\n",
       "      <td>29</td>\n",
       "      <td>3420</td>\n",
       "    </tr>\n",
       "    <tr>\n",
       "      <th>29</th>\n",
       "      <td>30</td>\n",
       "      <td>2220</td>\n",
       "    </tr>\n",
       "    <tr>\n",
       "      <th>30</th>\n",
       "      <td>31</td>\n",
       "      <td>1890</td>\n",
       "    </tr>\n",
       "    <tr>\n",
       "      <th>31</th>\n",
       "      <td>32</td>\n",
       "      <td>3060</td>\n",
       "    </tr>\n",
       "    <tr>\n",
       "      <th>32</th>\n",
       "      <td>33</td>\n",
       "      <td>2985</td>\n",
       "    </tr>\n",
       "    <tr>\n",
       "      <th>33</th>\n",
       "      <td>34</td>\n",
       "      <td>2340</td>\n",
       "    </tr>\n",
       "    <tr>\n",
       "      <th>34</th>\n",
       "      <td>35</td>\n",
       "      <td>2865</td>\n",
       "    </tr>\n",
       "    <tr>\n",
       "      <th>35</th>\n",
       "      <td>36</td>\n",
       "      <td>1830</td>\n",
       "    </tr>\n",
       "    <tr>\n",
       "      <th>36</th>\n",
       "      <td>37</td>\n",
       "      <td>2100</td>\n",
       "    </tr>\n",
       "    <tr>\n",
       "      <th>37</th>\n",
       "      <td>38</td>\n",
       "      <td>3450</td>\n",
       "    </tr>\n",
       "    <tr>\n",
       "      <th>38</th>\n",
       "      <td>39</td>\n",
       "      <td>3420</td>\n",
       "    </tr>\n",
       "    <tr>\n",
       "      <th>39</th>\n",
       "      <td>40</td>\n",
       "      <td>2430</td>\n",
       "    </tr>\n",
       "    <tr>\n",
       "      <th>40</th>\n",
       "      <td>41</td>\n",
       "      <td>5475</td>\n",
       "    </tr>\n",
       "    <tr>\n",
       "      <th>41</th>\n",
       "      <td>42</td>\n",
       "      <td>2175</td>\n",
       "    </tr>\n",
       "    <tr>\n",
       "      <th>42</th>\n",
       "      <td>43</td>\n",
       "      <td>3705</td>\n",
       "    </tr>\n",
       "    <tr>\n",
       "      <th>43</th>\n",
       "      <td>44</td>\n",
       "      <td>3165</td>\n",
       "    </tr>\n",
       "    <tr>\n",
       "      <th>44</th>\n",
       "      <td>45</td>\n",
       "      <td>2355</td>\n",
       "    </tr>\n",
       "    <tr>\n",
       "      <th>45</th>\n",
       "      <td>46</td>\n",
       "      <td>3300</td>\n",
       "    </tr>\n",
       "    <tr>\n",
       "      <th>46</th>\n",
       "      <td>47</td>\n",
       "      <td>2580</td>\n",
       "    </tr>\n",
       "    <tr>\n",
       "      <th>47</th>\n",
       "      <td>48</td>\n",
       "      <td>2475</td>\n",
       "    </tr>\n",
       "    <tr>\n",
       "      <th>48</th>\n",
       "      <td>49</td>\n",
       "      <td>2115</td>\n",
       "    </tr>\n",
       "    <tr>\n",
       "      <th>49</th>\n",
       "      <td>50</td>\n",
       "      <td>2175</td>\n",
       "    </tr>\n",
       "    <tr>\n",
       "      <th>50</th>\n",
       "      <td>51</td>\n",
       "      <td>2325</td>\n",
       "    </tr>\n",
       "    <tr>\n",
       "      <th>51</th>\n",
       "      <td>52</td>\n",
       "      <td>2070</td>\n",
       "    </tr>\n",
       "    <tr>\n",
       "      <th>52</th>\n",
       "      <td>53</td>\n",
       "      <td>2715</td>\n",
       "    </tr>\n",
       "    <tr>\n",
       "      <th>53</th>\n",
       "      <td>54</td>\n",
       "      <td>3135</td>\n",
       "    </tr>\n",
       "    <tr>\n",
       "      <th>54</th>\n",
       "      <td>55</td>\n",
       "      <td>2460</td>\n",
       "    </tr>\n",
       "    <tr>\n",
       "      <th>55</th>\n",
       "      <td>56</td>\n",
       "      <td>2190</td>\n",
       "    </tr>\n",
       "    <tr>\n",
       "      <th>56</th>\n",
       "      <td>57</td>\n",
       "      <td>1545</td>\n",
       "    </tr>\n",
       "    <tr>\n",
       "      <th>57</th>\n",
       "      <td>58</td>\n",
       "      <td>1185</td>\n",
       "    </tr>\n",
       "    <tr>\n",
       "      <th>58</th>\n",
       "      <td>59</td>\n",
       "      <td>1725</td>\n",
       "    </tr>\n",
       "    <tr>\n",
       "      <th>59</th>\n",
       "      <td>60</td>\n",
       "      <td>1605</td>\n",
       "    </tr>\n",
       "    <tr>\n",
       "      <th>60</th>\n",
       "      <td>61</td>\n",
       "      <td>1950</td>\n",
       "    </tr>\n",
       "    <tr>\n",
       "      <th>61</th>\n",
       "      <td>62</td>\n",
       "      <td>1440</td>\n",
       "    </tr>\n",
       "    <tr>\n",
       "      <th>62</th>\n",
       "      <td>63</td>\n",
       "      <td>2055</td>\n",
       "    </tr>\n",
       "    <tr>\n",
       "      <th>63</th>\n",
       "      <td>64</td>\n",
       "      <td>3465</td>\n",
       "    </tr>\n",
       "    <tr>\n",
       "      <th>64</th>\n",
       "      <td>65</td>\n",
       "      <td>2355</td>\n",
       "    </tr>\n",
       "    <tr>\n",
       "      <th>65</th>\n",
       "      <td>66</td>\n",
       "      <td>2100</td>\n",
       "    </tr>\n",
       "    <tr>\n",
       "      <th>66</th>\n",
       "      <td>67</td>\n",
       "      <td>4020</td>\n",
       "    </tr>\n",
       "    <tr>\n",
       "      <th>67</th>\n",
       "      <td>68</td>\n",
       "      <td>1395</td>\n",
       "    </tr>\n",
       "    <tr>\n",
       "      <th>68</th>\n",
       "      <td>69</td>\n",
       "      <td>2580</td>\n",
       "    </tr>\n",
       "    <tr>\n",
       "      <th>69</th>\n",
       "      <td>70</td>\n",
       "      <td>1680</td>\n",
       "    </tr>\n",
       "    <tr>\n",
       "      <th>70</th>\n",
       "      <td>71</td>\n",
       "      <td>1365</td>\n",
       "    </tr>\n",
       "    <tr>\n",
       "      <th>71</th>\n",
       "      <td>72</td>\n",
       "      <td>1350</td>\n",
       "    </tr>\n",
       "    <tr>\n",
       "      <th>72</th>\n",
       "      <td>73</td>\n",
       "      <td>1620</td>\n",
       "    </tr>\n",
       "    <tr>\n",
       "      <th>73</th>\n",
       "      <td>74</td>\n",
       "      <td>2355</td>\n",
       "    </tr>\n",
       "    <tr>\n",
       "      <th>74</th>\n",
       "      <td>75</td>\n",
       "      <td>1395</td>\n",
       "    </tr>\n",
       "    <tr>\n",
       "      <th>75</th>\n",
       "      <td>76</td>\n",
       "      <td>1680</td>\n",
       "    </tr>\n",
       "    <tr>\n",
       "      <th>76</th>\n",
       "      <td>77</td>\n",
       "      <td>1605</td>\n",
       "    </tr>\n",
       "    <tr>\n",
       "      <th>77</th>\n",
       "      <td>78</td>\n",
       "      <td>1335</td>\n",
       "    </tr>\n",
       "    <tr>\n",
       "      <th>78</th>\n",
       "      <td>79</td>\n",
       "      <td>1665</td>\n",
       "    </tr>\n",
       "    <tr>\n",
       "      <th>79</th>\n",
       "      <td>80</td>\n",
       "      <td>930</td>\n",
       "    </tr>\n",
       "    <tr>\n",
       "      <th>80</th>\n",
       "      <td>81</td>\n",
       "      <td>960</td>\n",
       "    </tr>\n",
       "    <tr>\n",
       "      <th>81</th>\n",
       "      <td>82</td>\n",
       "      <td>1200</td>\n",
       "    </tr>\n",
       "    <tr>\n",
       "      <th>82</th>\n",
       "      <td>83</td>\n",
       "      <td>855</td>\n",
       "    </tr>\n",
       "    <tr>\n",
       "      <th>83</th>\n",
       "      <td>84</td>\n",
       "      <td>1335</td>\n",
       "    </tr>\n",
       "    <tr>\n",
       "      <th>84</th>\n",
       "      <td>85</td>\n",
       "      <td>1245</td>\n",
       "    </tr>\n",
       "    <tr>\n",
       "      <th>85</th>\n",
       "      <td>86</td>\n",
       "      <td>2085</td>\n",
       "    </tr>\n",
       "    <tr>\n",
       "      <th>86</th>\n",
       "      <td>87</td>\n",
       "      <td>2655</td>\n",
       "    </tr>\n",
       "    <tr>\n",
       "      <th>87</th>\n",
       "      <td>88</td>\n",
       "      <td>1890</td>\n",
       "    </tr>\n",
       "    <tr>\n",
       "      <th>88</th>\n",
       "      <td>89</td>\n",
       "      <td>1080</td>\n",
       "    </tr>\n",
       "    <tr>\n",
       "      <th>89</th>\n",
       "      <td>90</td>\n",
       "      <td>1215</td>\n",
       "    </tr>\n",
       "    <tr>\n",
       "      <th>90</th>\n",
       "      <td>91</td>\n",
       "      <td>1755</td>\n",
       "    </tr>\n",
       "    <tr>\n",
       "      <th>91</th>\n",
       "      <td>92</td>\n",
       "      <td>1410</td>\n",
       "    </tr>\n",
       "    <tr>\n",
       "      <th>92</th>\n",
       "      <td>93</td>\n",
       "      <td>1695</td>\n",
       "    </tr>\n",
       "    <tr>\n",
       "      <th>93</th>\n",
       "      <td>94</td>\n",
       "      <td>750</td>\n",
       "    </tr>\n",
       "    <tr>\n",
       "      <th>94</th>\n",
       "      <td>95</td>\n",
       "      <td>1230</td>\n",
       "    </tr>\n",
       "    <tr>\n",
       "      <th>95</th>\n",
       "      <td>96</td>\n",
       "      <td>1755</td>\n",
       "    </tr>\n",
       "    <tr>\n",
       "      <th>96</th>\n",
       "      <td>97</td>\n",
       "      <td>2070</td>\n",
       "    </tr>\n",
       "    <tr>\n",
       "      <th>97</th>\n",
       "      <td>98</td>\n",
       "      <td>975</td>\n",
       "    </tr>\n",
       "    <tr>\n",
       "      <th>98</th>\n",
       "      <td>99</td>\n",
       "      <td>1590</td>\n",
       "    </tr>\n",
       "    <tr>\n",
       "      <th>99</th>\n",
       "      <td>100</td>\n",
       "      <td>1545</td>\n",
       "    </tr>\n",
       "    <tr>\n",
       "      <th>100</th>\n",
       "      <td>101</td>\n",
       "      <td>1725</td>\n",
       "    </tr>\n",
       "    <tr>\n",
       "      <th>101</th>\n",
       "      <td>102</td>\n",
       "      <td>1875</td>\n",
       "    </tr>\n",
       "    <tr>\n",
       "      <th>102</th>\n",
       "      <td>103</td>\n",
       "      <td>1290</td>\n",
       "    </tr>\n",
       "    <tr>\n",
       "      <th>103</th>\n",
       "      <td>104</td>\n",
       "      <td>1095</td>\n",
       "    </tr>\n",
       "    <tr>\n",
       "      <th>104</th>\n",
       "      <td>105</td>\n",
       "      <td>1290</td>\n",
       "    </tr>\n",
       "    <tr>\n",
       "      <th>105</th>\n",
       "      <td>106</td>\n",
       "      <td>1440</td>\n",
       "    </tr>\n",
       "    <tr>\n",
       "      <th>106</th>\n",
       "      <td>107</td>\n",
       "      <td>1650</td>\n",
       "    </tr>\n",
       "    <tr>\n",
       "      <th>107</th>\n",
       "      <td>108</td>\n",
       "      <td>1530</td>\n",
       "    </tr>\n",
       "    <tr>\n",
       "      <th>108</th>\n",
       "      <td>109</td>\n",
       "      <td>2235</td>\n",
       "    </tr>\n",
       "    <tr>\n",
       "      <th>109</th>\n",
       "      <td>110</td>\n",
       "      <td>840</td>\n",
       "    </tr>\n",
       "    <tr>\n",
       "      <th>110</th>\n",
       "      <td>111</td>\n",
       "      <td>1215</td>\n",
       "    </tr>\n",
       "    <tr>\n",
       "      <th>111</th>\n",
       "      <td>112</td>\n",
       "      <td>1305</td>\n",
       "    </tr>\n",
       "    <tr>\n",
       "      <th>112</th>\n",
       "      <td>113</td>\n",
       "      <td>1350</td>\n",
       "    </tr>\n",
       "    <tr>\n",
       "      <th>113</th>\n",
       "      <td>114</td>\n",
       "      <td>930</td>\n",
       "    </tr>\n",
       "    <tr>\n",
       "      <th>114</th>\n",
       "      <td>115</td>\n",
       "      <td>1740</td>\n",
       "    </tr>\n",
       "    <tr>\n",
       "      <th>115</th>\n",
       "      <td>116</td>\n",
       "      <td>1050</td>\n",
       "    </tr>\n",
       "    <tr>\n",
       "      <th>116</th>\n",
       "      <td>117</td>\n",
       "      <td>1545</td>\n",
       "    </tr>\n",
       "    <tr>\n",
       "      <th>117</th>\n",
       "      <td>118</td>\n",
       "      <td>1065</td>\n",
       "    </tr>\n",
       "    <tr>\n",
       "      <th>118</th>\n",
       "      <td>119</td>\n",
       "      <td>810</td>\n",
       "    </tr>\n",
       "    <tr>\n",
       "      <th>119</th>\n",
       "      <td>120</td>\n",
       "      <td>1845</td>\n",
       "    </tr>\n",
       "    <tr>\n",
       "      <th>120</th>\n",
       "      <td>121</td>\n",
       "      <td>1860</td>\n",
       "    </tr>\n",
       "    <tr>\n",
       "      <th>121</th>\n",
       "      <td>122</td>\n",
       "      <td>1410</td>\n",
       "    </tr>\n",
       "    <tr>\n",
       "      <th>122</th>\n",
       "      <td>123</td>\n",
       "      <td>1065</td>\n",
       "    </tr>\n",
       "    <tr>\n",
       "      <th>123</th>\n",
       "      <td>124</td>\n",
       "      <td>660</td>\n",
       "    </tr>\n",
       "  </tbody>\n",
       "</table>\n",
       "</div>"
      ],
      "text/plain": [
       "     Episode  Num_reviews\n",
       "0          1        12270\n",
       "1          2        10425\n",
       "2          3         5070\n",
       "3          4         4035\n",
       "4          5         2805\n",
       "5          6         2520\n",
       "6          7         4350\n",
       "7          8         2685\n",
       "8          9         4500\n",
       "9         10         2190\n",
       "10        11         2805\n",
       "11        12         3825\n",
       "12        13         4200\n",
       "13        14         4575\n",
       "14        15         2415\n",
       "15        16         2895\n",
       "16        17         3015\n",
       "17        18         3570\n",
       "18        19         3090\n",
       "19        20         3105\n",
       "20        21         3120\n",
       "21        22         3930\n",
       "22        23         2895\n",
       "23        24         4395\n",
       "24        25         4575\n",
       "25        26         2355\n",
       "26        27         3465\n",
       "27        28         2895\n",
       "28        29         3420\n",
       "29        30         2220\n",
       "30        31         1890\n",
       "31        32         3060\n",
       "32        33         2985\n",
       "33        34         2340\n",
       "34        35         2865\n",
       "35        36         1830\n",
       "36        37         2100\n",
       "37        38         3450\n",
       "38        39         3420\n",
       "39        40         2430\n",
       "40        41         5475\n",
       "41        42         2175\n",
       "42        43         3705\n",
       "43        44         3165\n",
       "44        45         2355\n",
       "45        46         3300\n",
       "46        47         2580\n",
       "47        48         2475\n",
       "48        49         2115\n",
       "49        50         2175\n",
       "50        51         2325\n",
       "51        52         2070\n",
       "52        53         2715\n",
       "53        54         3135\n",
       "54        55         2460\n",
       "55        56         2190\n",
       "56        57         1545\n",
       "57        58         1185\n",
       "58        59         1725\n",
       "59        60         1605\n",
       "60        61         1950\n",
       "61        62         1440\n",
       "62        63         2055\n",
       "63        64         3465\n",
       "64        65         2355\n",
       "65        66         2100\n",
       "66        67         4020\n",
       "67        68         1395\n",
       "68        69         2580\n",
       "69        70         1680\n",
       "70        71         1365\n",
       "71        72         1350\n",
       "72        73         1620\n",
       "73        74         2355\n",
       "74        75         1395\n",
       "75        76         1680\n",
       "76        77         1605\n",
       "77        78         1335\n",
       "78        79         1665\n",
       "79        80          930\n",
       "80        81          960\n",
       "81        82         1200\n",
       "82        83          855\n",
       "83        84         1335\n",
       "84        85         1245\n",
       "85        86         2085\n",
       "86        87         2655\n",
       "87        88         1890\n",
       "88        89         1080\n",
       "89        90         1215\n",
       "90        91         1755\n",
       "91        92         1410\n",
       "92        93         1695\n",
       "93        94          750\n",
       "94        95         1230\n",
       "95        96         1755\n",
       "96        97         2070\n",
       "97        98          975\n",
       "98        99         1590\n",
       "99       100         1545\n",
       "100      101         1725\n",
       "101      102         1875\n",
       "102      103         1290\n",
       "103      104         1095\n",
       "104      105         1290\n",
       "105      106         1440\n",
       "106      107         1650\n",
       "107      108         1530\n",
       "108      109         2235\n",
       "109      110          840\n",
       "110      111         1215\n",
       "111      112         1305\n",
       "112      113         1350\n",
       "113      114          930\n",
       "114      115         1740\n",
       "115      116         1050\n",
       "116      117         1545\n",
       "117      118         1065\n",
       "118      119          810\n",
       "119      120         1845\n",
       "120      121         1860\n",
       "121      122         1410\n",
       "122      123         1065\n",
       "123      124          660"
      ]
     },
     "execution_count": 57,
     "metadata": {},
     "output_type": "execute_result"
    }
   ],
   "source": [
    "DATA_PATH = '../크롤링/data/kr/'\n",
    "filepath = \"kr_전지적 독자 시점_num_reviews.csv\"\n",
    "df = pd.read_csv(DATA_PATH+filepath)\n",
    "df = df.drop(['Num_pages'], axis=1)\n",
    "df"
   ]
  },
  {
   "cell_type": "code",
   "execution_count": 58,
   "id": "ea2d6ad8",
   "metadata": {},
   "outputs": [
    {
     "data": {
      "text/plain": [
       "Text(0.5, 1.0, '전지적 독자 시점 에피소드별 댓글 수)')"
      ]
     },
     "execution_count": 58,
     "metadata": {},
     "output_type": "execute_result"
    },
    {
     "data": {
      "image/png": "[encoded data removed]",
      "text/plain": [
       "<Figure size 1440x720 with 1 Axes>"
      ]
     },
     "metadata": {},
     "output_type": "display_data"
    }
   ],
   "source": [
    "plt.rc('font', family='NanumGothic')\n",
    "plt.style.use('ggplot')\n",
    "plt.rc('font', size=15)\n",
    "\n",
    "fig = plt.figure(figsize=(20,10))\n",
    "ax = fig.subplots()\n",
    "ax.plot(df.Episode, df.Num_reviews, label = '에피소드별 댓글 수', marker='o')\n",
    "ax.legend(loc='upper right')\n",
    "\n",
    "ax.set_ylabel('댓글수', fontsize = 20)\n",
    "ax.set_xlabel('에피소드', fontsize = 20)\n",
    "ax.set_title('전지적 독자 시점 에피소드별 댓글 수)', fontsize = 30)"
   ]
  },
  {
   "cell_type": "code",
   "execution_count": 72,
   "id": "8295636b",
   "metadata": {},
   "outputs": [
    {
     "name": "stdout",
     "output_type": "stream",
     "text": [
      "['Solarize_Light2', '_classic_test_patch', 'bmh', 'classic', 'dark_background', 'fast', 'fivethirtyeight', 'ggplot', 'grayscale', 'seaborn', 'seaborn-bright', 'seaborn-colorblind', 'seaborn-dark', 'seaborn-dark-palette', 'seaborn-darkgrid', 'seaborn-deep', 'seaborn-muted', 'seaborn-notebook', 'seaborn-paper', 'seaborn-pastel', 'seaborn-poster', 'seaborn-talk', 'seaborn-ticks', 'seaborn-white', 'seaborn-whitegrid', 'tableau-colorblind10']\n"
     ]
    },
    {
     "data": {
      "application/vnd.plotly.v1+json": {
       "config": {
        "plotlyServerURL": "https://plot.ly"
       },
       "data": [
        {
         "line": {
          "color": "rgba(0, 128, 0, 1.0)",
          "dash": "solid",
          "shape": "linear",
          "width": 1.3
         },
         "mode": "lines",
         "name": "Num_reviews",
         "text": "",
         "type": "scatter",
         "x": [
          0,
          1,
          2,
          3,
          4,
          5,
          6,
          7,
          8,
          9,
          10,
          11,
          12,
          13,
          14,
          15,
          16,
          17,
          18,
          19,
          20,
          21,
          22,
          23,
          24,
          25,
          26,
          27,
          28,
          29,
          30,
          31,
          32,
          33,
          34,
          35,
          36,
          37,
          38,
          39,
          40,
          41,
          42,
          43,
          44,
          45,
          46,
          47,
          48,
          49,
          50,
          51,
          52,
          53,
          54,
          55,
          56,
          57,
          58,
          59,
          60,
          61,
          62,
          63,
          64,
          65,
          66,
          67,
          68,
          69,
          70,
          71,
          72,
          73,
          74,
          75,
          76,
          77,
          78,
          79,
          80,
          81,
          82,
          83,
          84,
          85,
          86,
          87,
          88,
          89,
          90,
          91,
          92,
          93,
          94,
          95,
          96,
          97,
          98,
          99,
          100,
          101,
          102,
          103,
          104,
          105,
          106,
          107,
          108,
          109,
          110,
          111,
          112,
          113,
          114,
          115,
          116,
          117,
          118,
          119,
          120,
          121,
          122,
          123
         ],
         "y": [
          12270,
          10425,
          5070,
          4035,
          2805,
          2520,
          4350,
          2685,
          4500,
          2190,
          2805,
          3825,
          4200,
          4575,
          2415,
          2895,
          3015,
          3570,
          3090,
          3105,
          3120,
          3930,
          2895,
          4395,
          4575,
          2355,
          3465,
          2895,
          3420,
          2220,
          1890,
          3060,
          2985,
          2340,
          2865,
          1830,
          2100,
          3450,
          3420,
          2430,
          5475,
          2175,
          3705,
          3165,
          2355,
          3300,
          2580,
          2475,
          2115,
          2175,
          2325,
          2070,
          2715,
          3135,
          2460,
          2190,
          1545,
          1185,
          1725,
          1605,
          1950,
          1440,
          2055,
          3465,
          2355,
          2100,
          4020,
          1395,
          2580,
          1680,
          1365,
          1350,
          1620,
          2355,
          1395,
          1680,
          1605,
          1335,
          1665,
          930,
          960,
          1200,
          855,
          1335,
          1245,
          2085,
          2655,
          1890,
          1080,
          1215,
          1755,
          1410,
          1695,
          750,
          1230,
          1755,
          2070,
          975,
          1590,
          1545,
          1725,
          1875,
          1290,
          1095,
          1290,
          1440,
          1650,
          1530,
          2235,
          840,
          1215,
          1305,
          1350,
          930,
          1740,
          1050,
          1545,
          1065,
          810,
          1845,
          1860,
          1410,
          1065,
          660
         ]
        }
       ],
       "layout": {
        "legend": {
         "bgcolor": "#F5F6F9",
         "font": {
          "color": "#4D5663"
         }
        },
        "paper_bgcolor": "#F5F6F9",
        "plot_bgcolor": "#F5F6F9",
        "template": {
         "data": {
          "bar": [
           {
            "error_x": {
             "color": "#2a3f5f"
            },
            "error_y": {
             "color": "#2a3f5f"
            },
            "marker": {
             "line": {
              "color": "#E5ECF6",
              "width": 0.5
             },
             "pattern": {
              "fillmode": "overlay",
              "size": 10,
              "solidity": 0.2
             }
            },
            "type": "bar"
           }
          ],
          "barpolar": [
           {
            "marker": {
             "line": {
              "color": "#E5ECF6",
              "width": 0.5
             },
             "pattern": {
              "fillmode": "overlay",
              "size": 10,
              "solidity": 0.2
             }
            },
            "type": "barpolar"
           }
          ],
          "carpet": [
           {
            "aaxis": {
             "endlinecolor": "#2a3f5f",
             "gridcolor": "white",
             "linecolor": "white",
             "minorgridcolor": "white",
             "startlinecolor": "#2a3f5f"
            },
            "baxis": {
             "endlinecolor": "#2a3f5f",
             "gridcolor": "white",
             "linecolor": "white",
             "minorgridcolor": "white",
             "startlinecolor": "#2a3f5f"
            },
            "type": "carpet"
           }
          ],
          "choropleth": [
           {
            "colorbar": {
             "outlinewidth": 0,
             "ticks": ""
            },
            "type": "choropleth"
           }
          ],
          "contour": [
           {
            "colorbar": {
             "outlinewidth": 0,
             "ticks": ""
            },
            "colorscale": [
             [
              0,
              "#0d0887"
             ],
             [
              0.1111111111111111,
              "#46039f"
             ],
             [
              0.2222222222222222,
              "#7201a8"
             ],
             [
              0.3333333333333333,
              "#9c179e"
             ],
             [
              0.4444444444444444,
              "#bd3786"
             ],
             [
              0.5555555555555556,
              "#d8576b"
             ],
             [
              0.6666666666666666,
              "#ed7953"
             ],
             [
              0.7777777777777778,
              "#fb9f3a"
             ],
             [
              0.8888888888888888,
              "#fdca26"
             ],
             [
              1,
              "#f0f921"
             ]
            ],
            "type": "contour"
           }
          ],
          "contourcarpet": [
           {
            "colorbar": {
             "outlinewidth": 0,
             "ticks": ""
            },
            "type": "contourcarpet"
           }
          ],
          "heatmap": [
           {
            "colorbar": {
             "outlinewidth": 0,
             "ticks": ""
            },
            "colorscale": [
             [
              0,
              "#0d0887"
             ],
             [
              0.1111111111111111,
              "#46039f"
             ],
             [
              0.2222222222222222,
              "#7201a8"
             ],
             [
              0.3333333333333333,
              "#9c179e"
             ],
             [
              0.4444444444444444,
              "#bd3786"
             ],
             [
              0.5555555555555556,
              "#d8576b"
             ],
             [
              0.6666666666666666,
              "#ed7953"
             ],
             [
              0.7777777777777778,
              "#fb9f3a"
             ],
             [
              0.8888888888888888,
              "#fdca26"
             ],
             [
              1,
              "#f0f921"
             ]
            ],
            "type": "heatmap"
           }
          ],
          "heatmapgl": [
           {
            "colorbar": {
             "outlinewidth": 0,
             "ticks": ""
            },
            "colorscale": [
             [
              0,
              "#0d0887"
             ],
             [
              0.1111111111111111,
              "#46039f"
             ],
             [
              0.2222222222222222,
              "#7201a8"
             ],
             [
              0.3333333333333333,
              "#9c179e"
             ],
             [
              0.4444444444444444,
              "#bd3786"
             ],
             [
              0.5555555555555556,
              "#d8576b"
             ],
             [
              0.6666666666666666,
              "#ed7953"
             ],
             [
              0.7777777777777778,
              "#fb9f3a"
             ],
             [
              0.8888888888888888,
              "#fdca26"
             ],
             [
              1,
              "#f0f921"
             ]
            ],
            "type": "heatmapgl"
           }
          ],
          "histogram": [
           {
            "marker": {
             "pattern": {
              "fillmode": "overlay",
              "size": 10,
              "solidity": 0.2
             }
            },
            "type": "histogram"
           }
          ],
          "histogram2d": [
           {
            "colorbar": {
             "outlinewidth": 0,
             "ticks": ""
            },
            "colorscale": [
             [
              0,
              "#0d0887"
             ],
             [
              0.1111111111111111,
              "#46039f"
             ],
             [
              0.2222222222222222,
              "#7201a8"
             ],
             [
              0.3333333333333333,
              "#9c179e"
             ],
             [
              0.4444444444444444,
              "#bd3786"
             ],
             [
              0.5555555555555556,
              "#d8576b"
             ],
             [
              0.6666666666666666,
              "#ed7953"
             ],
             [
              0.7777777777777778,
              "#fb9f3a"
             ],
             [
              0.8888888888888888,
              "#fdca26"
             ],
             [
              1,
              "#f0f921"
             ]
            ],
            "type": "histogram2d"
           }
          ],
          "histogram2dcontour": [
           {
            "colorbar": {
             "outlinewidth": 0,
             "ticks": ""
            },
            "colorscale": [
             [
              0,
              "#0d0887"
             ],
             [
              0.1111111111111111,
              "#46039f"
             ],
             [
              0.2222222222222222,
              "#7201a8"
             ],
             [
              0.3333333333333333,
              "#9c179e"
             ],
             [
              0.4444444444444444,
              "#bd3786"
             ],
             [
              0.5555555555555556,
              "#d8576b"
             ],
             [
              0.6666666666666666,
              "#ed7953"
             ],
             [
              0.7777777777777778,
              "#fb9f3a"
             ],
             [
              0.8888888888888888,
              "#fdca26"
             ],
             [
              1,
              "#f0f921"
             ]
            ],
            "type": "histogram2dcontour"
           }
          ],
          "mesh3d": [
           {
            "colorbar": {
             "outlinewidth": 0,
             "ticks": ""
            },
            "type": "mesh3d"
           }
          ],
          "parcoords": [
           {
            "line": {
             "colorbar": {
              "outlinewidth": 0,
              "ticks": ""
             }
            },
            "type": "parcoords"
           }
          ],
          "pie": [
           {
            "automargin": true,
            "type": "pie"
           }
          ],
          "scatter": [
           {
            "fillpattern": {
             "fillmode": "overlay",
             "size": 10,
             "solidity": 0.2
            },
            "type": "scatter"
           }
          ],
          "scatter3d": [
           {
            "line": {
             "colorbar": {
              "outlinewidth": 0,
              "ticks": ""
             }
            },
            "marker": {
             "colorbar": {
              "outlinewidth": 0,
              "ticks": ""
             }
            },
            "type": "scatter3d"
           }
          ],
          "scattercarpet": [
           {
            "marker": {
             "colorbar": {
              "outlinewidth": 0,
              "ticks": ""
             }
            },
            "type": "scattercarpet"
           }
          ],
          "scattergeo": [
           {
            "marker": {
             "colorbar": {
              "outlinewidth": 0,
              "ticks": ""
             }
            },
            "type": "scattergeo"
           }
          ],
          "scattergl": [
           {
            "marker": {
             "colorbar": {
              "outlinewidth": 0,
              "ticks": ""
             }
            },
            "type": "scattergl"
           }
          ],
          "scattermapbox": [
           {
            "marker": {
             "colorbar": {
              "outlinewidth": 0,
              "ticks": ""
             }
            },
            "type": "scattermapbox"
           }
          ],
          "scatterpolar": [
           {
            "marker": {
             "colorbar": {
              "outlinewidth": 0,
              "ticks": ""
             }
            },
            "type": "scatterpolar"
           }
          ],
          "scatterpolargl": [
           {
            "marker": {
             "colorbar": {
              "outlinewidth": 0,
              "ticks": ""
             }
            },
            "type": "scatterpolargl"
           }
          ],
          "scatterternary": [
           {
            "marker": {
             "colorbar": {
              "outlinewidth": 0,
              "ticks": ""
             }
            },
            "type": "scatterternary"
           }
          ],
          "surface": [
           {
            "colorbar": {
             "outlinewidth": 0,
             "ticks": ""
            },
            "colorscale": [
             [
              0,
              "#0d0887"
             ],
             [
              0.1111111111111111,
              "#46039f"
             ],
             [
              0.2222222222222222,
              "#7201a8"
             ],
             [
              0.3333333333333333,
              "#9c179e"
             ],
             [
              0.4444444444444444,
              "#bd3786"
             ],
             [
              0.5555555555555556,
              "#d8576b"
             ],
             [
              0.6666666666666666,
              "#ed7953"
             ],
             [
              0.7777777777777778,
              "#fb9f3a"
             ],
             [
              0.8888888888888888,
              "#fdca26"
             ],
             [
              1,
              "#f0f921"
             ]
            ],
            "type": "surface"
           }
          ],
          "table": [
           {
            "cells": {
             "fill": {
              "color": "#EBF0F8"
             },
             "line": {
              "color": "white"
             }
            },
            "header": {
             "fill": {
              "color": "#C8D4E3"
             },
             "line": {
              "color": "white"
             }
            },
            "type": "table"
           }
          ]
         },
         "layout": {
          "annotationdefaults": {
           "arrowcolor": "#2a3f5f",
           "arrowhead": 0,
           "arrowwidth": 1
          },
          "autotypenumbers": "strict",
          "coloraxis": {
           "colorbar": {
            "outlinewidth": 0,
            "ticks": ""
           }
          },
          "colorscale": {
           "diverging": [
            [
             0,
             "#8e0152"
            ],
            [
             0.1,
             "#c51b7d"
            ],
            [
             0.2,
             "#de77ae"
            ],
            [
             0.3,
             "#f1b6da"
            ],
            [
             0.4,
             "#fde0ef"
            ],
            [
             0.5,
             "#f7f7f7"
            ],
            [
             0.6,
             "#e6f5d0"
            ],
            [
             0.7,
             "#b8e186"
            ],
            [
             0.8,
             "#7fbc41"
            ],
            [
             0.9,
             "#4d9221"
            ],
            [
             1,
             "#276419"
            ]
           ],
           "sequential": [
            [
             0,
             "#0d0887"
            ],
            [
             0.1111111111111111,
             "#46039f"
            ],
            [
             0.2222222222222222,
             "#7201a8"
            ],
            [
             0.3333333333333333,
             "#9c179e"
            ],
            [
             0.4444444444444444,
             "#bd3786"
            ],
            [
             0.5555555555555556,
             "#d8576b"
            ],
            [
             0.6666666666666666,
             "#ed7953"
            ],
            [
             0.7777777777777778,
             "#fb9f3a"
            ],
            [
             0.8888888888888888,
             "#fdca26"
            ],
            [
             1,
             "#f0f921"
            ]
           ],
           "sequentialminus": [
            [
             0,
             "#0d0887"
            ],
            [
             0.1111111111111111,
             "#46039f"
            ],
            [
             0.2222222222222222,
             "#7201a8"
            ],
            [
             0.3333333333333333,
             "#9c179e"
            ],
            [
             0.4444444444444444,
             "#bd3786"
            ],
            [
             0.5555555555555556,
             "#d8576b"
            ],
            [
             0.6666666666666666,
             "#ed7953"
            ],
            [
             0.7777777777777778,
             "#fb9f3a"
            ],
            [
             0.8888888888888888,
             "#fdca26"
            ],
            [
             1,
             "#f0f921"
            ]
           ]
          },
          "colorway": [
           "#636efa",
           "#EF553B",
           "#00cc96",
           "#ab63fa",
           "#FFA15A",
           "#19d3f3",
           "#FF6692",
           "#B6E880",
           "#FF97FF",
           "#FECB52"
          ],
          "font": {
           "color": "#2a3f5f"
          },
          "geo": {
           "bgcolor": "white",
           "lakecolor": "white",
           "landcolor": "#E5ECF6",
           "showlakes": true,
           "showland": true,
           "subunitcolor": "white"
          },
          "hoverlabel": {
           "align": "left"
          },
          "hovermode": "closest",
          "mapbox": {
           "style": "light"
          },
          "paper_bgcolor": "white",
          "plot_bgcolor": "#E5ECF6",
          "polar": {
           "angularaxis": {
            "gridcolor": "white",
            "linecolor": "white",
            "ticks": ""
           },
           "bgcolor": "#E5ECF6",
           "radialaxis": {
            "gridcolor": "white",
            "linecolor": "white",
            "ticks": ""
           }
          },
          "scene": {
           "xaxis": {
            "backgroundcolor": "#E5ECF6",
            "gridcolor": "white",
            "gridwidth": 2,
            "linecolor": "white",
            "showbackground": true,
            "ticks": "",
            "zerolinecolor": "white"
           },
           "yaxis": {
            "backgroundcolor": "#E5ECF6",
            "gridcolor": "white",
            "gridwidth": 2,
            "linecolor": "white",
            "showbackground": true,
            "ticks": "",
            "zerolinecolor": "white"
           },
           "zaxis": {
            "backgroundcolor": "#E5ECF6",
            "gridcolor": "white",
            "gridwidth": 2,
            "linecolor": "white",
            "showbackground": true,
            "ticks": "",
            "zerolinecolor": "white"
           }
          },
          "shapedefaults": {
           "line": {
            "color": "#2a3f5f"
           }
          },
          "ternary": {
           "aaxis": {
            "gridcolor": "white",
            "linecolor": "white",
            "ticks": ""
           },
           "baxis": {
            "gridcolor": "white",
            "linecolor": "white",
            "ticks": ""
           },
           "bgcolor": "#E5ECF6",
           "caxis": {
            "gridcolor": "white",
            "linecolor": "white",
            "ticks": ""
           }
          },
          "title": {
           "x": 0.05
          },
          "xaxis": {
           "automargin": true,
           "gridcolor": "white",
           "linecolor": "white",
           "ticks": "",
           "title": {
            "standoff": 15
           },
           "zerolinecolor": "white",
           "zerolinewidth": 2
          },
          "yaxis": {
           "automargin": true,
           "gridcolor": "white",
           "linecolor": "white",
           "ticks": "",
           "title": {
            "standoff": 15
           },
           "zerolinecolor": "white",
           "zerolinewidth": 2
          }
         }
        },
        "title": {
         "font": {
          "color": "#4D5663"
         },
         "text": "전지적 독자 시점 에피소드별 댓글 수"
        },
        "xaxis": {
         "gridcolor": "#E1E5ED",
         "showgrid": true,
         "tickfont": {
          "color": "#4D5663"
         },
         "title": {
          "font": {
           "color": "#4D5663"
          },
          "text": "에피소드"
         },
         "zerolinecolor": "#E1E5ED"
        },
        "yaxis": {
         "gridcolor": "#E1E5ED",
         "showgrid": true,
         "tickfont": {
          "color": "#4D5663"
         },
         "title": {
          "font": {
           "color": "#4D5663"
          },
          "text": "댓글 수"
         },
         "zerolinecolor": "#E1E5ED"
        }
       }
      },
      "text/html": [
       "<div>                            <div id=\"6ce32d66-5f08-49a4-a246-a6449ce3d2c8\" class=\"plotly-graph-div\" style=\"height:525px; width:100%;\"></div>            <script type=\"text/javascript\">                require([\"plotly\"], function(Plotly) {                    window.PLOTLYENV=window.PLOTLYENV || {};                                    if (document.getElementById(\"6ce32d66-5f08-49a4-a246-a6449ce3d2c8\")) {                    Plotly.newPlot(                        \"6ce32d66-5f08-49a4-a246-a6449ce3d2c8\",                        [{\"line\":{\"color\":\"rgba(0, 128, 0, 1.0)\",\"dash\":\"solid\",\"shape\":\"linear\",\"width\":1.3},\"mode\":\"lines\",\"name\":\"Num_reviews\",\"text\":\"\",\"x\":[0,1,2,3,4,5,6,7,8,9,10,11,12,13,14,15,16,17,18,19,20,21,22,23,24,25,26,27,28,29,30,31,32,33,34,35,36,37,38,39,40,41,42,43,44,45,46,47,48,49,50,51,52,53,54,55,56,57,58,59,60,61,62,63,64,65,66,67,68,69,70,71,72,73,74,75,76,77,78,79,80,81,82,83,84,85,86,87,88,89,90,91,92,93,94,95,96,97,98,99,100,101,102,103,104,105,106,107,108,109,110,111,112,113,114,115,116,117,118,119,120,121,122,123],\"y\":[12270,10425,5070,4035,2805,2520,4350,2685,4500,2190,2805,3825,4200,4575,2415,2895,3015,3570,3090,3105,3120,3930,2895,4395,4575,2355,3465,2895,3420,2220,1890,3060,2985,2340,2865,1830,2100,3450,3420,2430,5475,2175,3705,3165,2355,3300,2580,2475,2115,2175,2325,2070,2715,3135,2460,2190,1545,1185,1725,1605,1950,1440,2055,3465,2355,2100,4020,1395,2580,1680,1365,1350,1620,2355,1395,1680,1605,1335,1665,930,960,1200,855,1335,1245,2085,2655,1890,1080,1215,1755,1410,1695,750,1230,1755,2070,975,1590,1545,1725,1875,1290,1095,1290,1440,1650,1530,2235,840,1215,1305,1350,930,1740,1050,1545,1065,810,1845,1860,1410,1065,660],\"type\":\"scatter\"}],                        {\"legend\":{\"bgcolor\":\"#F5F6F9\",\"font\":{\"color\":\"#4D5663\"}},\"paper_bgcolor\":\"#F5F6F9\",\"plot_bgcolor\":\"#F5F6F9\",\"title\":{\"text\":\"\\uc804\\uc9c0\\uc801 \\ub3c5\\uc790 \\uc2dc\\uc810 \\uc5d0\\ud53c\\uc18c\\ub4dc\\ubcc4 \\ub313\\uae00 \\uc218\",\"font\":{\"color\":\"#4D5663\"}},\"xaxis\":{\"gridcolor\":\"#E1E5ED\",\"showgrid\":true,\"tickfont\":{\"color\":\"#4D5663\"},\"title\":{\"text\":\"\\uc5d0\\ud53c\\uc18c\\ub4dc\",\"font\":{\"color\":\"#4D5663\"}},\"zerolinecolor\":\"#E1E5ED\"},\"yaxis\":{\"gridcolor\":\"#E1E5ED\",\"showgrid\":true,\"tickfont\":{\"color\":\"#4D5663\"},\"title\":{\"text\":\"\\ub313\\uae00 \\uc218\",\"font\":{\"color\":\"#4D5663\"}},\"zerolinecolor\":\"#E1E5ED\"},\"template\":{\"data\":{\"histogram2dcontour\":[{\"type\":\"histogram2dcontour\",\"colorbar\":{\"outlinewidth\":0,\"ticks\":\"\"},\"colorscale\":[[0.0,\"#0d0887\"],[0.1111111111111111,\"#46039f\"],[0.2222222222222222,\"#7201a8\"],[0.3333333333333333,\"#9c179e\"],[0.4444444444444444,\"#bd3786\"],[0.5555555555555556,\"#d8576b\"],[0.6666666666666666,\"#ed7953\"],[0.7777777777777778,\"#fb9f3a\"],[0.8888888888888888,\"#fdca26\"],[1.0,\"#f0f921\"]]}],\"choropleth\":[{\"type\":\"choropleth\",\"colorbar\":{\"outlinewidth\":0,\"ticks\":\"\"}}],\"histogram2d\":[{\"type\":\"histogram2d\",\"colorbar\":{\"outlinewidth\":0,\"ticks\":\"\"},\"colorscale\":[[0.0,\"#0d0887\"],[0.1111111111111111,\"#46039f\"],[0.2222222222222222,\"#7201a8\"],[0.3333333333333333,\"#9c179e\"],[0.4444444444444444,\"#bd3786\"],[0.5555555555555556,\"#d8576b\"],[0.6666666666666666,\"#ed7953\"],[0.7777777777777778,\"#fb9f3a\"],[0.8888888888888888,\"#fdca26\"],[1.0,\"#f0f921\"]]}],\"heatmap\":[{\"type\":\"heatmap\",\"colorbar\":{\"outlinewidth\":0,\"ticks\":\"\"},\"colorscale\":[[0.0,\"#0d0887\"],[0.1111111111111111,\"#46039f\"],[0.2222222222222222,\"#7201a8\"],[0.3333333333333333,\"#9c179e\"],[0.4444444444444444,\"#bd3786\"],[0.5555555555555556,\"#d8576b\"],[0.6666666666666666,\"#ed7953\"],[0.7777777777777778,\"#fb9f3a\"],[0.8888888888888888,\"#fdca26\"],[1.0,\"#f0f921\"]]}],\"heatmapgl\":[{\"type\":\"heatmapgl\",\"colorbar\":{\"outlinewidth\":0,\"ticks\":\"\"},\"colorscale\":[[0.0,\"#0d0887\"],[0.1111111111111111,\"#46039f\"],[0.2222222222222222,\"#7201a8\"],[0.3333333333333333,\"#9c179e\"],[0.4444444444444444,\"#bd3786\"],[0.5555555555555556,\"#d8576b\"],[0.6666666666666666,\"#ed7953\"],[0.7777777777777778,\"#fb9f3a\"],[0.8888888888888888,\"#fdca26\"],[1.0,\"#f0f921\"]]}],\"contourcarpet\":[{\"type\":\"contourcarpet\",\"colorbar\":{\"outlinewidth\":0,\"ticks\":\"\"}}],\"contour\":[{\"type\":\"contour\",\"colorbar\":{\"outlinewidth\":0,\"ticks\":\"\"},\"colorscale\":[[0.0,\"#0d0887\"],[0.1111111111111111,\"#46039f\"],[0.2222222222222222,\"#7201a8\"],[0.3333333333333333,\"#9c179e\"],[0.4444444444444444,\"#bd3786\"],[0.5555555555555556,\"#d8576b\"],[0.6666666666666666,\"#ed7953\"],[0.7777777777777778,\"#fb9f3a\"],[0.8888888888888888,\"#fdca26\"],[1.0,\"#f0f921\"]]}],\"surface\":[{\"type\":\"surface\",\"colorbar\":{\"outlinewidth\":0,\"ticks\":\"\"},\"colorscale\":[[0.0,\"#0d0887\"],[0.1111111111111111,\"#46039f\"],[0.2222222222222222,\"#7201a8\"],[0.3333333333333333,\"#9c179e\"],[0.4444444444444444,\"#bd3786\"],[0.5555555555555556,\"#d8576b\"],[0.6666666666666666,\"#ed7953\"],[0.7777777777777778,\"#fb9f3a\"],[0.8888888888888888,\"#fdca26\"],[1.0,\"#f0f921\"]]}],\"mesh3d\":[{\"type\":\"mesh3d\",\"colorbar\":{\"outlinewidth\":0,\"ticks\":\"\"}}],\"scatter\":[{\"fillpattern\":{\"fillmode\":\"overlay\",\"size\":10,\"solidity\":0.2},\"type\":\"scatter\"}],\"parcoords\":[{\"type\":\"parcoords\",\"line\":{\"colorbar\":{\"outlinewidth\":0,\"ticks\":\"\"}}}],\"scatterpolargl\":[{\"type\":\"scatterpolargl\",\"marker\":{\"colorbar\":{\"outlinewidth\":0,\"ticks\":\"\"}}}],\"bar\":[{\"error_x\":{\"color\":\"#2a3f5f\"},\"error_y\":{\"color\":\"#2a3f5f\"},\"marker\":{\"line\":{\"color\":\"#E5ECF6\",\"width\":0.5},\"pattern\":{\"fillmode\":\"overlay\",\"size\":10,\"solidity\":0.2}},\"type\":\"bar\"}],\"scattergeo\":[{\"type\":\"scattergeo\",\"marker\":{\"colorbar\":{\"outlinewidth\":0,\"ticks\":\"\"}}}],\"scatterpolar\":[{\"type\":\"scatterpolar\",\"marker\":{\"colorbar\":{\"outlinewidth\":0,\"ticks\":\"\"}}}],\"histogram\":[{\"marker\":{\"pattern\":{\"fillmode\":\"overlay\",\"size\":10,\"solidity\":0.2}},\"type\":\"histogram\"}],\"scattergl\":[{\"type\":\"scattergl\",\"marker\":{\"colorbar\":{\"outlinewidth\":0,\"ticks\":\"\"}}}],\"scatter3d\":[{\"type\":\"scatter3d\",\"line\":{\"colorbar\":{\"outlinewidth\":0,\"ticks\":\"\"}},\"marker\":{\"colorbar\":{\"outlinewidth\":0,\"ticks\":\"\"}}}],\"scattermapbox\":[{\"type\":\"scattermapbox\",\"marker\":{\"colorbar\":{\"outlinewidth\":0,\"ticks\":\"\"}}}],\"scatterternary\":[{\"type\":\"scatterternary\",\"marker\":{\"colorbar\":{\"outlinewidth\":0,\"ticks\":\"\"}}}],\"scattercarpet\":[{\"type\":\"scattercarpet\",\"marker\":{\"colorbar\":{\"outlinewidth\":0,\"ticks\":\"\"}}}],\"carpet\":[{\"aaxis\":{\"endlinecolor\":\"#2a3f5f\",\"gridcolor\":\"white\",\"linecolor\":\"white\",\"minorgridcolor\":\"white\",\"startlinecolor\":\"#2a3f5f\"},\"baxis\":{\"endlinecolor\":\"#2a3f5f\",\"gridcolor\":\"white\",\"linecolor\":\"white\",\"minorgridcolor\":\"white\",\"startlinecolor\":\"#2a3f5f\"},\"type\":\"carpet\"}],\"table\":[{\"cells\":{\"fill\":{\"color\":\"#EBF0F8\"},\"line\":{\"color\":\"white\"}},\"header\":{\"fill\":{\"color\":\"#C8D4E3\"},\"line\":{\"color\":\"white\"}},\"type\":\"table\"}],\"barpolar\":[{\"marker\":{\"line\":{\"color\":\"#E5ECF6\",\"width\":0.5},\"pattern\":{\"fillmode\":\"overlay\",\"size\":10,\"solidity\":0.2}},\"type\":\"barpolar\"}],\"pie\":[{\"automargin\":true,\"type\":\"pie\"}]},\"layout\":{\"autotypenumbers\":\"strict\",\"colorway\":[\"#636efa\",\"#EF553B\",\"#00cc96\",\"#ab63fa\",\"#FFA15A\",\"#19d3f3\",\"#FF6692\",\"#B6E880\",\"#FF97FF\",\"#FECB52\"],\"font\":{\"color\":\"#2a3f5f\"},\"hovermode\":\"closest\",\"hoverlabel\":{\"align\":\"left\"},\"paper_bgcolor\":\"white\",\"plot_bgcolor\":\"#E5ECF6\",\"polar\":{\"bgcolor\":\"#E5ECF6\",\"angularaxis\":{\"gridcolor\":\"white\",\"linecolor\":\"white\",\"ticks\":\"\"},\"radialaxis\":{\"gridcolor\":\"white\",\"linecolor\":\"white\",\"ticks\":\"\"}},\"ternary\":{\"bgcolor\":\"#E5ECF6\",\"aaxis\":{\"gridcolor\":\"white\",\"linecolor\":\"white\",\"ticks\":\"\"},\"baxis\":{\"gridcolor\":\"white\",\"linecolor\":\"white\",\"ticks\":\"\"},\"caxis\":{\"gridcolor\":\"white\",\"linecolor\":\"white\",\"ticks\":\"\"}},\"coloraxis\":{\"colorbar\":{\"outlinewidth\":0,\"ticks\":\"\"}},\"colorscale\":{\"sequential\":[[0.0,\"#0d0887\"],[0.1111111111111111,\"#46039f\"],[0.2222222222222222,\"#7201a8\"],[0.3333333333333333,\"#9c179e\"],[0.4444444444444444,\"#bd3786\"],[0.5555555555555556,\"#d8576b\"],[0.6666666666666666,\"#ed7953\"],[0.7777777777777778,\"#fb9f3a\"],[0.8888888888888888,\"#fdca26\"],[1.0,\"#f0f921\"]],\"sequentialminus\":[[0.0,\"#0d0887\"],[0.1111111111111111,\"#46039f\"],[0.2222222222222222,\"#7201a8\"],[0.3333333333333333,\"#9c179e\"],[0.4444444444444444,\"#bd3786\"],[0.5555555555555556,\"#d8576b\"],[0.6666666666666666,\"#ed7953\"],[0.7777777777777778,\"#fb9f3a\"],[0.8888888888888888,\"#fdca26\"],[1.0,\"#f0f921\"]],\"diverging\":[[0,\"#8e0152\"],[0.1,\"#c51b7d\"],[0.2,\"#de77ae\"],[0.3,\"#f1b6da\"],[0.4,\"#fde0ef\"],[0.5,\"#f7f7f7\"],[0.6,\"#e6f5d0\"],[0.7,\"#b8e186\"],[0.8,\"#7fbc41\"],[0.9,\"#4d9221\"],[1,\"#276419\"]]},\"xaxis\":{\"gridcolor\":\"white\",\"linecolor\":\"white\",\"ticks\":\"\",\"title\":{\"standoff\":15},\"zerolinecolor\":\"white\",\"automargin\":true,\"zerolinewidth\":2},\"yaxis\":{\"gridcolor\":\"white\",\"linecolor\":\"white\",\"ticks\":\"\",\"title\":{\"standoff\":15},\"zerolinecolor\":\"white\",\"automargin\":true,\"zerolinewidth\":2},\"scene\":{\"xaxis\":{\"backgroundcolor\":\"#E5ECF6\",\"gridcolor\":\"white\",\"linecolor\":\"white\",\"showbackground\":true,\"ticks\":\"\",\"zerolinecolor\":\"white\",\"gridwidth\":2},\"yaxis\":{\"backgroundcolor\":\"#E5ECF6\",\"gridcolor\":\"white\",\"linecolor\":\"white\",\"showbackground\":true,\"ticks\":\"\",\"zerolinecolor\":\"white\",\"gridwidth\":2},\"zaxis\":{\"backgroundcolor\":\"#E5ECF6\",\"gridcolor\":\"white\",\"linecolor\":\"white\",\"showbackground\":true,\"ticks\":\"\",\"zerolinecolor\":\"white\",\"gridwidth\":2}},\"shapedefaults\":{\"line\":{\"color\":\"#2a3f5f\"}},\"annotationdefaults\":{\"arrowcolor\":\"#2a3f5f\",\"arrowhead\":0,\"arrowwidth\":1},\"geo\":{\"bgcolor\":\"white\",\"landcolor\":\"#E5ECF6\",\"subunitcolor\":\"white\",\"showland\":true,\"showlakes\":true,\"lakecolor\":\"white\"},\"title\":{\"x\":0.05},\"mapbox\":{\"style\":\"light\"}}}},                        {\"responsive\": true}                    ).then(function(){\n",
       "                            \n",
       "var gd = document.getElementById('6ce32d66-5f08-49a4-a246-a6449ce3d2c8');\n",
       "var x = new MutationObserver(function (mutations, observer) {{\n",
       "        var display = window.getComputedStyle(gd).display;\n",
       "        if (!display || display === 'none') {{\n",
       "            console.log([gd, 'removed!']);\n",
       "            Plotly.purge(gd);\n",
       "            observer.disconnect();\n",
       "        }}\n",
       "}});\n",
       "\n",
       "// Listen for the removal of the full notebook cells\n",
       "var notebookContainer = gd.closest('#notebook-container');\n",
       "if (notebookContainer) {{\n",
       "    x.observe(notebookContainer, {childList: true});\n",
       "}}\n",
       "\n",
       "// Listen for the clearing of the current output cell\n",
       "var outputEl = gd.closest('.output');\n",
       "if (outputEl) {{\n",
       "    x.observe(outputEl, {childList: true});\n",
       "}}\n",
       "\n",
       "                        })                };                });            </script>        </div>"
      ]
     },
     "metadata": {},
     "output_type": "display_data"
    }
   ],
   "source": [
    "from plotly.offline import download_plotlyjs, init_notebook_mode, plot, iplot\n",
    "import chart_studio.plotly as py\n",
    "import plotly\n",
    "import cufflinks as cf\n",
    "import pandas as pd\n",
    "import numpy as np\n",
    "\n",
    "print(plt.style.available)\n",
    "\n",
    "# plt.style.use('classic')\n",
    "\n",
    "fig = df['Num_reviews'].iplot(kind='line',\n",
    "                labels = \"Episode\", \n",
    "                values=\"Num_reviews\", textinfo=\"percent+label\",\n",
    "                title= '전지적 독자 시점 에피소드별 댓글 수', hole = 0.5, asFigure=True,\n",
    "                xTitle ='에피소드',\n",
    "                yTitle ='댓글 수',\n",
    "                color='green'              \n",
    "              )\n",
    "#     filename = './data/'+ word + '.html'   \n",
    "#plotly.offline.plot(fig,filename=filename)\n",
    "fig.show()"
   ]
  },
  {
   "cell_type": "code",
   "execution_count": 64,
   "id": "1580f534",
   "metadata": {},
   "outputs": [
    {
     "data": {
      "application/vnd.plotly.v1+json": {
       "config": {
        "plotlyServerURL": "https://plot.ly"
       },
       "data": [
        {
         "line": {
          "color": "rgba(255, 153, 51, 1.0)",
          "dash": "solid",
          "shape": "linear",
          "width": 1.3
         },
         "mode": "lines",
         "name": "Episode",
         "text": "",
         "type": "scatter",
         "x": [
          0,
          1,
          2,
          3,
          4,
          5,
          6,
          7,
          8,
          9,
          10,
          11,
          12,
          13,
          14,
          15,
          16,
          17,
          18,
          19,
          20,
          21,
          22,
          23,
          24,
          25,
          26,
          27,
          28,
          29,
          30,
          31,
          32,
          33,
          34,
          35,
          36,
          37,
          38,
          39,
          40,
          41,
          42,
          43,
          44,
          45,
          46,
          47,
          48,
          49,
          50,
          51,
          52,
          53,
          54,
          55,
          56,
          57,
          58,
          59,
          60,
          61,
          62,
          63,
          64,
          65,
          66,
          67,
          68,
          69,
          70,
          71,
          72,
          73,
          74,
          75,
          76,
          77,
          78,
          79,
          80,
          81,
          82,
          83,
          84,
          85,
          86,
          87,
          88,
          89,
          90,
          91,
          92,
          93,
          94,
          95,
          96,
          97,
          98,
          99,
          100,
          101,
          102,
          103,
          104,
          105,
          106,
          107,
          108,
          109,
          110,
          111,
          112,
          113,
          114,
          115,
          116,
          117,
          118,
          119,
          120,
          121,
          122,
          123
         ],
         "y": [
          1,
          2,
          3,
          4,
          5,
          6,
          7,
          8,
          9,
          10,
          11,
          12,
          13,
          14,
          15,
          16,
          17,
          18,
          19,
          20,
          21,
          22,
          23,
          24,
          25,
          26,
          27,
          28,
          29,
          30,
          31,
          32,
          33,
          34,
          35,
          36,
          37,
          38,
          39,
          40,
          41,
          42,
          43,
          44,
          45,
          46,
          47,
          48,
          49,
          50,
          51,
          52,
          53,
          54,
          55,
          56,
          57,
          58,
          59,
          60,
          61,
          62,
          63,
          64,
          65,
          66,
          67,
          68,
          69,
          70,
          71,
          72,
          73,
          74,
          75,
          76,
          77,
          78,
          79,
          80,
          81,
          82,
          83,
          84,
          85,
          86,
          87,
          88,
          89,
          90,
          91,
          92,
          93,
          94,
          95,
          96,
          97,
          98,
          99,
          100,
          101,
          102,
          103,
          104,
          105,
          106,
          107,
          108,
          109,
          110,
          111,
          112,
          113,
          114,
          115,
          116,
          117,
          118,
          119,
          120,
          121,
          122,
          123,
          124
         ]
        },
        {
         "line": {
          "color": "rgba(55, 128, 191, 1.0)",
          "dash": "solid",
          "shape": "linear",
          "width": 1.3
         },
         "mode": "lines",
         "name": "Num_reviews",
         "text": "",
         "type": "scatter",
         "x": [
          0,
          1,
          2,
          3,
          4,
          5,
          6,
          7,
          8,
          9,
          10,
          11,
          12,
          13,
          14,
          15,
          16,
          17,
          18,
          19,
          20,
          21,
          22,
          23,
          24,
          25,
          26,
          27,
          28,
          29,
          30,
          31,
          32,
          33,
          34,
          35,
          36,
          37,
          38,
          39,
          40,
          41,
          42,
          43,
          44,
          45,
          46,
          47,
          48,
          49,
          50,
          51,
          52,
          53,
          54,
          55,
          56,
          57,
          58,
          59,
          60,
          61,
          62,
          63,
          64,
          65,
          66,
          67,
          68,
          69,
          70,
          71,
          72,
          73,
          74,
          75,
          76,
          77,
          78,
          79,
          80,
          81,
          82,
          83,
          84,
          85,
          86,
          87,
          88,
          89,
          90,
          91,
          92,
          93,
          94,
          95,
          96,
          97,
          98,
          99,
          100,
          101,
          102,
          103,
          104,
          105,
          106,
          107,
          108,
          109,
          110,
          111,
          112,
          113,
          114,
          115,
          116,
          117,
          118,
          119,
          120,
          121,
          122,
          123
         ],
         "y": [
          12270,
          10425,
          5070,
          4035,
          2805,
          2520,
          4350,
          2685,
          4500,
          2190,
          2805,
          3825,
          4200,
          4575,
          2415,
          2895,
          3015,
          3570,
          3090,
          3105,
          3120,
          3930,
          2895,
          4395,
          4575,
          2355,
          3465,
          2895,
          3420,
          2220,
          1890,
          3060,
          2985,
          2340,
          2865,
          1830,
          2100,
          3450,
          3420,
          2430,
          5475,
          2175,
          3705,
          3165,
          2355,
          3300,
          2580,
          2475,
          2115,
          2175,
          2325,
          2070,
          2715,
          3135,
          2460,
          2190,
          1545,
          1185,
          1725,
          1605,
          1950,
          1440,
          2055,
          3465,
          2355,
          2100,
          4020,
          1395,
          2580,
          1680,
          1365,
          1350,
          1620,
          2355,
          1395,
          1680,
          1605,
          1335,
          1665,
          930,
          960,
          1200,
          855,
          1335,
          1245,
          2085,
          2655,
          1890,
          1080,
          1215,
          1755,
          1410,
          1695,
          750,
          1230,
          1755,
          2070,
          975,
          1590,
          1545,
          1725,
          1875,
          1290,
          1095,
          1290,
          1440,
          1650,
          1530,
          2235,
          840,
          1215,
          1305,
          1350,
          930,
          1740,
          1050,
          1545,
          1065,
          810,
          1845,
          1860,
          1410,
          1065,
          660
         ]
        }
       ],
       "layout": {
        "legend": {
         "bgcolor": "#F5F6F9",
         "font": {
          "color": "#4D5663"
         }
        },
        "paper_bgcolor": "#F5F6F9",
        "plot_bgcolor": "#F5F6F9",
        "template": {
         "data": {
          "bar": [
           {
            "error_x": {
             "color": "#2a3f5f"
            },
            "error_y": {
             "color": "#2a3f5f"
            },
            "marker": {
             "line": {
              "color": "#E5ECF6",
              "width": 0.5
             },
             "pattern": {
              "fillmode": "overlay",
              "size": 10,
              "solidity": 0.2
             }
            },
            "type": "bar"
           }
          ],
          "barpolar": [
           {
            "marker": {
             "line": {
              "color": "#E5ECF6",
              "width": 0.5
             },
             "pattern": {
              "fillmode": "overlay",
              "size": 10,
              "solidity": 0.2
             }
            },
            "type": "barpolar"
           }
          ],
          "carpet": [
           {
            "aaxis": {
             "endlinecolor": "#2a3f5f",
             "gridcolor": "white",
             "linecolor": "white",
             "minorgridcolor": "white",
             "startlinecolor": "#2a3f5f"
            },
            "baxis": {
             "endlinecolor": "#2a3f5f",
             "gridcolor": "white",
             "linecolor": "white",
             "minorgridcolor": "white",
             "startlinecolor": "#2a3f5f"
            },
            "type": "carpet"
           }
          ],
          "choropleth": [
           {
            "colorbar": {
             "outlinewidth": 0,
             "ticks": ""
            },
            "type": "choropleth"
           }
          ],
          "contour": [
           {
            "colorbar": {
             "outlinewidth": 0,
             "ticks": ""
            },
            "colorscale": [
             [
              0,
              "#0d0887"
             ],
             [
              0.1111111111111111,
              "#46039f"
             ],
             [
              0.2222222222222222,
              "#7201a8"
             ],
             [
              0.3333333333333333,
              "#9c179e"
             ],
             [
              0.4444444444444444,
              "#bd3786"
             ],
             [
              0.5555555555555556,
              "#d8576b"
             ],
             [
              0.6666666666666666,
              "#ed7953"
             ],
             [
              0.7777777777777778,
              "#fb9f3a"
             ],
             [
              0.8888888888888888,
              "#fdca26"
             ],
             [
              1,
              "#f0f921"
             ]
            ],
            "type": "contour"
           }
          ],
          "contourcarpet": [
           {
            "colorbar": {
             "outlinewidth": 0,
             "ticks": ""
            },
            "type": "contourcarpet"
           }
          ],
          "heatmap": [
           {
            "colorbar": {
             "outlinewidth": 0,
             "ticks": ""
            },
            "colorscale": [
             [
              0,
              "#0d0887"
             ],
             [
              0.1111111111111111,
              "#46039f"
             ],
             [
              0.2222222222222222,
              "#7201a8"
             ],
             [
              0.3333333333333333,
              "#9c179e"
             ],
             [
              0.4444444444444444,
              "#bd3786"
             ],
             [
              0.5555555555555556,
              "#d8576b"
             ],
             [
              0.6666666666666666,
              "#ed7953"
             ],
             [
              0.7777777777777778,
              "#fb9f3a"
             ],
             [
              0.8888888888888888,
              "#fdca26"
             ],
             [
              1,
              "#f0f921"
             ]
            ],
            "type": "heatmap"
           }
          ],
          "heatmapgl": [
           {
            "colorbar": {
             "outlinewidth": 0,
             "ticks": ""
            },
            "colorscale": [
             [
              0,
              "#0d0887"
             ],
             [
              0.1111111111111111,
              "#46039f"
             ],
             [
              0.2222222222222222,
              "#7201a8"
             ],
             [
              0.3333333333333333,
              "#9c179e"
             ],
             [
              0.4444444444444444,
              "#bd3786"
             ],
             [
              0.5555555555555556,
              "#d8576b"
             ],
             [
              0.6666666666666666,
              "#ed7953"
             ],
             [
              0.7777777777777778,
              "#fb9f3a"
             ],
             [
              0.8888888888888888,
              "#fdca26"
             ],
             [
              1,
              "#f0f921"
             ]
            ],
            "type": "heatmapgl"
           }
          ],
          "histogram": [
           {
            "marker": {
             "pattern": {
              "fillmode": "overlay",
              "size": 10,
              "solidity": 0.2
             }
            },
            "type": "histogram"
           }
          ],
          "histogram2d": [
           {
            "colorbar": {
             "outlinewidth": 0,
             "ticks": ""
            },
            "colorscale": [
             [
              0,
              "#0d0887"
             ],
             [
              0.1111111111111111,
              "#46039f"
             ],
             [
              0.2222222222222222,
              "#7201a8"
             ],
             [
              0.3333333333333333,
              "#9c179e"
             ],
             [
              0.4444444444444444,
              "#bd3786"
             ],
             [
              0.5555555555555556,
              "#d8576b"
             ],
             [
              0.6666666666666666,
              "#ed7953"
             ],
             [
              0.7777777777777778,
              "#fb9f3a"
             ],
             [
              0.8888888888888888,
              "#fdca26"
             ],
             [
              1,
              "#f0f921"
             ]
            ],
            "type": "histogram2d"
           }
          ],
          "histogram2dcontour": [
           {
            "colorbar": {
             "outlinewidth": 0,
             "ticks": ""
            },
            "colorscale": [
             [
              0,
              "#0d0887"
             ],
             [
              0.1111111111111111,
              "#46039f"
             ],
             [
              0.2222222222222222,
              "#7201a8"
             ],
             [
              0.3333333333333333,
              "#9c179e"
             ],
             [
              0.4444444444444444,
              "#bd3786"
             ],
             [
              0.5555555555555556,
              "#d8576b"
             ],
             [
              0.6666666666666666,
              "#ed7953"
             ],
             [
              0.7777777777777778,
              "#fb9f3a"
             ],
             [
              0.8888888888888888,
              "#fdca26"
             ],
             [
              1,
              "#f0f921"
             ]
            ],
            "type": "histogram2dcontour"
           }
          ],
          "mesh3d": [
           {
            "colorbar": {
             "outlinewidth": 0,
             "ticks": ""
            },
            "type": "mesh3d"
           }
          ],
          "parcoords": [
           {
            "line": {
             "colorbar": {
              "outlinewidth": 0,
              "ticks": ""
             }
            },
            "type": "parcoords"
           }
          ],
          "pie": [
           {
            "automargin": true,
            "type": "pie"
           }
          ],
          "scatter": [
           {
            "fillpattern": {
             "fillmode": "overlay",
             "size": 10,
             "solidity": 0.2
            },
            "type": "scatter"
           }
          ],
          "scatter3d": [
           {
            "line": {
             "colorbar": {
              "outlinewidth": 0,
              "ticks": ""
             }
            },
            "marker": {
             "colorbar": {
              "outlinewidth": 0,
              "ticks": ""
             }
            },
            "type": "scatter3d"
           }
          ],
          "scattercarpet": [
           {
            "marker": {
             "colorbar": {
              "outlinewidth": 0,
              "ticks": ""
             }
            },
            "type": "scattercarpet"
           }
          ],
          "scattergeo": [
           {
            "marker": {
             "colorbar": {
              "outlinewidth": 0,
              "ticks": ""
             }
            },
            "type": "scattergeo"
           }
          ],
          "scattergl": [
           {
            "marker": {
             "colorbar": {
              "outlinewidth": 0,
              "ticks": ""
             }
            },
            "type": "scattergl"
           }
          ],
          "scattermapbox": [
           {
            "marker": {
             "colorbar": {
              "outlinewidth": 0,
              "ticks": ""
             }
            },
            "type": "scattermapbox"
           }
          ],
          "scatterpolar": [
           {
            "marker": {
             "colorbar": {
              "outlinewidth": 0,
              "ticks": ""
             }
            },
            "type": "scatterpolar"
           }
          ],
          "scatterpolargl": [
           {
            "marker": {
             "colorbar": {
              "outlinewidth": 0,
              "ticks": ""
             }
            },
            "type": "scatterpolargl"
           }
          ],
          "scatterternary": [
           {
            "marker": {
             "colorbar": {
              "outlinewidth": 0,
              "ticks": ""
             }
            },
            "type": "scatterternary"
           }
          ],
          "surface": [
           {
            "colorbar": {
             "outlinewidth": 0,
             "ticks": ""
            },
            "colorscale": [
             [
              0,
              "#0d0887"
             ],
             [
              0.1111111111111111,
              "#46039f"
             ],
             [
              0.2222222222222222,
              "#7201a8"
             ],
             [
              0.3333333333333333,
              "#9c179e"
             ],
             [
              0.4444444444444444,
              "#bd3786"
             ],
             [
              0.5555555555555556,
              "#d8576b"
             ],
             [
              0.6666666666666666,
              "#ed7953"
             ],
             [
              0.7777777777777778,
              "#fb9f3a"
             ],
             [
              0.8888888888888888,
              "#fdca26"
             ],
             [
              1,
              "#f0f921"
             ]
            ],
            "type": "surface"
           }
          ],
          "table": [
           {
            "cells": {
             "fill": {
              "color": "#EBF0F8"
             },
             "line": {
              "color": "white"
             }
            },
            "header": {
             "fill": {
              "color": "#C8D4E3"
             },
             "line": {
              "color": "white"
             }
            },
            "type": "table"
           }
          ]
         },
         "layout": {
          "annotationdefaults": {
           "arrowcolor": "#2a3f5f",
           "arrowhead": 0,
           "arrowwidth": 1
          },
          "autotypenumbers": "strict",
          "coloraxis": {
           "colorbar": {
            "outlinewidth": 0,
            "ticks": ""
           }
          },
          "colorscale": {
           "diverging": [
            [
             0,
             "#8e0152"
            ],
            [
             0.1,
             "#c51b7d"
            ],
            [
             0.2,
             "#de77ae"
            ],
            [
             0.3,
             "#f1b6da"
            ],
            [
             0.4,
             "#fde0ef"
            ],
            [
             0.5,
             "#f7f7f7"
            ],
            [
             0.6,
             "#e6f5d0"
            ],
            [
             0.7,
             "#b8e186"
            ],
            [
             0.8,
             "#7fbc41"
            ],
            [
             0.9,
             "#4d9221"
            ],
            [
             1,
             "#276419"
            ]
           ],
           "sequential": [
            [
             0,
             "#0d0887"
            ],
            [
             0.1111111111111111,
             "#46039f"
            ],
            [
             0.2222222222222222,
             "#7201a8"
            ],
            [
             0.3333333333333333,
             "#9c179e"
            ],
            [
             0.4444444444444444,
             "#bd3786"
            ],
            [
             0.5555555555555556,
             "#d8576b"
            ],
            [
             0.6666666666666666,
             "#ed7953"
            ],
            [
             0.7777777777777778,
             "#fb9f3a"
            ],
            [
             0.8888888888888888,
             "#fdca26"
            ],
            [
             1,
             "#f0f921"
            ]
           ],
           "sequentialminus": [
            [
             0,
             "#0d0887"
            ],
            [
             0.1111111111111111,
             "#46039f"
            ],
            [
             0.2222222222222222,
             "#7201a8"
            ],
            [
             0.3333333333333333,
             "#9c179e"
            ],
            [
             0.4444444444444444,
             "#bd3786"
            ],
            [
             0.5555555555555556,
             "#d8576b"
            ],
            [
             0.6666666666666666,
             "#ed7953"
            ],
            [
             0.7777777777777778,
             "#fb9f3a"
            ],
            [
             0.8888888888888888,
             "#fdca26"
            ],
            [
             1,
             "#f0f921"
            ]
           ]
          },
          "colorway": [
           "#636efa",
           "#EF553B",
           "#00cc96",
           "#ab63fa",
           "#FFA15A",
           "#19d3f3",
           "#FF6692",
           "#B6E880",
           "#FF97FF",
           "#FECB52"
          ],
          "font": {
           "color": "#2a3f5f"
          },
          "geo": {
           "bgcolor": "white",
           "lakecolor": "white",
           "landcolor": "#E5ECF6",
           "showlakes": true,
           "showland": true,
           "subunitcolor": "white"
          },
          "hoverlabel": {
           "align": "left"
          },
          "hovermode": "closest",
          "mapbox": {
           "style": "light"
          },
          "paper_bgcolor": "white",
          "plot_bgcolor": "#E5ECF6",
          "polar": {
           "angularaxis": {
            "gridcolor": "white",
            "linecolor": "white",
            "ticks": ""
           },
           "bgcolor": "#E5ECF6",
           "radialaxis": {
            "gridcolor": "white",
            "linecolor": "white",
            "ticks": ""
           }
          },
          "scene": {
           "xaxis": {
            "backgroundcolor": "#E5ECF6",
            "gridcolor": "white",
            "gridwidth": 2,
            "linecolor": "white",
            "showbackground": true,
            "ticks": "",
            "zerolinecolor": "white"
           },
           "yaxis": {
            "backgroundcolor": "#E5ECF6",
            "gridcolor": "white",
            "gridwidth": 2,
            "linecolor": "white",
            "showbackground": true,
            "ticks": "",
            "zerolinecolor": "white"
           },
           "zaxis": {
            "backgroundcolor": "#E5ECF6",
            "gridcolor": "white",
            "gridwidth": 2,
            "linecolor": "white",
            "showbackground": true,
            "ticks": "",
            "zerolinecolor": "white"
           }
          },
          "shapedefaults": {
           "line": {
            "color": "#2a3f5f"
           }
          },
          "ternary": {
           "aaxis": {
            "gridcolor": "white",
            "linecolor": "white",
            "ticks": ""
           },
           "baxis": {
            "gridcolor": "white",
            "linecolor": "white",
            "ticks": ""
           },
           "bgcolor": "#E5ECF6",
           "caxis": {
            "gridcolor": "white",
            "linecolor": "white",
            "ticks": ""
           }
          },
          "title": {
           "x": 0.05
          },
          "xaxis": {
           "automargin": true,
           "gridcolor": "white",
           "linecolor": "white",
           "ticks": "",
           "title": {
            "standoff": 15
           },
           "zerolinecolor": "white",
           "zerolinewidth": 2
          },
          "yaxis": {
           "automargin": true,
           "gridcolor": "white",
           "linecolor": "white",
           "ticks": "",
           "title": {
            "standoff": 15
           },
           "zerolinecolor": "white",
           "zerolinewidth": 2
          }
         }
        },
        "title": {
         "font": {
          "color": "#4D5663"
         },
         "text": "전지적 독자 시점 에피소드별 댓글 수"
        },
        "xaxis": {
         "gridcolor": "#E1E5ED",
         "showgrid": true,
         "tickfont": {
          "color": "#4D5663"
         },
         "title": {
          "font": {
           "color": "#4D5663"
          },
          "text": "에피소드"
         },
         "zerolinecolor": "#E1E5ED"
        },
        "yaxis": {
         "gridcolor": "#E1E5ED",
         "showgrid": true,
         "tickfont": {
          "color": "#4D5663"
         },
         "title": {
          "font": {
           "color": "#4D5663"
          },
          "text": "댓글 수"
         },
         "zerolinecolor": "#E1E5ED"
        }
       }
      },
      "text/html": [
       "<div>                            <div id=\"3ee4010d-a763-43b4-819f-04ed30873e51\" class=\"plotly-graph-div\" style=\"height:525px; width:100%;\"></div>            <script type=\"text/javascript\">                require([\"plotly\"], function(Plotly) {                    window.PLOTLYENV=window.PLOTLYENV || {};                                    if (document.getElementById(\"3ee4010d-a763-43b4-819f-04ed30873e51\")) {                    Plotly.newPlot(                        \"3ee4010d-a763-43b4-819f-04ed30873e51\",                        [{\"line\":{\"color\":\"rgba(255, 153, 51, 1.0)\",\"dash\":\"solid\",\"shape\":\"linear\",\"width\":1.3},\"mode\":\"lines\",\"name\":\"Episode\",\"text\":\"\",\"x\":[0,1,2,3,4,5,6,7,8,9,10,11,12,13,14,15,16,17,18,19,20,21,22,23,24,25,26,27,28,29,30,31,32,33,34,35,36,37,38,39,40,41,42,43,44,45,46,47,48,49,50,51,52,53,54,55,56,57,58,59,60,61,62,63,64,65,66,67,68,69,70,71,72,73,74,75,76,77,78,79,80,81,82,83,84,85,86,87,88,89,90,91,92,93,94,95,96,97,98,99,100,101,102,103,104,105,106,107,108,109,110,111,112,113,114,115,116,117,118,119,120,121,122,123],\"y\":[1,2,3,4,5,6,7,8,9,10,11,12,13,14,15,16,17,18,19,20,21,22,23,24,25,26,27,28,29,30,31,32,33,34,35,36,37,38,39,40,41,42,43,44,45,46,47,48,49,50,51,52,53,54,55,56,57,58,59,60,61,62,63,64,65,66,67,68,69,70,71,72,73,74,75,76,77,78,79,80,81,82,83,84,85,86,87,88,89,90,91,92,93,94,95,96,97,98,99,100,101,102,103,104,105,106,107,108,109,110,111,112,113,114,115,116,117,118,119,120,121,122,123,124],\"type\":\"scatter\"},{\"line\":{\"color\":\"rgba(55, 128, 191, 1.0)\",\"dash\":\"solid\",\"shape\":\"linear\",\"width\":1.3},\"mode\":\"lines\",\"name\":\"Num_reviews\",\"text\":\"\",\"x\":[0,1,2,3,4,5,6,7,8,9,10,11,12,13,14,15,16,17,18,19,20,21,22,23,24,25,26,27,28,29,30,31,32,33,34,35,36,37,38,39,40,41,42,43,44,45,46,47,48,49,50,51,52,53,54,55,56,57,58,59,60,61,62,63,64,65,66,67,68,69,70,71,72,73,74,75,76,77,78,79,80,81,82,83,84,85,86,87,88,89,90,91,92,93,94,95,96,97,98,99,100,101,102,103,104,105,106,107,108,109,110,111,112,113,114,115,116,117,118,119,120,121,122,123],\"y\":[12270,10425,5070,4035,2805,2520,4350,2685,4500,2190,2805,3825,4200,4575,2415,2895,3015,3570,3090,3105,3120,3930,2895,4395,4575,2355,3465,2895,3420,2220,1890,3060,2985,2340,2865,1830,2100,3450,3420,2430,5475,2175,3705,3165,2355,3300,2580,2475,2115,2175,2325,2070,2715,3135,2460,2190,1545,1185,1725,1605,1950,1440,2055,3465,2355,2100,4020,1395,2580,1680,1365,1350,1620,2355,1395,1680,1605,1335,1665,930,960,1200,855,1335,1245,2085,2655,1890,1080,1215,1755,1410,1695,750,1230,1755,2070,975,1590,1545,1725,1875,1290,1095,1290,1440,1650,1530,2235,840,1215,1305,1350,930,1740,1050,1545,1065,810,1845,1860,1410,1065,660],\"type\":\"scatter\"}],                        {\"legend\":{\"bgcolor\":\"#F5F6F9\",\"font\":{\"color\":\"#4D5663\"}},\"paper_bgcolor\":\"#F5F6F9\",\"plot_bgcolor\":\"#F5F6F9\",\"title\":{\"text\":\"\\uc804\\uc9c0\\uc801 \\ub3c5\\uc790 \\uc2dc\\uc810 \\uc5d0\\ud53c\\uc18c\\ub4dc\\ubcc4 \\ub313\\uae00 \\uc218\",\"font\":{\"color\":\"#4D5663\"}},\"xaxis\":{\"gridcolor\":\"#E1E5ED\",\"showgrid\":true,\"tickfont\":{\"color\":\"#4D5663\"},\"title\":{\"text\":\"\\uc5d0\\ud53c\\uc18c\\ub4dc\",\"font\":{\"color\":\"#4D5663\"}},\"zerolinecolor\":\"#E1E5ED\"},\"yaxis\":{\"gridcolor\":\"#E1E5ED\",\"showgrid\":true,\"tickfont\":{\"color\":\"#4D5663\"},\"title\":{\"text\":\"\\ub313\\uae00 \\uc218\",\"font\":{\"color\":\"#4D5663\"}},\"zerolinecolor\":\"#E1E5ED\"},\"template\":{\"data\":{\"histogram2dcontour\":[{\"type\":\"histogram2dcontour\",\"colorbar\":{\"outlinewidth\":0,\"ticks\":\"\"},\"colorscale\":[[0.0,\"#0d0887\"],[0.1111111111111111,\"#46039f\"],[0.2222222222222222,\"#7201a8\"],[0.3333333333333333,\"#9c179e\"],[0.4444444444444444,\"#bd3786\"],[0.5555555555555556,\"#d8576b\"],[0.6666666666666666,\"#ed7953\"],[0.7777777777777778,\"#fb9f3a\"],[0.8888888888888888,\"#fdca26\"],[1.0,\"#f0f921\"]]}],\"choropleth\":[{\"type\":\"choropleth\",\"colorbar\":{\"outlinewidth\":0,\"ticks\":\"\"}}],\"histogram2d\":[{\"type\":\"histogram2d\",\"colorbar\":{\"outlinewidth\":0,\"ticks\":\"\"},\"colorscale\":[[0.0,\"#0d0887\"],[0.1111111111111111,\"#46039f\"],[0.2222222222222222,\"#7201a8\"],[0.3333333333333333,\"#9c179e\"],[0.4444444444444444,\"#bd3786\"],[0.5555555555555556,\"#d8576b\"],[0.6666666666666666,\"#ed7953\"],[0.7777777777777778,\"#fb9f3a\"],[0.8888888888888888,\"#fdca26\"],[1.0,\"#f0f921\"]]}],\"heatmap\":[{\"type\":\"heatmap\",\"colorbar\":{\"outlinewidth\":0,\"ticks\":\"\"},\"colorscale\":[[0.0,\"#0d0887\"],[0.1111111111111111,\"#46039f\"],[0.2222222222222222,\"#7201a8\"],[0.3333333333333333,\"#9c179e\"],[0.4444444444444444,\"#bd3786\"],[0.5555555555555556,\"#d8576b\"],[0.6666666666666666,\"#ed7953\"],[0.7777777777777778,\"#fb9f3a\"],[0.8888888888888888,\"#fdca26\"],[1.0,\"#f0f921\"]]}],\"heatmapgl\":[{\"type\":\"heatmapgl\",\"colorbar\":{\"outlinewidth\":0,\"ticks\":\"\"},\"colorscale\":[[0.0,\"#0d0887\"],[0.1111111111111111,\"#46039f\"],[0.2222222222222222,\"#7201a8\"],[0.3333333333333333,\"#9c179e\"],[0.4444444444444444,\"#bd3786\"],[0.5555555555555556,\"#d8576b\"],[0.6666666666666666,\"#ed7953\"],[0.7777777777777778,\"#fb9f3a\"],[0.8888888888888888,\"#fdca26\"],[1.0,\"#f0f921\"]]}],\"contourcarpet\":[{\"type\":\"contourcarpet\",\"colorbar\":{\"outlinewidth\":0,\"ticks\":\"\"}}],\"contour\":[{\"type\":\"contour\",\"colorbar\":{\"outlinewidth\":0,\"ticks\":\"\"},\"colorscale\":[[0.0,\"#0d0887\"],[0.1111111111111111,\"#46039f\"],[0.2222222222222222,\"#7201a8\"],[0.3333333333333333,\"#9c179e\"],[0.4444444444444444,\"#bd3786\"],[0.5555555555555556,\"#d8576b\"],[0.6666666666666666,\"#ed7953\"],[0.7777777777777778,\"#fb9f3a\"],[0.8888888888888888,\"#fdca26\"],[1.0,\"#f0f921\"]]}],\"surface\":[{\"type\":\"surface\",\"colorbar\":{\"outlinewidth\":0,\"ticks\":\"\"},\"colorscale\":[[0.0,\"#0d0887\"],[0.1111111111111111,\"#46039f\"],[0.2222222222222222,\"#7201a8\"],[0.3333333333333333,\"#9c179e\"],[0.4444444444444444,\"#bd3786\"],[0.5555555555555556,\"#d8576b\"],[0.6666666666666666,\"#ed7953\"],[0.7777777777777778,\"#fb9f3a\"],[0.8888888888888888,\"#fdca26\"],[1.0,\"#f0f921\"]]}],\"mesh3d\":[{\"type\":\"mesh3d\",\"colorbar\":{\"outlinewidth\":0,\"ticks\":\"\"}}],\"scatter\":[{\"fillpattern\":{\"fillmode\":\"overlay\",\"size\":10,\"solidity\":0.2},\"type\":\"scatter\"}],\"parcoords\":[{\"type\":\"parcoords\",\"line\":{\"colorbar\":{\"outlinewidth\":0,\"ticks\":\"\"}}}],\"scatterpolargl\":[{\"type\":\"scatterpolargl\",\"marker\":{\"colorbar\":{\"outlinewidth\":0,\"ticks\":\"\"}}}],\"bar\":[{\"error_x\":{\"color\":\"#2a3f5f\"},\"error_y\":{\"color\":\"#2a3f5f\"},\"marker\":{\"line\":{\"color\":\"#E5ECF6\",\"width\":0.5},\"pattern\":{\"fillmode\":\"overlay\",\"size\":10,\"solidity\":0.2}},\"type\":\"bar\"}],\"scattergeo\":[{\"type\":\"scattergeo\",\"marker\":{\"colorbar\":{\"outlinewidth\":0,\"ticks\":\"\"}}}],\"scatterpolar\":[{\"type\":\"scatterpolar\",\"marker\":{\"colorbar\":{\"outlinewidth\":0,\"ticks\":\"\"}}}],\"histogram\":[{\"marker\":{\"pattern\":{\"fillmode\":\"overlay\",\"size\":10,\"solidity\":0.2}},\"type\":\"histogram\"}],\"scattergl\":[{\"type\":\"scattergl\",\"marker\":{\"colorbar\":{\"outlinewidth\":0,\"ticks\":\"\"}}}],\"scatter3d\":[{\"type\":\"scatter3d\",\"line\":{\"colorbar\":{\"outlinewidth\":0,\"ticks\":\"\"}},\"marker\":{\"colorbar\":{\"outlinewidth\":0,\"ticks\":\"\"}}}],\"scattermapbox\":[{\"type\":\"scattermapbox\",\"marker\":{\"colorbar\":{\"outlinewidth\":0,\"ticks\":\"\"}}}],\"scatterternary\":[{\"type\":\"scatterternary\",\"marker\":{\"colorbar\":{\"outlinewidth\":0,\"ticks\":\"\"}}}],\"scattercarpet\":[{\"type\":\"scattercarpet\",\"marker\":{\"colorbar\":{\"outlinewidth\":0,\"ticks\":\"\"}}}],\"carpet\":[{\"aaxis\":{\"endlinecolor\":\"#2a3f5f\",\"gridcolor\":\"white\",\"linecolor\":\"white\",\"minorgridcolor\":\"white\",\"startlinecolor\":\"#2a3f5f\"},\"baxis\":{\"endlinecolor\":\"#2a3f5f\",\"gridcolor\":\"white\",\"linecolor\":\"white\",\"minorgridcolor\":\"white\",\"startlinecolor\":\"#2a3f5f\"},\"type\":\"carpet\"}],\"table\":[{\"cells\":{\"fill\":{\"color\":\"#EBF0F8\"},\"line\":{\"color\":\"white\"}},\"header\":{\"fill\":{\"color\":\"#C8D4E3\"},\"line\":{\"color\":\"white\"}},\"type\":\"table\"}],\"barpolar\":[{\"marker\":{\"line\":{\"color\":\"#E5ECF6\",\"width\":0.5},\"pattern\":{\"fillmode\":\"overlay\",\"size\":10,\"solidity\":0.2}},\"type\":\"barpolar\"}],\"pie\":[{\"automargin\":true,\"type\":\"pie\"}]},\"layout\":{\"autotypenumbers\":\"strict\",\"colorway\":[\"#636efa\",\"#EF553B\",\"#00cc96\",\"#ab63fa\",\"#FFA15A\",\"#19d3f3\",\"#FF6692\",\"#B6E880\",\"#FF97FF\",\"#FECB52\"],\"font\":{\"color\":\"#2a3f5f\"},\"hovermode\":\"closest\",\"hoverlabel\":{\"align\":\"left\"},\"paper_bgcolor\":\"white\",\"plot_bgcolor\":\"#E5ECF6\",\"polar\":{\"bgcolor\":\"#E5ECF6\",\"angularaxis\":{\"gridcolor\":\"white\",\"linecolor\":\"white\",\"ticks\":\"\"},\"radialaxis\":{\"gridcolor\":\"white\",\"linecolor\":\"white\",\"ticks\":\"\"}},\"ternary\":{\"bgcolor\":\"#E5ECF6\",\"aaxis\":{\"gridcolor\":\"white\",\"linecolor\":\"white\",\"ticks\":\"\"},\"baxis\":{\"gridcolor\":\"white\",\"linecolor\":\"white\",\"ticks\":\"\"},\"caxis\":{\"gridcolor\":\"white\",\"linecolor\":\"white\",\"ticks\":\"\"}},\"coloraxis\":{\"colorbar\":{\"outlinewidth\":0,\"ticks\":\"\"}},\"colorscale\":{\"sequential\":[[0.0,\"#0d0887\"],[0.1111111111111111,\"#46039f\"],[0.2222222222222222,\"#7201a8\"],[0.3333333333333333,\"#9c179e\"],[0.4444444444444444,\"#bd3786\"],[0.5555555555555556,\"#d8576b\"],[0.6666666666666666,\"#ed7953\"],[0.7777777777777778,\"#fb9f3a\"],[0.8888888888888888,\"#fdca26\"],[1.0,\"#f0f921\"]],\"sequentialminus\":[[0.0,\"#0d0887\"],[0.1111111111111111,\"#46039f\"],[0.2222222222222222,\"#7201a8\"],[0.3333333333333333,\"#9c179e\"],[0.4444444444444444,\"#bd3786\"],[0.5555555555555556,\"#d8576b\"],[0.6666666666666666,\"#ed7953\"],[0.7777777777777778,\"#fb9f3a\"],[0.8888888888888888,\"#fdca26\"],[1.0,\"#f0f921\"]],\"diverging\":[[0,\"#8e0152\"],[0.1,\"#c51b7d\"],[0.2,\"#de77ae\"],[0.3,\"#f1b6da\"],[0.4,\"#fde0ef\"],[0.5,\"#f7f7f7\"],[0.6,\"#e6f5d0\"],[0.7,\"#b8e186\"],[0.8,\"#7fbc41\"],[0.9,\"#4d9221\"],[1,\"#276419\"]]},\"xaxis\":{\"gridcolor\":\"white\",\"linecolor\":\"white\",\"ticks\":\"\",\"title\":{\"standoff\":15},\"zerolinecolor\":\"white\",\"automargin\":true,\"zerolinewidth\":2},\"yaxis\":{\"gridcolor\":\"white\",\"linecolor\":\"white\",\"ticks\":\"\",\"title\":{\"standoff\":15},\"zerolinecolor\":\"white\",\"automargin\":true,\"zerolinewidth\":2},\"scene\":{\"xaxis\":{\"backgroundcolor\":\"#E5ECF6\",\"gridcolor\":\"white\",\"linecolor\":\"white\",\"showbackground\":true,\"ticks\":\"\",\"zerolinecolor\":\"white\",\"gridwidth\":2},\"yaxis\":{\"backgroundcolor\":\"#E5ECF6\",\"gridcolor\":\"white\",\"linecolor\":\"white\",\"showbackground\":true,\"ticks\":\"\",\"zerolinecolor\":\"white\",\"gridwidth\":2},\"zaxis\":{\"backgroundcolor\":\"#E5ECF6\",\"gridcolor\":\"white\",\"linecolor\":\"white\",\"showbackground\":true,\"ticks\":\"\",\"zerolinecolor\":\"white\",\"gridwidth\":2}},\"shapedefaults\":{\"line\":{\"color\":\"#2a3f5f\"}},\"annotationdefaults\":{\"arrowcolor\":\"#2a3f5f\",\"arrowhead\":0,\"arrowwidth\":1},\"geo\":{\"bgcolor\":\"white\",\"landcolor\":\"#E5ECF6\",\"subunitcolor\":\"white\",\"showland\":true,\"showlakes\":true,\"lakecolor\":\"white\"},\"title\":{\"x\":0.05},\"mapbox\":{\"style\":\"light\"}}}},                        {\"responsive\": true}                    ).then(function(){\n",
       "                            \n",
       "var gd = document.getElementById('3ee4010d-a763-43b4-819f-04ed30873e51');\n",
       "var x = new MutationObserver(function (mutations, observer) {{\n",
       "        var display = window.getComputedStyle(gd).display;\n",
       "        if (!display || display === 'none') {{\n",
       "            console.log([gd, 'removed!']);\n",
       "            Plotly.purge(gd);\n",
       "            observer.disconnect();\n",
       "        }}\n",
       "}});\n",
       "\n",
       "// Listen for the removal of the full notebook cells\n",
       "var notebookContainer = gd.closest('#notebook-container');\n",
       "if (notebookContainer) {{\n",
       "    x.observe(notebookContainer, {childList: true});\n",
       "}}\n",
       "\n",
       "// Listen for the clearing of the current output cell\n",
       "var outputEl = gd.closest('.output');\n",
       "if (outputEl) {{\n",
       "    x.observe(outputEl, {childList: true});\n",
       "}}\n",
       "\n",
       "                        })                };                });            </script>        </div>"
      ]
     },
     "metadata": {},
     "output_type": "display_data"
    }
   ],
   "source": [
    "fig = df.iplot(kind='line',\n",
    "                labels = \"Episode\", \n",
    "                values=\"Num_reviews\", textinfo=\"percent+label\",\n",
    "                title= '전지적 독자 시점 에피소드별 댓글 수', hole = 0.5, asFigure=True,\n",
    "                xTitle ='에피소드',\n",
    "                yTitle ='댓글 수',\n",
    "              )\n",
    "#     filename = './data/'+ word + '.html'   \n",
    "#plotly.offline.plot(fig,filename=filename)\n",
    "fig.show()"
   ]
  }
 ],
 "metadata": {
  "kernelspec": {
   "display_name": "Python 3",
   "language": "python",
   "name": "python3"
  },
  "language_info": {
   "codemirror_mode": {
    "name": "ipython",
    "version": 3
   },
   "file_extension": ".py",
   "mimetype": "text/x-python",
   "name": "python",
   "nbconvert_exporter": "python",
   "pygments_lexer": "ipython3",
   "version": "3.8.8"
  }
 },
 "nbformat": 4,
 "nbformat_minor": 5
}
